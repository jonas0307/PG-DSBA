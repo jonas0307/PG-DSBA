{
 "cells": [
  {
   "cell_type": "code",
   "execution_count": 1,
   "id": "66d85831",
   "metadata": {},
   "outputs": [
    {
     "name": "stdout",
     "output_type": "stream",
     "text": [
      "hello world\n"
     ]
    }
   ],
   "source": [
    "print(\"hello world\")"
   ]
  },
  {
   "cell_type": "code",
   "execution_count": 1,
   "id": "960343eb",
   "metadata": {},
   "outputs": [
    {
     "name": "stdout",
     "output_type": "stream",
     "text": [
      "Please enter your name: Jonathan\n",
      "Please enter your age: 41\n",
      "Your name is:  Jonathan\n",
      "Your are:  41 years old\n"
     ]
    }
   ],
   "source": [
    "name = input(\"Please enter your name: \")\n",
    "age = int(input(\"Please enter your age: \"))\n",
    "print(\"Your name is: \",name)\n",
    "print(\"Your are: \",age,\"years old\")\n"
   ]
  },
  {
   "cell_type": "code",
   "execution_count": 1,
   "id": "b12a74d7",
   "metadata": {},
   "outputs": [
    {
     "name": "stdout",
     "output_type": "stream",
     "text": [
      "5\n"
     ]
    }
   ],
   "source": [
    "print (2 + 3)"
   ]
  },
  {
   "cell_type": "code",
   "execution_count": 2,
   "id": "e32b6590",
   "metadata": {},
   "outputs": [
    {
     "data": {
      "text/plain": [
       "['Summer', 'June']"
      ]
     },
     "execution_count": 2,
     "metadata": {},
     "output_type": "execute_result"
    }
   ],
   "source": [
    "name = ['John', 'Nick', 'Summer', 'June', 'Jack', 'Mike']\n",
    "name[2:4]"
   ]
  },
  {
   "cell_type": "code",
   "execution_count": 3,
   "id": "077645e1",
   "metadata": {},
   "outputs": [
    {
     "data": {
      "text/plain": [
       "78.0"
      ]
     },
     "execution_count": 3,
     "metadata": {},
     "output_type": "execute_result"
    }
   ],
   "source": [
    "float(78)"
   ]
  },
  {
   "cell_type": "code",
   "execution_count": 4,
   "id": "b18f578d",
   "metadata": {},
   "outputs": [
    {
     "name": "stdout",
     "output_type": "stream",
     "text": [
      "Jack\n",
      "Summer\n",
      "June\n"
     ]
    }
   ],
   "source": [
    "name_age = {'Jack':20, 'Summer':25, 'June':30}\n",
    "for i in name_age:\n",
    "  print(i)"
   ]
  },
  {
   "cell_type": "code",
   "execution_count": 7,
   "id": "18af8359",
   "metadata": {},
   "outputs": [
    {
     "data": {
      "text/plain": [
       "[1, 4, 20, 34, 60.7, 66]"
      ]
     },
     "execution_count": 7,
     "metadata": {},
     "output_type": "execute_result"
    }
   ],
   "source": [
    "my_tuple = (34, 20, 60.7, 4, 66, 1)\n",
    "sorted(my_tuple)"
   ]
  },
  {
   "cell_type": "code",
   "execution_count": null,
   "id": "28640e61",
   "metadata": {},
   "outputs": [],
   "source": []
  }
 ],
 "metadata": {
  "kernelspec": {
   "display_name": "Python 3 (ipykernel)",
   "language": "python",
   "name": "python3"
  },
  "language_info": {
   "codemirror_mode": {
    "name": "ipython",
    "version": 3
   },
   "file_extension": ".py",
   "mimetype": "text/x-python",
   "name": "python",
   "nbconvert_exporter": "python",
   "pygments_lexer": "ipython3",
   "version": "3.9.7"
  }
 },
 "nbformat": 4,
 "nbformat_minor": 5
}
