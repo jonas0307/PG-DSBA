{
 "cells": [
  {
   "cell_type": "markdown",
   "metadata": {
    "toc": true
   },
   "source": [
    "<h1>Table of Contents<span class=\"tocSkip\"></span></h1>\n",
    "<div class=\"toc\"><ul class=\"toc-item\"><li><span><a href=\"#Context\" data-toc-modified-id=\"Context-1\"><span class=\"toc-item-num\">1&nbsp;&nbsp;</span>Context</a></span></li><li><span><a href=\"#Objective\" data-toc-modified-id=\"Objective-2\"><span class=\"toc-item-num\">2&nbsp;&nbsp;</span>Objective</a></span></li><li><span><a href=\"#Data-Description\" data-toc-modified-id=\"Data-Description-3\"><span class=\"toc-item-num\">3&nbsp;&nbsp;</span>Data Description</a></span></li><li><span><a href=\"#Data-Dictionary\" data-toc-modified-id=\"Data-Dictionary-4\"><span class=\"toc-item-num\">4&nbsp;&nbsp;</span>Data Dictionary</a></span></li><li><span><a href=\"#Let-us-start-by-importing-the-required-libraries\" data-toc-modified-id=\"Let-us-start-by-importing-the-required-libraries-5\"><span class=\"toc-item-num\">5&nbsp;&nbsp;</span>Let us start by importing the required libraries</a></span></li><li><span><a href=\"#Understanding-the-structure-of-the-data\" data-toc-modified-id=\"Understanding-the-structure-of-the-data-6\"><span class=\"toc-item-num\">6&nbsp;&nbsp;</span>Understanding the structure of the data</a></span><ul class=\"toc-item\"><li><span><a href=\"#Observations:\" data-toc-modified-id=\"Observations:-6.1\"><span class=\"toc-item-num\">6.1&nbsp;&nbsp;</span>Observations:</a></span></li></ul></li><li><span><a href=\"#Question-1:-How-many-rows-and-columns-are-present-in-the-data?-[0.5-mark]\" data-toc-modified-id=\"Question-1:-How-many-rows-and-columns-are-present-in-the-data?-[0.5-mark]-7\"><span class=\"toc-item-num\">7&nbsp;&nbsp;</span><strong>Question 1:</strong> How many rows and columns are present in the data? [0.5 mark]</a></span><ul class=\"toc-item\"><li><span><a href=\"#Observations:\" data-toc-modified-id=\"Observations:-7.1\"><span class=\"toc-item-num\">7.1&nbsp;&nbsp;</span>Observations:</a></span></li></ul></li><li><span><a href=\"#Question-2:-What-are-the-datatypes-of-the-different-columns-in-the-dataset?-(The-info()-function-can-be-used)-[0.5-mark]\" data-toc-modified-id=\"Question-2:-What-are-the-datatypes-of-the-different-columns-in-the-dataset?-(The-info()-function-can-be-used)-[0.5-mark]-8\"><span class=\"toc-item-num\">8&nbsp;&nbsp;</span><strong>Question 2:</strong> What are the datatypes of the different columns in the dataset? (The info() function can be used) [0.5 mark]</a></span><ul class=\"toc-item\"><li><span><a href=\"#Observations:\" data-toc-modified-id=\"Observations:-8.1\"><span class=\"toc-item-num\">8.1&nbsp;&nbsp;</span>Observations:</a></span></li><li><span><a href=\"#ADEL-ADD-ON:-creating-the-total-time-variable-and-the-ratio-cost-to-preparation-time\" data-toc-modified-id=\"ADEL-ADD-ON:-creating-the-total-time-variable-and-the-ratio-cost-to-preparation-time-8.2\"><span class=\"toc-item-num\">8.2&nbsp;&nbsp;</span>ADEL ADD-ON: creating the total time variable and the ratio cost to preparation time</a></span></li></ul></li><li><span><a href=\"#Question-3:-Are-there-any-missing-values-in-the-data-?-if-yes,-treat-them-using-an-apprpriate-method.-[1-mark]\" data-toc-modified-id=\"Question-3:-Are-there-any-missing-values-in-the-data-?-if-yes,-treat-them-using-an-apprpriate-method.-[1-mark]-9\"><span class=\"toc-item-num\">9&nbsp;&nbsp;</span><strong>Question 3: Are there any missing values in the data ? if yes, treat them using an apprpriate method. [1 mark]</strong></a></span></li><li><span><a href=\"#Question-4:-Check-the-statistical-summary-of-the-data.-What-is-the-minimum,-average,-and-maximum-time-it-takes-for-food-to-be-prepared-once-an-order-is-placed?-[2-marks]\" data-toc-modified-id=\"Question-4:-Check-the-statistical-summary-of-the-data.-What-is-the-minimum,-average,-and-maximum-time-it-takes-for-food-to-be-prepared-once-an-order-is-placed?-[2-marks]-10\"><span class=\"toc-item-num\">10&nbsp;&nbsp;</span><strong>Question 4:</strong> Check the statistical summary of the data. What is the minimum, average, and maximum time it takes for food to be prepared once an order is placed? [2 marks]</a></span><ul class=\"toc-item\"><li><span><a href=\"#Observations:\" data-toc-modified-id=\"Observations:-10.1\"><span class=\"toc-item-num\">10.1&nbsp;&nbsp;</span>Observations:</a></span></li></ul></li><li><span><a href=\"#Question-5:-How-many-orders-are-not-rated?-[1-mark]\" data-toc-modified-id=\"Question-5:-How-many-orders-are-not-rated?-[1-mark]-11\"><span class=\"toc-item-num\">11&nbsp;&nbsp;</span><strong>Question 5:</strong> How many orders are not rated? [1 mark]</a></span><ul class=\"toc-item\"><li><span><a href=\"#Observations:\" data-toc-modified-id=\"Observations:-11.1\"><span class=\"toc-item-num\">11.1&nbsp;&nbsp;</span>Observations:</a></span></li></ul></li><li><span><a href=\"#Exploratory-Data-Analysis-(EDA)\" data-toc-modified-id=\"Exploratory-Data-Analysis-(EDA)-12\"><span class=\"toc-item-num\">12&nbsp;&nbsp;</span>Exploratory Data Analysis (EDA)</a></span></li><li><span><a href=\"#Univariate-Analysis\" data-toc-modified-id=\"Univariate-Analysis-13\"><span class=\"toc-item-num\">13&nbsp;&nbsp;</span>Univariate Analysis</a></span></li><li><span><a href=\"#Question-6:-Explore-all-the-variables-and-provide-observations-on-their-distributions.-(Generally,-histograms,-boxplots,-countplots,-etc.-are-used-for-univariate-exploration.)-[9-marks]\" data-toc-modified-id=\"Question-6:-Explore-all-the-variables-and-provide-observations-on-their-distributions.-(Generally,-histograms,-boxplots,-countplots,-etc.-are-used-for-univariate-exploration.)-[9-marks]-14\"><span class=\"toc-item-num\">14&nbsp;&nbsp;</span><strong>Question 6:</strong> Explore all the variables and provide observations on their distributions. (Generally, histograms, boxplots, countplots, etc. are used for univariate exploration.) [9 marks]</a></span><ul class=\"toc-item\"><li><span><a href=\"#Helper-functions\" data-toc-modified-id=\"Helper-functions-14.1\"><span class=\"toc-item-num\">14.1&nbsp;&nbsp;</span>Helper functions</a></span></li><li><span><a href=\"#Numerical-Variables\" data-toc-modified-id=\"Numerical-Variables-14.2\"><span class=\"toc-item-num\">14.2&nbsp;&nbsp;</span>Numerical Variables</a></span><ul class=\"toc-item\"><li><span><a href=\"#Order-ID\" data-toc-modified-id=\"Order-ID-14.2.1\"><span class=\"toc-item-num\">14.2.1&nbsp;&nbsp;</span>Order ID</a></span></li><li><span><a href=\"#Customer-ID\" data-toc-modified-id=\"Customer-ID-14.2.2\"><span class=\"toc-item-num\">14.2.2&nbsp;&nbsp;</span>Customer ID</a></span></li><li><span><a href=\"#Cost-of-the-order\" data-toc-modified-id=\"Cost-of-the-order-14.2.3\"><span class=\"toc-item-num\">14.2.3&nbsp;&nbsp;</span>Cost of the order</a></span></li><li><span><a href=\"#Food-preparation-time\" data-toc-modified-id=\"Food-preparation-time-14.2.4\"><span class=\"toc-item-num\">14.2.4&nbsp;&nbsp;</span>Food preparation time</a></span></li><li><span><a href=\"#Delivery-time\" data-toc-modified-id=\"Delivery-time-14.2.5\"><span class=\"toc-item-num\">14.2.5&nbsp;&nbsp;</span>Delivery time</a></span></li></ul></li><li><span><a href=\"#Categorical-variables\" data-toc-modified-id=\"Categorical-variables-14.3\"><span class=\"toc-item-num\">14.3&nbsp;&nbsp;</span>Categorical variables</a></span><ul class=\"toc-item\"><li><span><a href=\"#Restaurant-name\" data-toc-modified-id=\"Restaurant-name-14.3.1\"><span class=\"toc-item-num\">14.3.1&nbsp;&nbsp;</span>Restaurant name</a></span></li><li><span><a href=\"#Cuisine-type\" data-toc-modified-id=\"Cuisine-type-14.3.2\"><span class=\"toc-item-num\">14.3.2&nbsp;&nbsp;</span>Cuisine type</a></span></li><li><span><a href=\"#Day-of-the-week\" data-toc-modified-id=\"Day-of-the-week-14.3.3\"><span class=\"toc-item-num\">14.3.3&nbsp;&nbsp;</span>Day of the week</a></span></li><li><span><a href=\"#rating-(As-a-Category)\" data-toc-modified-id=\"rating-(As-a-Category)-14.3.4\"><span class=\"toc-item-num\">14.3.4&nbsp;&nbsp;</span>rating (As a Category)</a></span></li></ul></li></ul></li><li><span><a href=\"#Question-7:-Which-are-the-top-5-restaurants-in-terms-of-the-number-of-orders-received?-[1-mark]\" data-toc-modified-id=\"Question-7:-Which-are-the-top-5-restaurants-in-terms-of-the-number-of-orders-received?-[1-mark]-15\"><span class=\"toc-item-num\">15&nbsp;&nbsp;</span><strong>Question 7</strong>: Which are the top 5 restaurants in terms of the number of orders received? [1 mark]</a></span><ul class=\"toc-item\"><li><span><a href=\"#Observations:\" data-toc-modified-id=\"Observations:-15.1\"><span class=\"toc-item-num\">15.1&nbsp;&nbsp;</span>Observations:</a></span></li></ul></li><li><span><a href=\"#Question-8:-Which-is-the-most-popular-cuisine-on-weekends?-[1-mark]\" data-toc-modified-id=\"Question-8:-Which-is-the-most-popular-cuisine-on-weekends?-[1-mark]-16\"><span class=\"toc-item-num\">16&nbsp;&nbsp;</span><strong>Question 8</strong>: Which is the most popular cuisine on weekends? [1 mark]</a></span><ul class=\"toc-item\"><li><span><a href=\"#Observations:\" data-toc-modified-id=\"Observations:-16.1\"><span class=\"toc-item-num\">16.1&nbsp;&nbsp;</span>Observations:</a></span></li></ul></li><li><span><a href=\"#Question-9:-What-percentage-of-the-orders-cost-more-than-20-dollars?-[2-marks]\" data-toc-modified-id=\"Question-9:-What-percentage-of-the-orders-cost-more-than-20-dollars?-[2-marks]-17\"><span class=\"toc-item-num\">17&nbsp;&nbsp;</span><strong>Question 9</strong>: What percentage of the orders cost more than 20 dollars? [2 marks]</a></span><ul class=\"toc-item\"><li><span><a href=\"#Observations:\" data-toc-modified-id=\"Observations:-17.1\"><span class=\"toc-item-num\">17.1&nbsp;&nbsp;</span>Observations:</a></span></li></ul></li><li><span><a href=\"#Question-10:-What-is-the-mean-order-delivery-time?-[1-mark]\" data-toc-modified-id=\"Question-10:-What-is-the-mean-order-delivery-time?-[1-mark]-18\"><span class=\"toc-item-num\">18&nbsp;&nbsp;</span><strong>Question 10</strong>: What is the mean order delivery time? [1 mark]</a></span><ul class=\"toc-item\"><li><span><a href=\"#Observations:\" data-toc-modified-id=\"Observations:-18.1\"><span class=\"toc-item-num\">18.1&nbsp;&nbsp;</span>Observations:</a></span></li></ul></li><li><span><a href=\"#Question-11:-The-company-has-decided-to-give-20%-discount-vouchers-to-the-top-5-most-frequent-customers.-Find-the-IDs-of-these-customers-and-the-number-of-orders-they-placed.-[1-mark]\" data-toc-modified-id=\"Question-11:-The-company-has-decided-to-give-20%-discount-vouchers-to-the-top-5-most-frequent-customers.-Find-the-IDs-of-these-customers-and-the-number-of-orders-they-placed.-[1-mark]-19\"><span class=\"toc-item-num\">19&nbsp;&nbsp;</span><strong>Question 11:</strong> The company has decided to give 20% discount vouchers to the top 5 most frequent customers. Find the IDs of these customers and the number of orders they placed. [1 mark]</a></span><ul class=\"toc-item\"><li><span><a href=\"#Observations:\" data-toc-modified-id=\"Observations:-19.1\"><span class=\"toc-item-num\">19.1&nbsp;&nbsp;</span>Observations:</a></span></li></ul></li><li><span><a href=\"#Multivariate-Analysis\" data-toc-modified-id=\"Multivariate-Analysis-20\"><span class=\"toc-item-num\">20&nbsp;&nbsp;</span>Multivariate Analysis</a></span></li><li><span><a href=\"#Question-12:-Perform-a-multivariate-analysis-to-explore-relationships-between-the-important-variables-in-the-dataset.-(It-is-a-good-idea-to-explore-relations-between-numerical-variables-as-well-as-relations-between-numerical-and-categorical-variables)-[10-marks]\" data-toc-modified-id=\"Question-12:-Perform-a-multivariate-analysis-to-explore-relationships-between-the-important-variables-in-the-dataset.-(It-is-a-good-idea-to-explore-relations-between-numerical-variables-as-well-as-relations-between-numerical-and-categorical-variables)-[10-marks]-21\"><span class=\"toc-item-num\">21&nbsp;&nbsp;</span><strong>Question 12</strong>: Perform a multivariate analysis to explore relationships between the important variables in the dataset. (It is a good idea to explore relations between numerical variables as well as relations between numerical and categorical variables) [10 marks]</a></span><ul class=\"toc-item\"><li><span><a href=\"#Numerical-vs-Numerical-variables\" data-toc-modified-id=\"Numerical-vs-Numerical-variables-21.1\"><span class=\"toc-item-num\">21.1&nbsp;&nbsp;</span>Numerical vs Numerical variables</a></span></li><li><span><a href=\"#Numerical-vs-Categorical-variables\" data-toc-modified-id=\"Numerical-vs-Categorical-variables-21.2\"><span class=\"toc-item-num\">21.2&nbsp;&nbsp;</span>Numerical vs Categorical variables</a></span><ul class=\"toc-item\"><li><span><a href=\"#Cost-vs-restaurant\" data-toc-modified-id=\"Cost-vs-restaurant-21.2.1\"><span class=\"toc-item-num\">21.2.1&nbsp;&nbsp;</span>Cost vs restaurant</a></span></li><li><span><a href=\"#Cost-vs-cuisine-type\" data-toc-modified-id=\"Cost-vs-cuisine-type-21.2.2\"><span class=\"toc-item-num\">21.2.2&nbsp;&nbsp;</span>Cost vs cuisine type</a></span></li><li><span><a href=\"#Cost-vs-day-of-the-week\" data-toc-modified-id=\"Cost-vs-day-of-the-week-21.2.3\"><span class=\"toc-item-num\">21.2.3&nbsp;&nbsp;</span>Cost vs day of the week</a></span></li><li><span><a href=\"#Cost-vs-Rating\" data-toc-modified-id=\"Cost-vs-Rating-21.2.4\"><span class=\"toc-item-num\">21.2.4&nbsp;&nbsp;</span>Cost vs Rating</a></span></li><li><span><a href=\"#Food-preparation-time-vs-restaurant\" data-toc-modified-id=\"Food-preparation-time-vs-restaurant-21.2.5\"><span class=\"toc-item-num\">21.2.5&nbsp;&nbsp;</span>Food preparation time vs restaurant</a></span></li><li><span><a href=\"#Food-preparation-time-vs-cuisine-type\" data-toc-modified-id=\"Food-preparation-time-vs-cuisine-type-21.2.6\"><span class=\"toc-item-num\">21.2.6&nbsp;&nbsp;</span>Food preparation time vs cuisine type</a></span></li><li><span><a href=\"#Food-preparation-time-vs-day-of-the-week\" data-toc-modified-id=\"Food-preparation-time-vs-day-of-the-week-21.2.7\"><span class=\"toc-item-num\">21.2.7&nbsp;&nbsp;</span>Food preparation time vs day of the week</a></span></li><li><span><a href=\"#Food-preparation-time-vs-rating\" data-toc-modified-id=\"Food-preparation-time-vs-rating-21.2.8\"><span class=\"toc-item-num\">21.2.8&nbsp;&nbsp;</span>Food preparation time vs rating</a></span></li><li><span><a href=\"#Delivery-time-vs-restaurant\" data-toc-modified-id=\"Delivery-time-vs-restaurant-21.2.9\"><span class=\"toc-item-num\">21.2.9&nbsp;&nbsp;</span>Delivery time vs restaurant</a></span></li><li><span><a href=\"#Delivery-time-vs-cuisine-type\" data-toc-modified-id=\"Delivery-time-vs-cuisine-type-21.2.10\"><span class=\"toc-item-num\">21.2.10&nbsp;&nbsp;</span>Delivery time vs cuisine type</a></span></li><li><span><a href=\"#Delivery-time-vs-day-of-the-week\" data-toc-modified-id=\"Delivery-time-vs-day-of-the-week-21.2.11\"><span class=\"toc-item-num\">21.2.11&nbsp;&nbsp;</span>Delivery time vs day of the week</a></span></li><li><span><a href=\"#Delivery-time-vs-Rating\" data-toc-modified-id=\"Delivery-time-vs-Rating-21.2.12\"><span class=\"toc-item-num\">21.2.12&nbsp;&nbsp;</span>Delivery time vs Rating</a></span></li></ul></li><li><span><a href=\"#Categorical-vs-Categorical\" data-toc-modified-id=\"Categorical-vs-Categorical-21.3\"><span class=\"toc-item-num\">21.3&nbsp;&nbsp;</span>Categorical vs Categorical</a></span><ul class=\"toc-item\"><li><span><a href=\"#Rating-vs-Restaurant\" data-toc-modified-id=\"Rating-vs-Restaurant-21.3.1\"><span class=\"toc-item-num\">21.3.1&nbsp;&nbsp;</span>Rating vs Restaurant</a></span></li><li><span><a href=\"#Rating-vs-Cuisine-Type\" data-toc-modified-id=\"Rating-vs-Cuisine-Type-21.3.2\"><span class=\"toc-item-num\">21.3.2&nbsp;&nbsp;</span>Rating vs Cuisine Type</a></span></li><li><span><a href=\"#Rating-vs-Day-of-the-week\" data-toc-modified-id=\"Rating-vs-Day-of-the-week-21.3.3\"><span class=\"toc-item-num\">21.3.3&nbsp;&nbsp;</span>Rating vs Day of the week</a></span></li><li><span><a href=\"#restaurant-vs-cuisine-Type\" data-toc-modified-id=\"restaurant-vs-cuisine-Type-21.3.4\"><span class=\"toc-item-num\">21.3.4&nbsp;&nbsp;</span>restaurant vs cuisine Type</a></span></li></ul></li></ul></li><li><span><a href=\"#Question-13:-The-company-wants-to-provide-a-promotional-offer-in-the-advertisement-of-the-restaurants.-The-condition-to-get-the-offer-is-that-the-restaurants-must-have-a-rating-count-of-more-than-50-and-the-average-rating-should-be-greater-than-4.-Find-the-restaurants-fulfilling-the-criteria-to-get-the-promotional-offer.-[3-marks]\" data-toc-modified-id=\"Question-13:-The-company-wants-to-provide-a-promotional-offer-in-the-advertisement-of-the-restaurants.-The-condition-to-get-the-offer-is-that-the-restaurants-must-have-a-rating-count-of-more-than-50-and-the-average-rating-should-be-greater-than-4.-Find-the-restaurants-fulfilling-the-criteria-to-get-the-promotional-offer.-[3-marks]-22\"><span class=\"toc-item-num\">22&nbsp;&nbsp;</span><strong>Question 13:</strong> The company wants to provide a promotional offer in the advertisement of the restaurants. The condition to get the offer is that the restaurants must have a rating count of more than 50 and the average rating should be greater than 4. Find the restaurants fulfilling the criteria to get the promotional offer. [3 marks]</a></span><ul class=\"toc-item\"><li><span><a href=\"#Observations:\" data-toc-modified-id=\"Observations:-22.1\"><span class=\"toc-item-num\">22.1&nbsp;&nbsp;</span>Observations:</a></span></li></ul></li><li><span><a href=\"#Question-14:-The-company-charges-the-restaurant-25%-on-the-orders-having-cost-greater-than-20-dollars-and-15%-on-the-orders-having-cost-greater-than-5-dollars.-Find-the-net-revenue-generated-by-the-company-across-all-orders.-[3-marks]\" data-toc-modified-id=\"Question-14:-The-company-charges-the-restaurant-25%-on-the-orders-having-cost-greater-than-20-dollars-and-15%-on-the-orders-having-cost-greater-than-5-dollars.-Find-the-net-revenue-generated-by-the-company-across-all-orders.-[3-marks]-23\"><span class=\"toc-item-num\">23&nbsp;&nbsp;</span><strong>Question 14:</strong> The company charges the restaurant 25% on the orders having cost greater than 20 dollars and 15% on the orders having cost greater than 5 dollars. Find the net revenue generated by the company across all orders. [3 marks]</a></span><ul class=\"toc-item\"><li><span><a href=\"#Observations:\" data-toc-modified-id=\"Observations:-23.1\"><span class=\"toc-item-num\">23.1&nbsp;&nbsp;</span>Observations:</a></span></li></ul></li><li><span><a href=\"#Question-15:-The-company-wants-to-analyze-the-total-time-required-to-deliver-the-food.-What-percentage-of-orders-take-more-than-60-minutes-to-get-delivered-from-the-time-the-order-is-placed?-(The-food-has-to-be-prepared-and-then-delivered.)-[2-marks]\" data-toc-modified-id=\"Question-15:-The-company-wants-to-analyze-the-total-time-required-to-deliver-the-food.-What-percentage-of-orders-take-more-than-60-minutes-to-get-delivered-from-the-time-the-order-is-placed?-(The-food-has-to-be-prepared-and-then-delivered.)-[2-marks]-24\"><span class=\"toc-item-num\">24&nbsp;&nbsp;</span><strong>Question 15:</strong> The company wants to analyze the total time required to deliver the food. What percentage of orders take more than 60 minutes to get delivered from the time the order is placed? (The food has to be prepared and then delivered.) [2 marks]</a></span><ul class=\"toc-item\"><li><span><a href=\"#Observations:\" data-toc-modified-id=\"Observations:-24.1\"><span class=\"toc-item-num\">24.1&nbsp;&nbsp;</span>Observations:</a></span></li></ul></li><li><span><a href=\"#Question-16:-The-company-wants-to-analyze-the-delivery-time-of-the-orders-on-weekdays-and-weekends.-How-does-the-mean-delivery-time-vary-during-weekdays-and-weekends?-[2-marks]\" data-toc-modified-id=\"Question-16:-The-company-wants-to-analyze-the-delivery-time-of-the-orders-on-weekdays-and-weekends.-How-does-the-mean-delivery-time-vary-during-weekdays-and-weekends?-[2-marks]-25\"><span class=\"toc-item-num\">25&nbsp;&nbsp;</span><strong>Question 16:</strong> The company wants to analyze the delivery time of the orders on weekdays and weekends. How does the mean delivery time vary during weekdays and weekends? [2 marks]</a></span><ul class=\"toc-item\"><li><span><a href=\"#Observations:\" data-toc-modified-id=\"Observations:-25.1\"><span class=\"toc-item-num\">25.1&nbsp;&nbsp;</span>Observations:</a></span></li></ul></li><li><span><a href=\"#Conclusion-and-Recommendations\" data-toc-modified-id=\"Conclusion-and-Recommendations-26\"><span class=\"toc-item-num\">26&nbsp;&nbsp;</span>Conclusion and Recommendations</a></span></li><li><span><a href=\"#Question-17:-What-are-your-conclusions-from-the-analysis?-What-recommendations-would-you-like-to-share-to-help-improve-the-business?-(You-can-use-cuisine-type-and-feedback-ratings-to-drive-your-business-recommendations.)-[6-marks]\" data-toc-modified-id=\"Question-17:-What-are-your-conclusions-from-the-analysis?-What-recommendations-would-you-like-to-share-to-help-improve-the-business?-(You-can-use-cuisine-type-and-feedback-ratings-to-drive-your-business-recommendations.)-[6-marks]-27\"><span class=\"toc-item-num\">27&nbsp;&nbsp;</span><strong>Question 17:</strong> What are your conclusions from the analysis? What recommendations would you like to share to help improve the business? (You can use cuisine type and feedback ratings to drive your business recommendations.) [6 marks]</a></span><ul class=\"toc-item\"><li><span><a href=\"#Conclusions\" data-toc-modified-id=\"Conclusions-27.1\"><span class=\"toc-item-num\">27.1&nbsp;&nbsp;</span>Conclusions</a></span></li><li><span><a href=\"#Recommandations\" data-toc-modified-id=\"Recommandations-27.2\"><span class=\"toc-item-num\">27.2&nbsp;&nbsp;</span>Recommandations</a></span></li></ul></li></ul></div>"
   ]
  },
  {
   "cell_type": "markdown",
   "metadata": {
    "id": "Gc8x8QimJY_H"
   },
   "source": [
    "# Project Python Foundations: FoodHub Data Analysis\n",
    "\n",
    "**Marks: 60**"
   ]
  },
  {
   "cell_type": "markdown",
   "metadata": {
    "id": "NqikjkWwJY_L"
   },
   "source": [
    "### Context\n",
    "\n",
    "The number of restaurants in New York is increasing day by day. Lots of students and busy professionals rely on those restaurants due to their hectic lifestyles. Online food delivery service is a great option for them. It provides them with good food from their favorite restaurants. A food aggregator company FoodHub offers access to multiple restaurants through a single smartphone app.\n",
    "\n",
    "The app allows the restaurants to receive a direct online order from a customer. The app assigns a delivery person from the company to pick up the order after it is confirmed by the restaurant. The delivery person then uses the map to reach the restaurant and waits for the food package. Once the food package is handed over to the delivery person, he/she confirms the pick-up in the app and travels to the customer's location to deliver the food. The delivery person confirms the drop-off in the app after delivering the food package to the customer. The customer can rate the order in the app. The food aggregator earns money by collecting a fixed margin of the delivery order from the restaurants.\n",
    "\n",
    "### Objective\n",
    "\n",
    "The food aggregator company has stored the data of the different orders made by the registered customers in their online portal. They want to analyze the data to get a fair idea about the demand of different restaurants which will help them in enhancing their customer experience. Suppose you are hired as a Data Scientist in this company and the Data Science team has shared some of the key questions that need to be answered. Perform the data analysis to find answers to these questions that will help the company to improve the business. \n",
    "\n",
    "### Data Description\n",
    "\n",
    "The data contains the different data related to a food order. The detailed data dictionary is given below.\n",
    "\n",
    "### Data Dictionary\n",
    "\n",
    "* order_id: Unique ID of the order\n",
    "* customer_id: ID of the customer who ordered the food\n",
    "* restaurant_name: Name of the restaurant\n",
    "* cuisine_type: Cuisine ordered by the customer\n",
    "* cost: Cost of the order\n",
    "* day_of_the_week: Indicates whether the order is placed on a weekday or weekend (The weekday is from Monday to Friday and the weekend is Saturday and Sunday)\n",
    "* rating: Rating given by the customer out of 5\n",
    "* food_preparation_time: Time (in minutes) taken by the restaurant to prepare the food. This is calculated by taking the difference between the timestamps of the restaurant's order confirmation and the delivery person's pick-up confirmation.\n",
    "* delivery_time: Time (in minutes) taken by the delivery person to deliver the food package. This is calculated by taking the difference between the timestamps of the delivery person's pick-up confirmation and drop-off information"
   ]
  },
  {
   "cell_type": "markdown",
   "metadata": {
    "id": "cEtNUxNAJY_M"
   },
   "source": [
    "### Let us start by importing the required libraries"
   ]
  },
  {
   "cell_type": "code",
   "execution_count": 1,
   "metadata": {
    "id": "u6PlpJAPJY_N"
   },
   "outputs": [],
   "source": [
    "# import libraries for data manipulation\n",
    "import numpy as np\n",
    "import pandas as pd\n",
    "\n",
    "# import libraries for data visualization\n",
    "import matplotlib.pyplot as plt\n",
    "import seaborn as sns"
   ]
  },
  {
   "cell_type": "markdown",
   "metadata": {
    "id": "AdracY0HJY_O"
   },
   "source": [
    "### Understanding the structure of the data"
   ]
  },
  {
   "cell_type": "code",
   "execution_count": 2,
   "metadata": {
    "id": "GF01IZDbJY_O",
    "outputId": "c78554ed-4a84-4b09-d895-4313af83f635",
    "scrolled": true
   },
   "outputs": [
    {
     "data": {
      "text/html": [
       "<div>\n",
       "<style scoped>\n",
       "    .dataframe tbody tr th:only-of-type {\n",
       "        vertical-align: middle;\n",
       "    }\n",
       "\n",
       "    .dataframe tbody tr th {\n",
       "        vertical-align: top;\n",
       "    }\n",
       "\n",
       "    .dataframe thead th {\n",
       "        text-align: right;\n",
       "    }\n",
       "</style>\n",
       "<table border=\"1\" class=\"dataframe\">\n",
       "  <thead>\n",
       "    <tr style=\"text-align: right;\">\n",
       "      <th></th>\n",
       "      <th>order_id</th>\n",
       "      <th>customer_id</th>\n",
       "      <th>restaurant_name</th>\n",
       "      <th>cuisine_type</th>\n",
       "      <th>cost_of_the_order</th>\n",
       "      <th>day_of_the_week</th>\n",
       "      <th>rating</th>\n",
       "      <th>food_preparation_time</th>\n",
       "      <th>delivery_time</th>\n",
       "    </tr>\n",
       "  </thead>\n",
       "  <tbody>\n",
       "    <tr>\n",
       "      <th>0</th>\n",
       "      <td>1477147</td>\n",
       "      <td>337525</td>\n",
       "      <td>Hangawi</td>\n",
       "      <td>Korean</td>\n",
       "      <td>30.75</td>\n",
       "      <td>Weekend</td>\n",
       "      <td>Not given</td>\n",
       "      <td>25</td>\n",
       "      <td>20</td>\n",
       "    </tr>\n",
       "    <tr>\n",
       "      <th>1</th>\n",
       "      <td>1477685</td>\n",
       "      <td>358141</td>\n",
       "      <td>Blue Ribbon Sushi Izakaya</td>\n",
       "      <td>Japanese</td>\n",
       "      <td>12.08</td>\n",
       "      <td>Weekend</td>\n",
       "      <td>Not given</td>\n",
       "      <td>25</td>\n",
       "      <td>23</td>\n",
       "    </tr>\n",
       "    <tr>\n",
       "      <th>2</th>\n",
       "      <td>1477070</td>\n",
       "      <td>66393</td>\n",
       "      <td>Cafe Habana</td>\n",
       "      <td>Mexican</td>\n",
       "      <td>12.23</td>\n",
       "      <td>Weekday</td>\n",
       "      <td>5</td>\n",
       "      <td>23</td>\n",
       "      <td>28</td>\n",
       "    </tr>\n",
       "    <tr>\n",
       "      <th>3</th>\n",
       "      <td>1477334</td>\n",
       "      <td>106968</td>\n",
       "      <td>Blue Ribbon Fried Chicken</td>\n",
       "      <td>American</td>\n",
       "      <td>29.20</td>\n",
       "      <td>Weekend</td>\n",
       "      <td>3</td>\n",
       "      <td>25</td>\n",
       "      <td>15</td>\n",
       "    </tr>\n",
       "    <tr>\n",
       "      <th>4</th>\n",
       "      <td>1478249</td>\n",
       "      <td>76942</td>\n",
       "      <td>Dirty Bird to Go</td>\n",
       "      <td>American</td>\n",
       "      <td>11.59</td>\n",
       "      <td>Weekday</td>\n",
       "      <td>4</td>\n",
       "      <td>25</td>\n",
       "      <td>24</td>\n",
       "    </tr>\n",
       "  </tbody>\n",
       "</table>\n",
       "</div>"
      ],
      "text/plain": [
       "   order_id  customer_id            restaurant_name cuisine_type  \\\n",
       "0   1477147       337525                    Hangawi       Korean   \n",
       "1   1477685       358141  Blue Ribbon Sushi Izakaya     Japanese   \n",
       "2   1477070        66393                Cafe Habana      Mexican   \n",
       "3   1477334       106968  Blue Ribbon Fried Chicken     American   \n",
       "4   1478249        76942           Dirty Bird to Go     American   \n",
       "\n",
       "   cost_of_the_order day_of_the_week     rating  food_preparation_time  \\\n",
       "0              30.75         Weekend  Not given                     25   \n",
       "1              12.08         Weekend  Not given                     25   \n",
       "2              12.23         Weekday          5                     23   \n",
       "3              29.20         Weekend          3                     25   \n",
       "4              11.59         Weekday          4                     25   \n",
       "\n",
       "   delivery_time  \n",
       "0             20  \n",
       "1             23  \n",
       "2             28  \n",
       "3             15  \n",
       "4             24  "
      ]
     },
     "execution_count": 2,
     "metadata": {},
     "output_type": "execute_result"
    }
   ],
   "source": [
    "# read the data\n",
    "df = pd.read_csv('foodhub_order.csv.xls')\n",
    "# returns the first 5 rows\n",
    "df.head()"
   ]
  },
  {
   "cell_type": "markdown",
   "metadata": {},
   "source": [
    "**ADEL ADD-ON 1**: Sometimes it is better to sample the rows to show instead of showing the first (with .head() ) or last (with .tail() ) ones. for this, we use the .sample() method of pandas"
   ]
  },
  {
   "cell_type": "code",
   "execution_count": 7,
   "metadata": {},
   "outputs": [
    {
     "data": {
      "text/html": [
       "<div>\n",
       "<style scoped>\n",
       "    .dataframe tbody tr th:only-of-type {\n",
       "        vertical-align: middle;\n",
       "    }\n",
       "\n",
       "    .dataframe tbody tr th {\n",
       "        vertical-align: top;\n",
       "    }\n",
       "\n",
       "    .dataframe thead th {\n",
       "        text-align: right;\n",
       "    }\n",
       "</style>\n",
       "<table border=\"1\" class=\"dataframe\">\n",
       "  <thead>\n",
       "    <tr style=\"text-align: right;\">\n",
       "      <th></th>\n",
       "      <th>order_id</th>\n",
       "      <th>customer_id</th>\n",
       "      <th>restaurant_name</th>\n",
       "      <th>cuisine_type</th>\n",
       "      <th>cost_of_the_order</th>\n",
       "      <th>day_of_the_week</th>\n",
       "      <th>rating</th>\n",
       "      <th>food_preparation_time</th>\n",
       "      <th>delivery_time</th>\n",
       "    </tr>\n",
       "  </thead>\n",
       "  <tbody>\n",
       "    <tr>\n",
       "      <th>749</th>\n",
       "      <td>1477937</td>\n",
       "      <td>98735</td>\n",
       "      <td>The Meatball Shop</td>\n",
       "      <td>Italian</td>\n",
       "      <td>9.65</td>\n",
       "      <td>Weekday</td>\n",
       "      <td>5</td>\n",
       "      <td>34</td>\n",
       "      <td>28</td>\n",
       "    </tr>\n",
       "    <tr>\n",
       "      <th>1652</th>\n",
       "      <td>1477442</td>\n",
       "      <td>184325</td>\n",
       "      <td>Asuka Sushi</td>\n",
       "      <td>Japanese</td>\n",
       "      <td>19.45</td>\n",
       "      <td>Weekend</td>\n",
       "      <td>5</td>\n",
       "      <td>23</td>\n",
       "      <td>23</td>\n",
       "    </tr>\n",
       "    <tr>\n",
       "      <th>53</th>\n",
       "      <td>1478107</td>\n",
       "      <td>73895</td>\n",
       "      <td>RedFarm Broadway</td>\n",
       "      <td>Chinese</td>\n",
       "      <td>29.10</td>\n",
       "      <td>Weekend</td>\n",
       "      <td>Not given</td>\n",
       "      <td>22</td>\n",
       "      <td>23</td>\n",
       "    </tr>\n",
       "    <tr>\n",
       "      <th>1503</th>\n",
       "      <td>1477396</td>\n",
       "      <td>140998</td>\n",
       "      <td>Boqueria</td>\n",
       "      <td>Spanish</td>\n",
       "      <td>13.00</td>\n",
       "      <td>Weekend</td>\n",
       "      <td>5</td>\n",
       "      <td>26</td>\n",
       "      <td>24</td>\n",
       "    </tr>\n",
       "    <tr>\n",
       "      <th>762</th>\n",
       "      <td>1478141</td>\n",
       "      <td>150865</td>\n",
       "      <td>Vanessa's Dumpling House</td>\n",
       "      <td>Chinese</td>\n",
       "      <td>29.10</td>\n",
       "      <td>Weekday</td>\n",
       "      <td>Not given</td>\n",
       "      <td>22</td>\n",
       "      <td>25</td>\n",
       "    </tr>\n",
       "  </tbody>\n",
       "</table>\n",
       "</div>"
      ],
      "text/plain": [
       "      order_id  customer_id           restaurant_name cuisine_type  \\\n",
       "749    1477937        98735         The Meatball Shop      Italian   \n",
       "1652   1477442       184325               Asuka Sushi     Japanese   \n",
       "53     1478107        73895          RedFarm Broadway      Chinese   \n",
       "1503   1477396       140998                  Boqueria      Spanish   \n",
       "762    1478141       150865  Vanessa's Dumpling House      Chinese   \n",
       "\n",
       "      cost_of_the_order day_of_the_week     rating  food_preparation_time  \\\n",
       "749                9.65         Weekday          5                     34   \n",
       "1652              19.45         Weekend          5                     23   \n",
       "53                29.10         Weekend  Not given                     22   \n",
       "1503              13.00         Weekend          5                     26   \n",
       "762               29.10         Weekday  Not given                     22   \n",
       "\n",
       "      delivery_time  \n",
       "749              28  \n",
       "1652             23  \n",
       "53               23  \n",
       "1503             24  \n",
       "762              25  "
      ]
     },
     "execution_count": 7,
     "metadata": {},
     "output_type": "execute_result"
    }
   ],
   "source": [
    "df.sample(n = 5)"
   ]
  },
  {
   "cell_type": "markdown",
   "metadata": {},
   "source": [
    "**ADEL ADD-ON 2**: alternative reading enforcing the data type for each column. This speeds up reading the file since Panads does not have to infer the datatypes.\n",
    "\n",
    "Notice however that if a column does not conform to the datatype and python can not cast it, an error will occur. This can be a convenient way to find issues with the data .."
   ]
  },
  {
   "cell_type": "code",
   "execution_count": 7,
   "metadata": {},
   "outputs": [],
   "source": [
    "datatypes = {'order_id': int, 'customer_id': int, 'restaurant_name': 'category', \n",
    "            'cuisine_type': 'category', 'cost_of_order': float, 'day_of_the_week': 'category',\n",
    "            'rating': 'category', 'food_preparation_time': int, 'deivery_time': int}\n",
    "df1 = pd.read_csv('foodhub_order.csv.xls', dtype = datatypes)"
   ]
  },
  {
   "cell_type": "code",
   "execution_count": 8,
   "metadata": {},
   "outputs": [
    {
     "name": "stdout",
     "output_type": "stream",
     "text": [
      "<class 'pandas.core.frame.DataFrame'>\n",
      "RangeIndex: 1898 entries, 0 to 1897\n",
      "Data columns (total 9 columns):\n",
      " #   Column                 Non-Null Count  Dtype   \n",
      "---  ------                 --------------  -----   \n",
      " 0   order_id               1898 non-null   int64   \n",
      " 1   customer_id            1898 non-null   int64   \n",
      " 2   restaurant_name        1898 non-null   category\n",
      " 3   cuisine_type           1898 non-null   category\n",
      " 4   cost_of_the_order      1898 non-null   float64 \n",
      " 5   day_of_the_week        1898 non-null   category\n",
      " 6   rating                 1898 non-null   category\n",
      " 7   food_preparation_time  1898 non-null   int64   \n",
      " 8   delivery_time          1898 non-null   int64   \n",
      "dtypes: category(4), float64(1), int64(4)\n",
      "memory usage: 90.0 KB\n"
     ]
    }
   ],
   "source": [
    "df1.info()"
   ]
  },
  {
   "cell_type": "markdown",
   "metadata": {
    "id": "J_Y9aJDJJY_P"
   },
   "source": [
    "#### Observations:\n",
    "\n",
    "The DataFrame has 9 columns as mentioned in the Data Dictionary. Data in each row corresponds to the order placed by a customer."
   ]
  },
  {
   "cell_type": "markdown",
   "metadata": {},
   "source": [
    "- Notice that the memory size of the dataset decreased by ~ 25-30% when using category type instead of string: the size of a categorical variable is proportional to the number of unique values whereas an object column has size proportional to the number of observations. See [here](https://pandas.pydata.org/pandas-docs/stable/user_guide/categorical.html#categorical-memory)"
   ]
  },
  {
   "cell_type": "markdown",
   "metadata": {
    "id": "c3kenV4vJY_Q"
   },
   "source": [
    "### **Question 1:** How many rows and columns are present in the data? [0.5 mark]"
   ]
  },
  {
   "cell_type": "code",
   "execution_count": 9,
   "metadata": {
    "id": "Yvz5i-PhJY_Q"
   },
   "outputs": [
    {
     "data": {
      "text/plain": [
       "(1898, 9)"
      ]
     },
     "execution_count": 9,
     "metadata": {},
     "output_type": "execute_result"
    }
   ],
   "source": [
    "# Write your code here\n",
    "df.shape"
   ]
  },
  {
   "cell_type": "markdown",
   "metadata": {
    "id": "UsTNy3unJY_R"
   },
   "source": [
    "#### Observations:\n"
   ]
  },
  {
   "cell_type": "markdown",
   "metadata": {},
   "source": [
    "- The dataset has 1898 rows and 9 columns"
   ]
  },
  {
   "cell_type": "markdown",
   "metadata": {
    "id": "jRXakVrUJY_R"
   },
   "source": [
    "### **Question 2:** What are the datatypes of the different columns in the dataset? (The info() function can be used) [0.5 mark]"
   ]
  },
  {
   "cell_type": "code",
   "execution_count": 10,
   "metadata": {},
   "outputs": [
    {
     "data": {
      "text/plain": [
       "order_id                   int64\n",
       "customer_id                int64\n",
       "restaurant_name           object\n",
       "cuisine_type              object\n",
       "cost_of_the_order        float64\n",
       "day_of_the_week           object\n",
       "rating                    object\n",
       "food_preparation_time      int64\n",
       "delivery_time              int64\n",
       "dtype: object"
      ]
     },
     "execution_count": 10,
     "metadata": {},
     "output_type": "execute_result"
    }
   ],
   "source": [
    "df.dtypes"
   ]
  },
  {
   "cell_type": "code",
   "execution_count": 13,
   "metadata": {
    "id": "Kp70Z0BNJY_R",
    "outputId": "c7872dec-f8dd-448d-817e-62219e2052af"
   },
   "outputs": [
    {
     "name": "stdout",
     "output_type": "stream",
     "text": [
      "<class 'pandas.core.frame.DataFrame'>\n",
      "RangeIndex: 1898 entries, 0 to 1897\n",
      "Data columns (total 9 columns):\n",
      " #   Column                 Non-Null Count  Dtype  \n",
      "---  ------                 --------------  -----  \n",
      " 0   order_id               1898 non-null   int64  \n",
      " 1   customer_id            1898 non-null   int64  \n",
      " 2   restaurant_name        1898 non-null   object \n",
      " 3   cuisine_type           1898 non-null   object \n",
      " 4   cost_of_the_order      1898 non-null   float64\n",
      " 5   day_of_the_week        1898 non-null   object \n",
      " 6   rating                 1898 non-null   object \n",
      " 7   food_preparation_time  1898 non-null   int64  \n",
      " 8   delivery_time          1898 non-null   int64  \n",
      "dtypes: float64(1), int64(4), object(4)\n",
      "memory usage: 133.6+ KB\n"
     ]
    }
   ],
   "source": [
    "# Use info() to print a concise summary of the DataFrame\n",
    "df.info()"
   ]
  },
  {
   "cell_type": "markdown",
   "metadata": {
    "id": "WJes5GP2JY_S"
   },
   "source": [
    "#### Observations:\n"
   ]
  },
  {
   "cell_type": "markdown",
   "metadata": {},
   "source": [
    "- There are apparently no missing values in the dataset (number of non-null values equals the shape of the dataset) for each column\n",
    "- 3 variables (restaurant_name, cuisine_type, and day_of_the_week) are of type objects as expected\n",
    "- The rating column is considered to be an object but has mixed type integer and string\n",
    "- The order and customer ids are of integer type but could as well be object (no arithmetic operations on ids)\n",
    "- Preparation and delivery times are integers but could have been float"
   ]
  },
  {
   "cell_type": "markdown",
   "metadata": {},
   "source": [
    "#### ADEL ADD-ON: creating the total time variable and the ratio cost to preparation time"
   ]
  },
  {
   "cell_type": "code",
   "execution_count": 51,
   "metadata": {},
   "outputs": [],
   "source": [
    "df['total_time'] = df.delivery_time + df.food_preparation_time\n",
    "df['cost_to_prep_ratio'] = df.cost_of_the_order / df.food_preparation_time"
   ]
  },
  {
   "cell_type": "markdown",
   "metadata": {},
   "source": [
    "### **Question 3: Are there any missing values in the data ? if yes, treat them using an apprpriate method. [1 mark]**"
   ]
  },
  {
   "cell_type": "markdown",
   "metadata": {},
   "source": [
    "The .info() method alerady showed that there are no apparent missing values. We can confirm this with the alternative code"
   ]
  },
  {
   "cell_type": "code",
   "execution_count": 12,
   "metadata": {},
   "outputs": [
    {
     "data": {
      "text/plain": [
       "order_id                 0\n",
       "customer_id              0\n",
       "restaurant_name          0\n",
       "cuisine_type             0\n",
       "cost_of_the_order        0\n",
       "day_of_the_week          0\n",
       "rating                   0\n",
       "food_preparation_time    0\n",
       "delivery_time            0\n",
       "dtype: int64"
      ]
     },
     "execution_count": 12,
     "metadata": {},
     "output_type": "execute_result"
    }
   ],
   "source": [
    "df.isnull().sum()"
   ]
  },
  {
   "cell_type": "markdown",
   "metadata": {
    "id": "MnJo7MWrJY_S"
   },
   "source": [
    "### **Question 4:** Check the statistical summary of the data. What is the minimum, average, and maximum time it takes for food to be prepared once an order is placed? [2 marks]"
   ]
  },
  {
   "cell_type": "code",
   "execution_count": 15,
   "metadata": {
    "id": "WprQBgOSJY_T"
   },
   "outputs": [
    {
     "data": {
      "text/html": [
       "<div>\n",
       "<style scoped>\n",
       "    .dataframe tbody tr th:only-of-type {\n",
       "        vertical-align: middle;\n",
       "    }\n",
       "\n",
       "    .dataframe tbody tr th {\n",
       "        vertical-align: top;\n",
       "    }\n",
       "\n",
       "    .dataframe thead th {\n",
       "        text-align: right;\n",
       "    }\n",
       "</style>\n",
       "<table border=\"1\" class=\"dataframe\">\n",
       "  <thead>\n",
       "    <tr style=\"text-align: right;\">\n",
       "      <th></th>\n",
       "      <th>order_id</th>\n",
       "      <th>customer_id</th>\n",
       "      <th>cost_of_the_order</th>\n",
       "      <th>food_preparation_time</th>\n",
       "      <th>delivery_time</th>\n",
       "    </tr>\n",
       "  </thead>\n",
       "  <tbody>\n",
       "    <tr>\n",
       "      <th>count</th>\n",
       "      <td>1.898000e+03</td>\n",
       "      <td>1898.000000</td>\n",
       "      <td>1898.000000</td>\n",
       "      <td>1898.000000</td>\n",
       "      <td>1898.000000</td>\n",
       "    </tr>\n",
       "    <tr>\n",
       "      <th>mean</th>\n",
       "      <td>1.477496e+06</td>\n",
       "      <td>171168.478398</td>\n",
       "      <td>16.498851</td>\n",
       "      <td>27.371970</td>\n",
       "      <td>24.161749</td>\n",
       "    </tr>\n",
       "    <tr>\n",
       "      <th>std</th>\n",
       "      <td>5.480497e+02</td>\n",
       "      <td>113698.139743</td>\n",
       "      <td>7.483812</td>\n",
       "      <td>4.632481</td>\n",
       "      <td>4.972637</td>\n",
       "    </tr>\n",
       "    <tr>\n",
       "      <th>min</th>\n",
       "      <td>1.476547e+06</td>\n",
       "      <td>1311.000000</td>\n",
       "      <td>4.470000</td>\n",
       "      <td>20.000000</td>\n",
       "      <td>15.000000</td>\n",
       "    </tr>\n",
       "    <tr>\n",
       "      <th>25%</th>\n",
       "      <td>1.477021e+06</td>\n",
       "      <td>77787.750000</td>\n",
       "      <td>12.080000</td>\n",
       "      <td>23.000000</td>\n",
       "      <td>20.000000</td>\n",
       "    </tr>\n",
       "    <tr>\n",
       "      <th>50%</th>\n",
       "      <td>1.477496e+06</td>\n",
       "      <td>128600.000000</td>\n",
       "      <td>14.140000</td>\n",
       "      <td>27.000000</td>\n",
       "      <td>25.000000</td>\n",
       "    </tr>\n",
       "    <tr>\n",
       "      <th>75%</th>\n",
       "      <td>1.477970e+06</td>\n",
       "      <td>270525.000000</td>\n",
       "      <td>22.297500</td>\n",
       "      <td>31.000000</td>\n",
       "      <td>28.000000</td>\n",
       "    </tr>\n",
       "    <tr>\n",
       "      <th>max</th>\n",
       "      <td>1.478444e+06</td>\n",
       "      <td>405334.000000</td>\n",
       "      <td>35.410000</td>\n",
       "      <td>35.000000</td>\n",
       "      <td>33.000000</td>\n",
       "    </tr>\n",
       "  </tbody>\n",
       "</table>\n",
       "</div>"
      ],
      "text/plain": [
       "           order_id    customer_id  cost_of_the_order  food_preparation_time  \\\n",
       "count  1.898000e+03    1898.000000        1898.000000            1898.000000   \n",
       "mean   1.477496e+06  171168.478398          16.498851              27.371970   \n",
       "std    5.480497e+02  113698.139743           7.483812               4.632481   \n",
       "min    1.476547e+06    1311.000000           4.470000              20.000000   \n",
       "25%    1.477021e+06   77787.750000          12.080000              23.000000   \n",
       "50%    1.477496e+06  128600.000000          14.140000              27.000000   \n",
       "75%    1.477970e+06  270525.000000          22.297500              31.000000   \n",
       "max    1.478444e+06  405334.000000          35.410000              35.000000   \n",
       "\n",
       "       delivery_time  \n",
       "count    1898.000000  \n",
       "mean       24.161749  \n",
       "std         4.972637  \n",
       "min        15.000000  \n",
       "25%        20.000000  \n",
       "50%        25.000000  \n",
       "75%        28.000000  \n",
       "max        33.000000  "
      ]
     },
     "execution_count": 15,
     "metadata": {},
     "output_type": "execute_result"
    }
   ],
   "source": [
    "# Write your code here\n",
    "df.describe()"
   ]
  },
  {
   "cell_type": "markdown",
   "metadata": {
    "id": "9YbSOR5wJY_T"
   },
   "source": [
    "#### Observations:\n"
   ]
  },
  {
   "cell_type": "markdown",
   "metadata": {},
   "source": [
    "- The statistical summary of the order and customer id has no meaning so it should not be considered\n",
    "- the cost of the order ranges from ~4.5 to 35 and seems slightly skewd to the left (median > mean). It does not seem to have outliers (values distant from the mean by more than 3 standard deviations).  The variation coefficient (ratio of standard deviation to the mean) is about 50% which shows a high dispersion of the cost values.\n",
    "- Food preparation time seems symmetrical (mean ~ median) and ranges from 20 minutes to 35 min. The variation coefficient is relatively small.\n",
    "- Delivery time is slightly skewed to the left and ranges from 15 minutes to 33 min. The variation coefficient is relatively small."
   ]
  },
  {
   "cell_type": "markdown",
   "metadata": {
    "id": "cw3l58z_JY_T"
   },
   "source": [
    "### **Question 5:** How many orders are not rated? [1 mark]"
   ]
  },
  {
   "cell_type": "markdown",
   "metadata": {},
   "source": [
    "The unrated orders have value 'Not given' for the rating column"
   ]
  },
  {
   "cell_type": "code",
   "execution_count": 18,
   "metadata": {},
   "outputs": [
    {
     "data": {
      "text/plain": [
       "736"
      ]
     },
     "execution_count": 18,
     "metadata": {},
     "output_type": "execute_result"
    }
   ],
   "source": [
    "(df.rating=='Not given').sum()"
   ]
  },
  {
   "cell_type": "markdown",
   "metadata": {},
   "source": [
    "Alternatvely, we can use the `.value_counts()` to find the cunt of all unique values of the `rating` column"
   ]
  },
  {
   "cell_type": "code",
   "execution_count": 16,
   "metadata": {},
   "outputs": [],
   "source": [
    "df.rating.value_counts?"
   ]
  },
  {
   "cell_type": "code",
   "execution_count": 18,
   "metadata": {},
   "outputs": [
    {
     "data": {
      "text/plain": [
       "Not given    736\n",
       "5            588\n",
       "4            386\n",
       "3            188\n",
       "Name: rating, dtype: int64"
      ]
     },
     "execution_count": 18,
     "metadata": {},
     "output_type": "execute_result"
    }
   ],
   "source": [
    "df.rating.value_counts()"
   ]
  },
  {
   "cell_type": "markdown",
   "metadata": {
    "id": "5E0O_oviJY_T"
   },
   "source": [
    "#### Observations:\n",
    "- About 30% (736) observations have no rating. we could explore later what kind of restaurants have no ratings."
   ]
  },
  {
   "cell_type": "markdown",
   "metadata": {},
   "source": [
    "If we're not interested in the orders without rating, we could just exclude them"
   ]
  },
  {
   "cell_type": "code",
   "execution_count": 47,
   "metadata": {},
   "outputs": [],
   "source": [
    "df_rated = df.loc[df.rating != 'Not given'].copy()\n",
    "df_rated.rating = df_rated.rating.astype(int)"
   ]
  },
  {
   "cell_type": "markdown",
   "metadata": {
    "id": "7msIfXE-JY_T"
   },
   "source": [
    "### Exploratory Data Analysis (EDA)"
   ]
  },
  {
   "cell_type": "markdown",
   "metadata": {
    "id": "-2xfI28YJY_T"
   },
   "source": [
    "### Univariate Analysis"
   ]
  },
  {
   "cell_type": "markdown",
   "metadata": {
    "id": "0RHZnugBJY_U"
   },
   "source": [
    "### **Question 6:** Explore all the variables and provide observations on their distributions. (Generally, histograms, boxplots, countplots, etc. are used for univariate exploration.) [9 marks]"
   ]
  },
  {
   "cell_type": "markdown",
   "metadata": {},
   "source": [
    "#### Helper functions"
   ]
  },
  {
   "cell_type": "markdown",
   "metadata": {},
   "source": [
    "For this question, we will define custom functions for plotting the distribution fo numerical and categorical variables"
   ]
  },
  {
   "cell_type": "markdown",
   "metadata": {},
   "source": [
    "The first function is for creating a histogram and a boxplot for the numerical variables"
   ]
  },
  {
   "cell_type": "code",
   "execution_count": 19,
   "metadata": {},
   "outputs": [],
   "source": [
    "# function to plot a boxplot and a histogram along the same scale.\n",
    "\n",
    "def histogram_boxplot(data, feature, figsize=(12, 7), kde=False, bins='auto'):\n",
    "    \"\"\"\n",
    "    Boxplot and histogram combined\n",
    "\n",
    "    data: dataframe\n",
    "    feature: dataframe column\n",
    "    figsize: size of figure (default (12,7))\n",
    "    kde: whether to show the density curve (default False)\n",
    "    bins: number of bins for histogram (default None)\n",
    "    \"\"\"\n",
    "    \n",
    "    # Creating the figure and axes objects\n",
    "    f2, (ax_box2, ax_hist2) = plt.subplots(\n",
    "        nrows=2,  # Number of rows of the subplot grid= 2\n",
    "        sharex=True,  # x-axis will be shared among all subplots\n",
    "        gridspec_kw={\"height_ratios\": (0.25, 0.75)},\n",
    "        figsize=figsize,\n",
    "    )  \n",
    "    \n",
    "    # creating the 2 subplots\n",
    "    ## boxplot where a star will indicate the mean value of the column\n",
    "    sns.boxplot(\n",
    "        data=data, x=feature, ax=ax_box2, showmeans=True, color=\"violet\"\n",
    "    )  \n",
    "    # Histogram\n",
    "    sns.histplot(\n",
    "        data=data, x=feature, kde=kde, ax=ax_hist2, bins=bins, palette=\"winter\")\n",
    "    ## Adding vertical lines for the mean, the median and the mode\n",
    "    ### Mean\n",
    "    ax_hist2.axvline(\n",
    "        data[feature].mean(), color=\"green\", linestyle=\"--\"\n",
    "    )  \n",
    "    ### Median Add mean to the histogram\n",
    "    ax_hist2.axvline(\n",
    "        data[feature].median(), color=\"black\", linestyle=\"-\"\n",
    "    )  \n",
    "    ### Mode Add mean to the histogram\n",
    "    ax_hist2.axvline(\n",
    "        data[feature].mode()[0], color=\"red\", linestyle=\":\"\n",
    "    )  "
   ]
  },
  {
   "cell_type": "markdown",
   "metadata": {},
   "source": [
    "The second function is for creating labeled plots for the categorical variables"
   ]
  },
  {
   "cell_type": "code",
   "execution_count": 20,
   "metadata": {},
   "outputs": [],
   "source": [
    "# function to create labeled barplots\n",
    "\n",
    "\n",
    "def labeled_barplot(data, feature, n=None, **kwargs):\n",
    "    \"\"\"\n",
    "    Barplot with percentage at the top\n",
    "\n",
    "    data: dataframe\n",
    "    feature: dataframe column\n",
    "    n: displays the top n category levels (default is None, i.e., display all levels)\n",
    "    \"\"\"\n",
    "\n",
    "\n",
    "    catNumber = data[feature].nunique()\n",
    "    \n",
    "    # Specify the figure size depending on weather to show all categories all only the n top categories\n",
    "    if n is None:\n",
    "        count = catNumber\n",
    "    else:\n",
    "        count = n\n",
    "    \n",
    "        \n",
    "    plt.figure(figsize=(count + 1, 5))\n",
    "\n",
    "    # Custom the x-ticks angle and size\n",
    "    plt.xticks(rotation=90, fontsize=15)\n",
    "    \n",
    "    # Couting and ordering the categories\n",
    "    catOrder = data[feature].value_counts().sort_values(ascending = False).index[:count]\n",
    "    \n",
    "    ax = sns.countplot(\n",
    "        data=data,\n",
    "        x=feature,\n",
    "        palette=\"Paired\",\n",
    "        order = catOrder,\n",
    "         **kwargs\n",
    "    )\n",
    "\n",
    "    plt.show()  # show the plot"
   ]
  },
  {
   "cell_type": "markdown",
   "metadata": {},
   "source": [
    "The third function plots a numerical vs categorical graph using a pointplot(for the mean) and a boxplot (for the median and the IQR)"
   ]
  },
  {
   "cell_type": "code",
   "execution_count": 21,
   "metadata": {},
   "outputs": [],
   "source": [
    "def numVsCatPlot(data, numFeature, catFeature, figsize = (12, 7), **kwargs):\n",
    "    \n",
    "    \"\"\"\n",
    "    Boxplot and pointplot combined for numerical vs categorical visualization\n",
    "\n",
    "    data: dataframe\n",
    "    numFeature: numerical feature column name\n",
    "    catFeature: categorical feature column name\n",
    "    figsize: size of figure (default (12,7))\n",
    "    **kwargs: additional optional arguments\n",
    "    \"\"\"\n",
    "    ## Mean per categrical variable ordered by the value of the mean\n",
    "    meanAgg = data.groupby(catFeature)[numFeature].mean().sort_values(ascending = False)\n",
    "    \n",
    "    # Customizing figure size and x-ticks rientation\n",
    "    plt.figure(figsize = figsize)\n",
    "    plt.xticks(rotation = 60)\n",
    "    \n",
    "    # pointplot\n",
    "    sns.pointplot(x = catFeature, \n",
    "                  y = numFeature, \n",
    "                  data = data, \n",
    "                  order = meanAgg.index,\n",
    "                  color = 'yellow',\n",
    "                 **kwargs)\n",
    "    \n",
    "    #Boxplot\n",
    "    sns.boxplot(x = catFeature, \n",
    "                y = numFeature, \n",
    "                data = data, \n",
    "                order = meanAgg.index,\n",
    "                palette = 'crest',\n",
    "               **kwargs)"
   ]
  },
  {
   "cell_type": "markdown",
   "metadata": {
    "id": "rU5ZqISjJY_U"
   },
   "source": [
    "#### Numerical Variables"
   ]
  },
  {
   "cell_type": "markdown",
   "metadata": {},
   "source": [
    "We have five numerical variables to explore: the ids, the cost, the times (preparation, delivery, total)"
   ]
  },
  {
   "cell_type": "markdown",
   "metadata": {},
   "source": [
    "##### Order ID"
   ]
  },
  {
   "cell_type": "markdown",
   "metadata": {},
   "source": [
    "This is just an identifier. Let's check if it is unique"
   ]
  },
  {
   "cell_type": "code",
   "execution_count": 22,
   "metadata": {},
   "outputs": [
    {
     "data": {
      "text/plain": [
       "(1898, 1898)"
      ]
     },
     "execution_count": 22,
     "metadata": {},
     "output_type": "execute_result"
    }
   ],
   "source": [
    "df.order_id.nunique(), df.shape[0]"
   ]
  },
  {
   "cell_type": "markdown",
   "metadata": {},
   "source": [
    "So the order id is unique and each row corresponds to an order"
   ]
  },
  {
   "cell_type": "markdown",
   "metadata": {},
   "source": [
    "##### Customer ID"
   ]
  },
  {
   "cell_type": "markdown",
   "metadata": {},
   "source": [
    "This is also an identifier. Let's check if a customer has multiple orders"
   ]
  },
  {
   "cell_type": "code",
   "execution_count": 23,
   "metadata": {},
   "outputs": [
    {
     "data": {
      "text/plain": [
       "(1200, 1898)"
      ]
     },
     "execution_count": 23,
     "metadata": {},
     "output_type": "execute_result"
    }
   ],
   "source": [
    "df.customer_id.nunique(), df.shape[0]"
   ]
  },
  {
   "cell_type": "markdown",
   "metadata": {},
   "source": [
    "There are 1200 unique customers for 1898 orders"
   ]
  },
  {
   "cell_type": "markdown",
   "metadata": {},
   "source": [
    "Let's count the number of orders by customers"
   ]
  },
  {
   "cell_type": "code",
   "execution_count": 24,
   "metadata": {},
   "outputs": [
    {
     "data": {
      "text/plain": [
       "52832     13\n",
       "47440     10\n",
       "83287      9\n",
       "250494     8\n",
       "259341     7\n",
       "          ..\n",
       "385426     1\n",
       "254913     1\n",
       "289597     1\n",
       "74412      1\n",
       "397537     1\n",
       "Name: customer_id, Length: 1200, dtype: int64"
      ]
     },
     "execution_count": 24,
     "metadata": {},
     "output_type": "execute_result"
    }
   ],
   "source": [
    "df.customer_id.value_counts()"
   ]
  },
  {
   "cell_type": "markdown",
   "metadata": {},
   "source": [
    "Some customers have up to 13 orders in the dataset while others have a unique order"
   ]
  },
  {
   "cell_type": "markdown",
   "metadata": {},
   "source": [
    "##### Cost of the order "
   ]
  },
  {
   "cell_type": "code",
   "execution_count": 26,
   "metadata": {},
   "outputs": [
    {
     "data": {
      "image/png": "[encoded data removed]",
      "text/plain": [
       "<Figure size 864x504 with 2 Axes>"
      ]
     },
     "metadata": {
      "needs_background": "light"
     },
     "output_type": "display_data"
    }
   ],
   "source": [
    "histogram_boxplot(df, 'cost_of_the_order', kde = True, bins = 'auto')"
   ]
  },
  {
   "cell_type": "markdown",
   "metadata": {},
   "source": [
    "- The boxplot shows no outliers\n",
    "- The distribution is relatively spread with multi-modal featureswith orders around 12, then 23, then 33\n",
    "- The average cost of the order is greater than the median cost indicating that the distribution skewed to the right\n",
    "- The mode of the distribution indicates is around 12 dollars"
   ]
  },
  {
   "cell_type": "markdown",
   "metadata": {},
   "source": [
    "##### Food preparation time"
   ]
  },
  {
   "cell_type": "code",
   "execution_count": 33,
   "metadata": {},
   "outputs": [
    {
     "data": {
      "image/png": "[encoded data removed]",
      "text/plain": [
       "<Figure size 864x504 with 2 Axes>"
      ]
     },
     "metadata": {
      "needs_background": "light"
     },
     "output_type": "display_data"
    }
   ],
   "source": [
    "histogram_boxplot(df, 'food_preparation_time', kde = True, bins ='auto')"
   ]
  },
  {
   "cell_type": "markdown",
   "metadata": {},
   "source": [
    "- The food preparation time distribution is symmetrical and relatively uniform (from the kde)\n",
    "- There are no outliers\n",
    "- Depending on the size of the bins, the distribution might seem uniform or 4-modal with peaks at 20, 25, 30 and 35"
   ]
  },
  {
   "cell_type": "markdown",
   "metadata": {},
   "source": [
    "##### Delivery time"
   ]
  },
  {
   "cell_type": "code",
   "execution_count": 27,
   "metadata": {},
   "outputs": [
    {
     "data": {
      "image/png": "[encoded data removed]",
      "text/plain": [
       "<Figure size 864x504 with 2 Axes>"
      ]
     },
     "metadata": {
      "needs_background": "light"
     },
     "output_type": "display_data"
    }
   ],
   "source": [
    "histogram_boxplot(df, 'delivery_time', kde = True, bins = 'auto')"
   ]
  },
  {
   "cell_type": "markdown",
   "metadata": {},
   "source": [
    "- The distribution is slightly skewed to the left with more orders in the range 24-28\n",
    "- There are no outliers in the distribution"
   ]
  },
  {
   "cell_type": "markdown",
   "metadata": {},
   "source": [
    "#### Categorical variables"
   ]
  },
  {
   "cell_type": "markdown",
   "metadata": {},
   "source": [
    "##### Restaurant name"
   ]
  },
  {
   "cell_type": "code",
   "execution_count": 45,
   "metadata": {
    "scrolled": true
   },
   "outputs": [
    {
     "data": {
      "text/plain": [
       "Shake Shack                  219\n",
       "The Meatball Shop            132\n",
       "Blue Ribbon Sushi            119\n",
       "Blue Ribbon Fried Chicken     96\n",
       "Parm                          68\n",
       "                            ... \n",
       "Klong                          1\n",
       "Kambi Ramen House              1\n",
       "Il Bambino                     1\n",
       "Hunan Manor                    1\n",
       "Lamarca Pasta                  1\n",
       "Name: restaurant_name, Length: 178, dtype: int64"
      ]
     },
     "execution_count": 45,
     "metadata": {},
     "output_type": "execute_result"
    }
   ],
   "source": [
    "df.restaurant_name.value_counts()"
   ]
  },
  {
   "cell_type": "markdown",
   "metadata": {},
   "source": [
    "- There are 178 restaurants with the highest number of orderequal to 219 for the restaurant Shake Shack\n",
    "- Many restaurants seem to have similar names, potentially to separate the kind of cuisine. Ex: Blue Ribbon. These could potentially be grouped together."
   ]
  },
  {
   "cell_type": "markdown",
   "metadata": {},
   "source": [
    "##### Cuisine type"
   ]
  },
  {
   "cell_type": "code",
   "execution_count": 46,
   "metadata": {},
   "outputs": [
    {
     "data": {
      "text/plain": [
       "American          584\n",
       "Japanese          470\n",
       "Italian           298\n",
       "Chinese           215\n",
       "Mexican            77\n",
       "Indian             73\n",
       "Middle Eastern     49\n",
       "Mediterranean      46\n",
       "Thai               19\n",
       "French             18\n",
       "Southern           17\n",
       "Korean             13\n",
       "Spanish            12\n",
       "Vietnamese          7\n",
       "Name: cuisine_type, dtype: int64"
      ]
     },
     "execution_count": 46,
     "metadata": {},
     "output_type": "execute_result"
    }
   ],
   "source": [
    "df.cuisine_type.value_counts()"
   ]
  },
  {
   "cell_type": "code",
   "execution_count": 23,
   "metadata": {},
   "outputs": [
    {
     "data": {
      "image/png": "[encoded data removed]",
      "text/plain": [
       "<Figure size 1080x360 with 1 Axes>"
      ]
     },
     "metadata": {
      "needs_background": "light"
     },
     "output_type": "display_data"
    }
   ],
   "source": [
    "labeled_barplot(df, 'cuisine_type')"
   ]
  },
  {
   "cell_type": "markdown",
   "metadata": {},
   "source": [
    "- The cuisine type is not uniformly distributed \n",
    "- The most frequent types being American, Japanese and Italian (respectively 30%, 25% and 15%). Is it because they are over-present in the plateform or does it say something about the popularity of these types of cuisine ?"
   ]
  },
  {
   "cell_type": "markdown",
   "metadata": {},
   "source": [
    "##### Day of the week"
   ]
  },
  {
   "cell_type": "code",
   "execution_count": 29,
   "metadata": {},
   "outputs": [
    {
     "data": {
      "text/plain": [
       "Weekend    1351\n",
       "Weekday     547\n",
       "Name: day_of_the_week, dtype: int64"
      ]
     },
     "execution_count": 29,
     "metadata": {},
     "output_type": "execute_result"
    }
   ],
   "source": [
    "df.day_of_the_week.value_counts()"
   ]
  },
  {
   "cell_type": "code",
   "execution_count": 30,
   "metadata": {},
   "outputs": [
    {
     "data": {
      "image/png": "[encoded data removed]",
      "text/plain": [
       "<Figure size 216x360 with 1 Axes>"
      ]
     },
     "metadata": {
      "needs_background": "light"
     },
     "output_type": "display_data"
    }
   ],
   "source": [
    "labeled_barplot(df, 'day_of_the_week')"
   ]
  },
  {
   "cell_type": "markdown",
   "metadata": {},
   "source": [
    "- About two thirds of the observations are from weekends. (Is this counter-intuitive ?)"
   ]
  },
  {
   "cell_type": "markdown",
   "metadata": {},
   "source": [
    "##### rating (As a Category)"
   ]
  },
  {
   "cell_type": "code",
   "execution_count": 53,
   "metadata": {},
   "outputs": [
    {
     "data": {
      "text/plain": [
       "Not given    736\n",
       "5            588\n",
       "4            386\n",
       "3            188\n",
       "Name: rating, dtype: int64"
      ]
     },
     "execution_count": 53,
     "metadata": {},
     "output_type": "execute_result"
    }
   ],
   "source": [
    "df.rating.value_counts()"
   ]
  },
  {
   "cell_type": "code",
   "execution_count": 31,
   "metadata": {},
   "outputs": [
    {
     "data": {
      "image/png": "[encoded data removed]",
      "text/plain": [
       "<Figure size 360x360 with 1 Axes>"
      ]
     },
     "metadata": {
      "needs_background": "light"
     },
     "output_type": "display_data"
    }
   ],
   "source": [
    "labeled_barplot(df, 'rating')"
   ]
  },
  {
   "cell_type": "markdown",
   "metadata": {},
   "source": [
    "- About 40% of orders have no ratings\n",
    "- The ratings values lean towards good ratings (is this counter intuitive ?)"
   ]
  },
  {
   "cell_type": "markdown",
   "metadata": {
    "id": "K9CqA5H_JY_U"
   },
   "source": [
    "### **Question 7**: Which are the top 5 restaurants in terms of the number of orders received? [1 mark]"
   ]
  },
  {
   "cell_type": "markdown",
   "metadata": {},
   "source": [
    "These are the top 5 resturants in terms of orders"
   ]
  },
  {
   "cell_type": "code",
   "execution_count": 35,
   "metadata": {
    "id": "PaJZ3wlOJY_U"
   },
   "outputs": [
    {
     "data": {
      "text/plain": [
       "Shake Shack                  219\n",
       "The Meatball Shop            132\n",
       "Blue Ribbon Sushi            119\n",
       "Blue Ribbon Fried Chicken     96\n",
       "Parm                          68\n",
       "Name: restaurant_name, dtype: int64"
      ]
     },
     "execution_count": 35,
     "metadata": {},
     "output_type": "execute_result"
    }
   ],
   "source": [
    "# Write the code here\n",
    "top5restaurants = df.restaurant_name.value_counts()[:5]\n",
    "top5restaurants"
   ]
  },
  {
   "cell_type": "markdown",
   "metadata": {},
   "source": [
    "They represent about 33% of all orders "
   ]
  },
  {
   "cell_type": "code",
   "execution_count": 37,
   "metadata": {},
   "outputs": [
    {
     "data": {
      "text/plain": [
       "33.40358271865121"
      ]
     },
     "execution_count": 37,
     "metadata": {},
     "output_type": "execute_result"
    }
   ],
   "source": [
    "df.restaurant_name.isin(top5restaurants.index).mean()*100"
   ]
  },
  {
   "cell_type": "markdown",
   "metadata": {},
   "source": [
    "**ADD-ON**: what's the average rating of these restaurants"
   ]
  },
  {
   "cell_type": "code",
   "execution_count": 60,
   "metadata": {},
   "outputs": [
    {
     "data": {
      "text/plain": [
       "restaurant_name\n",
       "Shake Shack                  4.278195\n",
       "The Meatball Shop            4.511905\n",
       "Blue Ribbon Sushi            4.219178\n",
       "Blue Ribbon Fried Chicken    4.328125\n",
       "Parm                         4.128205\n",
       "Name: rating, dtype: float64"
      ]
     },
     "execution_count": 60,
     "metadata": {},
     "output_type": "execute_result"
    }
   ],
   "source": [
    "df_rated.groupby('restaurant_name')['rating'].mean().loc[top5restaurants.index]"
   ]
  },
  {
   "cell_type": "code",
   "execution_count": 61,
   "metadata": {},
   "outputs": [
    {
     "data": {
      "text/plain": [
       "4.344234079173838"
      ]
     },
     "execution_count": 61,
     "metadata": {},
     "output_type": "execute_result"
    }
   ],
   "source": [
    "df_rated.rating.mean()"
   ]
  },
  {
   "cell_type": "markdown",
   "metadata": {
    "id": "tnjhWgUfJY_U"
   },
   "source": [
    "#### Observations:\n"
   ]
  },
  {
   "cell_type": "markdown",
   "metadata": {},
   "source": [
    "- The top 5 restaurants represent about one third of all orders in the dataset"
   ]
  },
  {
   "cell_type": "markdown",
   "metadata": {
    "id": "gWPMqGq0JY_U"
   },
   "source": [
    "### **Question 8**: Which is the most popular cuisine on weekends? [1 mark]"
   ]
  },
  {
   "cell_type": "markdown",
   "metadata": {},
   "source": [
    "We interpret the most popular as having the most orders"
   ]
  },
  {
   "cell_type": "code",
   "execution_count": 62,
   "metadata": {
    "id": "c-Xnus3VJY_U"
   },
   "outputs": [
    {
     "data": {
      "text/plain": [
       "American          415\n",
       "Japanese          335\n",
       "Italian           207\n",
       "Chinese           163\n",
       "Mexican            53\n",
       "Indian             49\n",
       "Mediterranean      32\n",
       "Middle Eastern     32\n",
       "Thai               15\n",
       "French             13\n",
       "Korean             11\n",
       "Southern           11\n",
       "Spanish            11\n",
       "Vietnamese          4\n",
       "Name: cuisine_type, dtype: int64"
      ]
     },
     "execution_count": 62,
     "metadata": {},
     "output_type": "execute_result"
    }
   ],
   "source": [
    "# Write the code here\n",
    "df.loc[df.day_of_the_week == 'Weekend', 'cuisine_type'].value_counts()"
   ]
  },
  {
   "cell_type": "markdown",
   "metadata": {
    "id": "bpQ270TUJY_U"
   },
   "source": [
    "#### Observations:\n"
   ]
  },
  {
   "cell_type": "markdown",
   "metadata": {},
   "source": [
    "The most popular cuisine type on week-ends is American. \n",
    "\n",
    "**NOTE**: we know nothing about the number of restaurants of each cuisine type on the platform. So may be the platform has a much larger american food offering than the rest of cuisine types"
   ]
  },
  {
   "cell_type": "markdown",
   "metadata": {
    "id": "88xgTqkxJY_U"
   },
   "source": [
    "### **Question 9**: What percentage of the orders cost more than 20 dollars? [2 marks]"
   ]
  },
  {
   "cell_type": "code",
   "execution_count": 38,
   "metadata": {
    "id": "OTpHyTdzJY_U"
   },
   "outputs": [
    {
     "data": {
      "text/plain": [
       "29.24130663856691"
      ]
     },
     "execution_count": 38,
     "metadata": {},
     "output_type": "execute_result"
    }
   ],
   "source": [
    "# Write the code here\n",
    "100*(df.cost_of_the_order > 20).mean()"
   ]
  },
  {
   "cell_type": "code",
   "execution_count": 43,
   "metadata": {},
   "outputs": [
    {
     "data": {
      "text/plain": [
       "29.24130663856691"
      ]
     },
     "execution_count": 43,
     "metadata": {},
     "output_type": "execute_result"
    }
   ],
   "source": [
    "100*df[df['cost_of_the_order']>20].shape[0]/df.shape[0]"
   ]
  },
  {
   "cell_type": "markdown",
   "metadata": {
    "id": "77KNAC5zJY_U"
   },
   "source": [
    "#### Observations:\n"
   ]
  },
  {
   "cell_type": "markdown",
   "metadata": {},
   "source": [
    "The percentage of orders costing more than 20 dollars is about 30%"
   ]
  },
  {
   "cell_type": "markdown",
   "metadata": {
    "id": "HFyHn7hsJY_V"
   },
   "source": [
    "### **Question 10**: What is the mean order delivery time? [1 mark]"
   ]
  },
  {
   "cell_type": "code",
   "execution_count": 39,
   "metadata": {
    "id": "cyFL13hNJY_V"
   },
   "outputs": [
    {
     "data": {
      "text/plain": [
       "24.161749209694417"
      ]
     },
     "execution_count": 39,
     "metadata": {},
     "output_type": "execute_result"
    }
   ],
   "source": [
    "# Write the code here\n",
    "df.delivery_time.mean()"
   ]
  },
  {
   "cell_type": "markdown",
   "metadata": {
    "id": "F35SRV-HJY_V"
   },
   "source": [
    "#### Observations:\n"
   ]
  },
  {
   "cell_type": "markdown",
   "metadata": {},
   "source": [
    "The mean delivery time is about 24 minutes"
   ]
  },
  {
   "cell_type": "markdown",
   "metadata": {
    "id": "48IjaOuDJY_V"
   },
   "source": [
    "### **Question 11:** The company has decided to give 20% discount vouchers to the top 5 most frequent customers. Find the IDs of these customers and the number of orders they placed. [1 mark]"
   ]
  },
  {
   "cell_type": "code",
   "execution_count": 45,
   "metadata": {},
   "outputs": [
    {
     "data": {
      "text/plain": [
       "52832     13\n",
       "47440     10\n",
       "83287      9\n",
       "250494     8\n",
       "259341     7\n",
       "Name: customer_id, dtype: int64"
      ]
     },
     "execution_count": 45,
     "metadata": {},
     "output_type": "execute_result"
    }
   ],
   "source": [
    "df.customer_id.value_counts()[:5]"
   ]
  },
  {
   "cell_type": "markdown",
   "metadata": {
    "id": "9tWVwfX6JY_V"
   },
   "source": [
    "#### Observations:\n"
   ]
  },
  {
   "cell_type": "markdown",
   "metadata": {},
   "source": [
    "- The top 5 customers have more than 7 orders in the dataset"
   ]
  },
  {
   "cell_type": "markdown",
   "metadata": {
    "id": "AfIc2jPaJY_V"
   },
   "source": [
    "### Multivariate Analysis"
   ]
  },
  {
   "cell_type": "markdown",
   "metadata": {
    "id": "iqiS0RT_JY_V"
   },
   "source": [
    "### **Question 12**: Perform a multivariate analysis to explore relationships between the important variables in the dataset. (It is a good idea to explore relations between numerical variables as well as relations between numerical and categorical variables) [10 marks]\n"
   ]
  },
  {
   "cell_type": "markdown",
   "metadata": {
    "id": "3qt4MCNTJY_V"
   },
   "source": [
    "#### Numerical vs Numerical variables"
   ]
  },
  {
   "cell_type": "markdown",
   "metadata": {},
   "source": [
    "When the number of numerical variables is small, we can use a pairplot"
   ]
  },
  {
   "cell_type": "code",
   "execution_count": 43,
   "metadata": {},
   "outputs": [],
   "source": [
    "numerical_vars = ['cost_of_the_order', 'food_preparation_time', 'delivery_time']"
   ]
  },
  {
   "cell_type": "code",
   "execution_count": 45,
   "metadata": {},
   "outputs": [
    {
     "data": {
      "text/plain": [
       "<seaborn.axisgrid.PairGrid at 0x7ff3a9e3c8b0>"
      ]
     },
     "execution_count": 45,
     "metadata": {},
     "output_type": "execute_result"
    },
    {
     "data": {
      "image/png": "[encoded data removed]",
      "text/plain": [
       "<Figure size 540x540 with 12 Axes>"
      ]
     },
     "metadata": {
      "needs_background": "light"
     },
     "output_type": "display_data"
    }
   ],
   "source": [
    "sns.pairplot(df[numerical_vars])"
   ]
  },
  {
   "cell_type": "code",
   "execution_count": 46,
   "metadata": {},
   "outputs": [
    {
     "data": {
      "text/plain": [
       "<AxesSubplot:>"
      ]
     },
     "execution_count": 46,
     "metadata": {},
     "output_type": "execute_result"
    },
    {
     "data": {
      "image/png": "[encoded data removed]",
      "text/plain": [
       "<Figure size 432x288 with 2 Axes>"
      ]
     },
     "metadata": {
      "needs_background": "light"
     },
     "output_type": "display_data"
    }
   ],
   "source": [
    "sns.heatmap(df[numerical_vars].corr(), annot=True, vmin=-1, vmax=1, fmt=\".2f\", cmap=\"Spectral\")"
   ]
  },
  {
   "cell_type": "markdown",
   "metadata": {},
   "source": [
    "- The pairplot and correlation heat map show no significant linear dependence between the numerical variables"
   ]
  },
  {
   "cell_type": "markdown",
   "metadata": {},
   "source": [
    "#### Numerical vs Categorical variables"
   ]
  },
  {
   "cell_type": "markdown",
   "metadata": {},
   "source": [
    "##### Cost vs restaurant"
   ]
  },
  {
   "cell_type": "code",
   "execution_count": 47,
   "metadata": {},
   "outputs": [
    {
     "data": {
      "text/plain": [
       "restaurant_name\n",
       "Kambi Ramen House             32.930\n",
       "Emporio                       31.430\n",
       "Bhatti Indian Grill           31.115\n",
       "Haru Gramercy Park            29.830\n",
       "Lucky Strike                  29.250\n",
       "                               ...  \n",
       "Market Table                   6.790\n",
       "Wa Jeal                        6.740\n",
       "Cipriani Le Specialita         5.920\n",
       "Big Wong Restaurant _¤¾Ñ¼     5.920\n",
       "Hunan Manor                    5.720\n",
       "Name: cost_of_the_order, Length: 178, dtype: float64"
      ]
     },
     "execution_count": 47,
     "metadata": {},
     "output_type": "execute_result"
    }
   ],
   "source": [
    "df.groupby('restaurant_name')['cost_of_the_order'].mean().sort_values(ascending = False)"
   ]
  },
  {
   "cell_type": "code",
   "execution_count": 48,
   "metadata": {},
   "outputs": [
    {
     "data": {
      "text/html": [
       "<div>\n",
       "<style scoped>\n",
       "    .dataframe tbody tr th:only-of-type {\n",
       "        vertical-align: middle;\n",
       "    }\n",
       "\n",
       "    .dataframe tbody tr th {\n",
       "        vertical-align: top;\n",
       "    }\n",
       "\n",
       "    .dataframe thead th {\n",
       "        text-align: right;\n",
       "    }\n",
       "</style>\n",
       "<table border=\"1\" class=\"dataframe\">\n",
       "  <thead>\n",
       "    <tr style=\"text-align: right;\">\n",
       "      <th>day_of_the_week</th>\n",
       "      <th>Weekday</th>\n",
       "      <th>Weekend</th>\n",
       "      <th>diff</th>\n",
       "    </tr>\n",
       "    <tr>\n",
       "      <th>restaurant_name</th>\n",
       "      <th></th>\n",
       "      <th></th>\n",
       "      <th></th>\n",
       "    </tr>\n",
       "  </thead>\n",
       "  <tbody>\n",
       "    <tr>\n",
       "      <th>Aurora</th>\n",
       "      <td>6.740</td>\n",
       "      <td>21.930000</td>\n",
       "      <td>-15.190000</td>\n",
       "    </tr>\n",
       "    <tr>\n",
       "      <th>UVA Wine Bar &amp; Restaurant</th>\n",
       "      <td>14.650</td>\n",
       "      <td>29.150000</td>\n",
       "      <td>-14.500000</td>\n",
       "    </tr>\n",
       "    <tr>\n",
       "      <th>5 Napkin Burger</th>\n",
       "      <td>8.150</td>\n",
       "      <td>21.180000</td>\n",
       "      <td>-13.030000</td>\n",
       "    </tr>\n",
       "    <tr>\n",
       "      <th>Go! Go! Curry!</th>\n",
       "      <td>14.020</td>\n",
       "      <td>26.605000</td>\n",
       "      <td>-12.585000</td>\n",
       "    </tr>\n",
       "    <tr>\n",
       "      <th>Yama 49</th>\n",
       "      <td>12.805</td>\n",
       "      <td>25.333333</td>\n",
       "      <td>-12.528333</td>\n",
       "    </tr>\n",
       "    <tr>\n",
       "      <th>...</th>\n",
       "      <td>...</td>\n",
       "      <td>...</td>\n",
       "      <td>...</td>\n",
       "    </tr>\n",
       "    <tr>\n",
       "      <th>Vezzo Thin Crust Pizza</th>\n",
       "      <td>22.260</td>\n",
       "      <td>11.620000</td>\n",
       "      <td>10.640000</td>\n",
       "    </tr>\n",
       "    <tr>\n",
       "      <th>Balthazar Boulangerie</th>\n",
       "      <td>29.150</td>\n",
       "      <td>17.540000</td>\n",
       "      <td>11.610000</td>\n",
       "    </tr>\n",
       "    <tr>\n",
       "      <th>Tarallucci e Vino Restaurant</th>\n",
       "      <td>29.100</td>\n",
       "      <td>11.590000</td>\n",
       "      <td>17.510000</td>\n",
       "    </tr>\n",
       "    <tr>\n",
       "      <th>Tres Carnes</th>\n",
       "      <td>33.320</td>\n",
       "      <td>14.650000</td>\n",
       "      <td>18.670000</td>\n",
       "    </tr>\n",
       "    <tr>\n",
       "      <th>Haveli Indian Restaurant</th>\n",
       "      <td>29.100</td>\n",
       "      <td>5.720000</td>\n",
       "      <td>23.380000</td>\n",
       "    </tr>\n",
       "  </tbody>\n",
       "</table>\n",
       "<p>102 rows × 3 columns</p>\n",
       "</div>"
      ],
      "text/plain": [
       "day_of_the_week               Weekday    Weekend       diff\n",
       "restaurant_name                                            \n",
       "Aurora                          6.740  21.930000 -15.190000\n",
       "UVA Wine Bar & Restaurant      14.650  29.150000 -14.500000\n",
       "5 Napkin Burger                 8.150  21.180000 -13.030000\n",
       "Go! Go! Curry!                 14.020  26.605000 -12.585000\n",
       "Yama 49                        12.805  25.333333 -12.528333\n",
       "...                               ...        ...        ...\n",
       "Vezzo Thin Crust Pizza         22.260  11.620000  10.640000\n",
       "Balthazar Boulangerie          29.150  17.540000  11.610000\n",
       "Tarallucci e Vino Restaurant   29.100  11.590000  17.510000\n",
       "Tres Carnes                    33.320  14.650000  18.670000\n",
       "Haveli Indian Restaurant       29.100   5.720000  23.380000\n",
       "\n",
       "[102 rows x 3 columns]"
      ]
     },
     "execution_count": 48,
     "metadata": {},
     "output_type": "execute_result"
    }
   ],
   "source": [
    "avg_cost_resto_weekday = df.groupby(['restaurant_name', 'day_of_the_week'])['cost_of_the_order'].mean().unstack()\n",
    "avg_cost_resto_weekday['diff'] = avg_cost_resto_weekday.Weekday - avg_cost_resto_weekday.Weekend\n",
    "avg_cost_resto_weekday.dropna().sort_values(by = 'diff')"
   ]
  },
  {
   "cell_type": "code",
   "execution_count": 49,
   "metadata": {},
   "outputs": [
    {
     "data": {
      "image/png": "[encoded data removed]",
      "text/plain": [
       "<Figure size 864x504 with 2 Axes>"
      ]
     },
     "metadata": {
      "needs_background": "light"
     },
     "output_type": "display_data"
    }
   ],
   "source": [
    "histogram_boxplot(avg_cost_resto_weekday.dropna(), 'diff')"
   ]
  },
  {
   "cell_type": "markdown",
   "metadata": {},
   "source": [
    "- The top most expensive restaurants are : Kambi Ramen House, Emporio, Bhatti Indian Grill, Haru Gramercy Park and Lucky Strike\n",
    "- The difference in cost between weekdays and weekends for each restaurant is more or less evenly spread around 0, with few restaurants having orders much more expensive on weekdays than weekends"
   ]
  },
  {
   "cell_type": "markdown",
   "metadata": {},
   "source": [
    "##### Cost vs cuisine type"
   ]
  },
  {
   "cell_type": "code",
   "execution_count": 50,
   "metadata": {},
   "outputs": [
    {
     "data": {
      "image/png": "[encoded data removed]",
      "text/plain": [
       "<Figure size 864x504 with 1 Axes>"
      ]
     },
     "metadata": {
      "needs_background": "light"
     },
     "output_type": "display_data"
    }
   ],
   "source": [
    "numVsCatPlot(df, 'cost_of_the_order', 'cuisine_type')"
   ]
  },
  {
   "cell_type": "markdown",
   "metadata": {},
   "source": [
    "- Cuisine type can be grouped into three categories on average cost: Expensive, Middle, Cheap\n",
    "- The most expensive cuisine types, on average, are French, Southern, Thai, Spanish, and Middle Eastern\n",
    "- The less expensive are Mediterannean, Korean and Vietnamese although they have outliers towards higher cost\n",
    "- Mediterranean, Korean and Vietnamese have some outliers in terms of the cost"
   ]
  },
  {
   "cell_type": "markdown",
   "metadata": {},
   "source": [
    "##### Cost vs day of the week"
   ]
  },
  {
   "cell_type": "code",
   "execution_count": 51,
   "metadata": {},
   "outputs": [
    {
     "data": {
      "image/png": "[encoded data removed]",
      "text/plain": [
       "<Figure size 864x504 with 1 Axes>"
      ]
     },
     "metadata": {
      "needs_background": "light"
     },
     "output_type": "display_data"
    }
   ],
   "source": [
    "numVsCatPlot(df, 'cost_of_the_order', 'day_of_the_week')"
   ]
  },
  {
   "cell_type": "markdown",
   "metadata": {},
   "source": [
    "- There seem to be no difference, in average, in price between weekdays and weekends"
   ]
  },
  {
   "cell_type": "markdown",
   "metadata": {},
   "source": [
    "##### Cost vs Rating"
   ]
  },
  {
   "cell_type": "code",
   "execution_count": 52,
   "metadata": {},
   "outputs": [
    {
     "data": {
      "image/png": "[encoded data removed]",
      "text/plain": [
       "<Figure size 864x504 with 1 Axes>"
      ]
     },
     "metadata": {
      "needs_background": "light"
     },
     "output_type": "display_data"
    }
   ],
   "source": [
    "numVsCatPlot(df, 'cost_of_the_order', 'rating')"
   ]
  },
  {
   "cell_type": "markdown",
   "metadata": {},
   "source": [
    "- Higher costs correspond to higher ratings but the difference is not significant\n",
    "- Not rated orders correpond on averge to lower cost orders"
   ]
  },
  {
   "cell_type": "markdown",
   "metadata": {},
   "source": [
    "##### Food preparation time vs restaurant"
   ]
  },
  {
   "cell_type": "code",
   "execution_count": 53,
   "metadata": {},
   "outputs": [
    {
     "data": {
      "text/plain": [
       "restaurant_name\n",
       "Cipriani Le Specialita    35.0\n",
       "Sushi Choshi              35.0\n",
       "Kambi Ramen House         35.0\n",
       "Klong                     35.0\n",
       "Taro Sushi                35.0\n",
       "                          ... \n",
       "Market Table              21.0\n",
       "DespaÌ±a                  20.5\n",
       "67 Burger                 20.0\n",
       "Frank Restaurant          20.0\n",
       "Haru Gramercy Park        20.0\n",
       "Name: food_preparation_time, Length: 178, dtype: float64"
      ]
     },
     "execution_count": 53,
     "metadata": {},
     "output_type": "execute_result"
    }
   ],
   "source": [
    "df.groupby('restaurant_name')['food_preparation_time'].mean().sort_values(ascending = False)"
   ]
  },
  {
   "cell_type": "markdown",
   "metadata": {},
   "source": [
    "Notice that some of the less expensive restaurant take the most time to prepare the food (ex: Ciprnani Le Specialita) and vice versa (Ex: Haru Gramercy Park)"
   ]
  },
  {
   "cell_type": "code",
   "execution_count": 54,
   "metadata": {},
   "outputs": [
    {
     "data": {
      "text/html": [
       "<div>\n",
       "<style scoped>\n",
       "    .dataframe tbody tr th:only-of-type {\n",
       "        vertical-align: middle;\n",
       "    }\n",
       "\n",
       "    .dataframe tbody tr th {\n",
       "        vertical-align: top;\n",
       "    }\n",
       "\n",
       "    .dataframe thead th {\n",
       "        text-align: right;\n",
       "    }\n",
       "</style>\n",
       "<table border=\"1\" class=\"dataframe\">\n",
       "  <thead>\n",
       "    <tr style=\"text-align: right;\">\n",
       "      <th>day_of_the_week</th>\n",
       "      <th>Weekday</th>\n",
       "      <th>Weekend</th>\n",
       "      <th>diff</th>\n",
       "    </tr>\n",
       "    <tr>\n",
       "      <th>restaurant_name</th>\n",
       "      <th></th>\n",
       "      <th></th>\n",
       "      <th></th>\n",
       "    </tr>\n",
       "  </thead>\n",
       "  <tbody>\n",
       "    <tr>\n",
       "      <th>Tres Carnes</th>\n",
       "      <td>21.0</td>\n",
       "      <td>30.000000</td>\n",
       "      <td>-9.000000</td>\n",
       "    </tr>\n",
       "    <tr>\n",
       "      <th>Sushi Samba</th>\n",
       "      <td>21.0</td>\n",
       "      <td>29.900000</td>\n",
       "      <td>-8.900000</td>\n",
       "    </tr>\n",
       "    <tr>\n",
       "      <th>Lantern Thai Kitchen</th>\n",
       "      <td>22.0</td>\n",
       "      <td>30.333333</td>\n",
       "      <td>-8.333333</td>\n",
       "    </tr>\n",
       "    <tr>\n",
       "      <th>Haandi</th>\n",
       "      <td>23.0</td>\n",
       "      <td>31.000000</td>\n",
       "      <td>-8.000000</td>\n",
       "    </tr>\n",
       "    <tr>\n",
       "      <th>V-Nam Cafe</th>\n",
       "      <td>20.0</td>\n",
       "      <td>28.000000</td>\n",
       "      <td>-8.000000</td>\n",
       "    </tr>\n",
       "    <tr>\n",
       "      <th>...</th>\n",
       "      <td>...</td>\n",
       "      <td>...</td>\n",
       "      <td>...</td>\n",
       "    </tr>\n",
       "    <tr>\n",
       "      <th>Tarallucci e Vino Restaurant</th>\n",
       "      <td>28.0</td>\n",
       "      <td>21.000000</td>\n",
       "      <td>7.000000</td>\n",
       "    </tr>\n",
       "    <tr>\n",
       "      <th>Sarabeth's</th>\n",
       "      <td>33.0</td>\n",
       "      <td>25.500000</td>\n",
       "      <td>7.500000</td>\n",
       "    </tr>\n",
       "    <tr>\n",
       "      <th>Hatsuhana</th>\n",
       "      <td>35.0</td>\n",
       "      <td>26.600000</td>\n",
       "      <td>8.400000</td>\n",
       "    </tr>\n",
       "    <tr>\n",
       "      <th>Bhatti Indian Grill</th>\n",
       "      <td>32.0</td>\n",
       "      <td>21.000000</td>\n",
       "      <td>11.000000</td>\n",
       "    </tr>\n",
       "    <tr>\n",
       "      <th>Carmine's</th>\n",
       "      <td>33.5</td>\n",
       "      <td>20.000000</td>\n",
       "      <td>13.500000</td>\n",
       "    </tr>\n",
       "  </tbody>\n",
       "</table>\n",
       "<p>102 rows × 3 columns</p>\n",
       "</div>"
      ],
      "text/plain": [
       "day_of_the_week               Weekday    Weekend       diff\n",
       "restaurant_name                                            \n",
       "Tres Carnes                      21.0  30.000000  -9.000000\n",
       "Sushi Samba                      21.0  29.900000  -8.900000\n",
       "Lantern Thai Kitchen             22.0  30.333333  -8.333333\n",
       "Haandi                           23.0  31.000000  -8.000000\n",
       "V-Nam Cafe                       20.0  28.000000  -8.000000\n",
       "...                               ...        ...        ...\n",
       "Tarallucci e Vino Restaurant     28.0  21.000000   7.000000\n",
       "Sarabeth's                       33.0  25.500000   7.500000\n",
       "Hatsuhana                        35.0  26.600000   8.400000\n",
       "Bhatti Indian Grill              32.0  21.000000  11.000000\n",
       "Carmine's                        33.5  20.000000  13.500000\n",
       "\n",
       "[102 rows x 3 columns]"
      ]
     },
     "execution_count": 54,
     "metadata": {},
     "output_type": "execute_result"
    }
   ],
   "source": [
    "avg_preparation_resto_weekday = df.groupby(['restaurant_name', 'day_of_the_week'])['food_preparation_time'].mean().unstack()\n",
    "avg_preparation_resto_weekday['diff'] = avg_preparation_resto_weekday.Weekday - avg_preparation_resto_weekday.Weekend\n",
    "avg_preparation_resto_weekday.dropna().sort_values(by = 'diff')"
   ]
  },
  {
   "cell_type": "code",
   "execution_count": 55,
   "metadata": {},
   "outputs": [
    {
     "data": {
      "image/png": "[encoded data removed]",
      "text/plain": [
       "<Figure size 864x504 with 2 Axes>"
      ]
     },
     "metadata": {
      "needs_background": "light"
     },
     "output_type": "display_data"
    }
   ],
   "source": [
    "histogram_boxplot(avg_preparation_resto_weekday.dropna(), 'diff')"
   ]
  },
  {
   "cell_type": "markdown",
   "metadata": {},
   "source": [
    "- The difference in preparation time between weekdays and weekends for each restaurant is more or less evenly spread around 0"
   ]
  },
  {
   "cell_type": "markdown",
   "metadata": {},
   "source": [
    "##### Food preparation time vs cuisine type"
   ]
  },
  {
   "cell_type": "code",
   "execution_count": 56,
   "metadata": {},
   "outputs": [
    {
     "data": {
      "image/png": "[encoded data removed]",
      "text/plain": [
       "<Figure size 864x504 with 1 Axes>"
      ]
     },
     "metadata": {
      "needs_background": "light"
     },
     "output_type": "display_data"
    }
   ],
   "source": [
    "numVsCatPlot(df, 'food_preparation_time', 'cuisine_type')"
   ]
  },
  {
   "cell_type": "markdown",
   "metadata": {},
   "source": [
    "- The lowest preparation time is for vietnamese and Korean cuisines"
   ]
  },
  {
   "cell_type": "markdown",
   "metadata": {},
   "source": [
    "##### Food preparation time vs day of the week"
   ]
  },
  {
   "cell_type": "code",
   "execution_count": 58,
   "metadata": {},
   "outputs": [
    {
     "data": {
      "image/png": "[encoded data removed]",
      "text/plain": [
       "<Figure size 864x504 with 1 Axes>"
      ]
     },
     "metadata": {
      "needs_background": "light"
     },
     "output_type": "display_data"
    }
   ],
   "source": [
    "numVsCatPlot(df, 'food_preparation_time', 'day_of_the_week')"
   ]
  },
  {
   "cell_type": "markdown",
   "metadata": {},
   "source": [
    "- Preparation time seems higher in weekend but it is not that significant"
   ]
  },
  {
   "cell_type": "markdown",
   "metadata": {},
   "source": [
    "##### Food preparation time vs rating"
   ]
  },
  {
   "cell_type": "code",
   "execution_count": 59,
   "metadata": {},
   "outputs": [
    {
     "data": {
      "image/png": "[encoded data removed]",
      "text/plain": [
       "<Figure size 864x504 with 1 Axes>"
      ]
     },
     "metadata": {
      "needs_background": "light"
     },
     "output_type": "display_data"
    }
   ],
   "source": [
    "numVsCatPlot(df, 'food_preparation_time', 'rating')"
   ]
  },
  {
   "cell_type": "markdown",
   "metadata": {},
   "source": [
    "- Food preparation time has no significant effect on the rating"
   ]
  },
  {
   "cell_type": "markdown",
   "metadata": {},
   "source": [
    "##### Delivery time vs restaurant"
   ]
  },
  {
   "cell_type": "code",
   "execution_count": 60,
   "metadata": {},
   "outputs": [
    {
     "data": {
      "text/plain": [
       "restaurant_name\n",
       "Sarabeth's West       33.0\n",
       "Taro Sushi            32.0\n",
       "Haru Gramercy Park    32.0\n",
       "Frank Restaurant      31.0\n",
       "Haandi                30.5\n",
       "                      ... \n",
       "Galli Restaurant      16.0\n",
       "The MasalaWala        15.0\n",
       "Paul & Jimmy's        15.0\n",
       "Hibino                15.0\n",
       "Gaia Italian Cafe     15.0\n",
       "Name: delivery_time, Length: 178, dtype: float64"
      ]
     },
     "execution_count": 60,
     "metadata": {},
     "output_type": "execute_result"
    }
   ],
   "source": [
    "df.groupby('restaurant_name')['delivery_time'].mean().sort_values(ascending = False)"
   ]
  },
  {
   "cell_type": "code",
   "execution_count": 61,
   "metadata": {},
   "outputs": [
    {
     "data": {
      "text/html": [
       "<div>\n",
       "<style scoped>\n",
       "    .dataframe tbody tr th:only-of-type {\n",
       "        vertical-align: middle;\n",
       "    }\n",
       "\n",
       "    .dataframe tbody tr th {\n",
       "        vertical-align: top;\n",
       "    }\n",
       "\n",
       "    .dataframe thead th {\n",
       "        text-align: right;\n",
       "    }\n",
       "</style>\n",
       "<table border=\"1\" class=\"dataframe\">\n",
       "  <thead>\n",
       "    <tr style=\"text-align: right;\">\n",
       "      <th>day_of_the_week</th>\n",
       "      <th>Weekday</th>\n",
       "      <th>Weekend</th>\n",
       "      <th>diff</th>\n",
       "    </tr>\n",
       "    <tr>\n",
       "      <th>restaurant_name</th>\n",
       "      <th></th>\n",
       "      <th></th>\n",
       "      <th></th>\n",
       "    </tr>\n",
       "  </thead>\n",
       "  <tbody>\n",
       "    <tr>\n",
       "      <th>UVA Wine Bar &amp; Restaurant</th>\n",
       "      <td>25.0</td>\n",
       "      <td>30.000000</td>\n",
       "      <td>-5.000000</td>\n",
       "    </tr>\n",
       "    <tr>\n",
       "      <th>Prosperity Dumpling</th>\n",
       "      <td>24.0</td>\n",
       "      <td>27.000000</td>\n",
       "      <td>-3.000000</td>\n",
       "    </tr>\n",
       "    <tr>\n",
       "      <th>Haveli Indian Restaurant</th>\n",
       "      <td>24.0</td>\n",
       "      <td>26.000000</td>\n",
       "      <td>-2.000000</td>\n",
       "    </tr>\n",
       "    <tr>\n",
       "      <th>Xe May Sandwich Shop</th>\n",
       "      <td>28.0</td>\n",
       "      <td>29.000000</td>\n",
       "      <td>-1.000000</td>\n",
       "    </tr>\n",
       "    <tr>\n",
       "      <th>Pepe Rosso To Go</th>\n",
       "      <td>24.0</td>\n",
       "      <td>24.333333</td>\n",
       "      <td>-0.333333</td>\n",
       "    </tr>\n",
       "    <tr>\n",
       "      <th>...</th>\n",
       "      <td>...</td>\n",
       "      <td>...</td>\n",
       "      <td>...</td>\n",
       "    </tr>\n",
       "    <tr>\n",
       "      <th>Kanoyama</th>\n",
       "      <td>33.0</td>\n",
       "      <td>20.000000</td>\n",
       "      <td>13.000000</td>\n",
       "    </tr>\n",
       "    <tr>\n",
       "      <th>Sarabeth's</th>\n",
       "      <td>33.0</td>\n",
       "      <td>20.000000</td>\n",
       "      <td>13.000000</td>\n",
       "    </tr>\n",
       "    <tr>\n",
       "      <th>Bhatti Indian Grill</th>\n",
       "      <td>30.0</td>\n",
       "      <td>15.000000</td>\n",
       "      <td>15.000000</td>\n",
       "    </tr>\n",
       "    <tr>\n",
       "      <th>Room Service</th>\n",
       "      <td>32.0</td>\n",
       "      <td>15.500000</td>\n",
       "      <td>16.500000</td>\n",
       "    </tr>\n",
       "    <tr>\n",
       "      <th>Tarallucci e Vino Restaurant</th>\n",
       "      <td>33.0</td>\n",
       "      <td>15.000000</td>\n",
       "      <td>18.000000</td>\n",
       "    </tr>\n",
       "  </tbody>\n",
       "</table>\n",
       "<p>102 rows × 3 columns</p>\n",
       "</div>"
      ],
      "text/plain": [
       "day_of_the_week               Weekday    Weekend       diff\n",
       "restaurant_name                                            \n",
       "UVA Wine Bar & Restaurant        25.0  30.000000  -5.000000\n",
       "Prosperity Dumpling              24.0  27.000000  -3.000000\n",
       "Haveli Indian Restaurant         24.0  26.000000  -2.000000\n",
       "Xe May Sandwich Shop             28.0  29.000000  -1.000000\n",
       "Pepe Rosso To Go                 24.0  24.333333  -0.333333\n",
       "...                               ...        ...        ...\n",
       "Kanoyama                         33.0  20.000000  13.000000\n",
       "Sarabeth's                       33.0  20.000000  13.000000\n",
       "Bhatti Indian Grill              30.0  15.000000  15.000000\n",
       "Room Service                     32.0  15.500000  16.500000\n",
       "Tarallucci e Vino Restaurant     33.0  15.000000  18.000000\n",
       "\n",
       "[102 rows x 3 columns]"
      ]
     },
     "execution_count": 61,
     "metadata": {},
     "output_type": "execute_result"
    }
   ],
   "source": [
    "avg_delivery_resto_weekday = df.groupby(['restaurant_name', 'day_of_the_week'])['delivery_time'].mean().unstack()\n",
    "avg_delivery_resto_weekday['diff'] = avg_delivery_resto_weekday.Weekday - avg_delivery_resto_weekday.Weekend\n",
    "avg_delivery_resto_weekday.dropna().sort_values(by = 'diff')"
   ]
  },
  {
   "cell_type": "code",
   "execution_count": 62,
   "metadata": {},
   "outputs": [
    {
     "data": {
      "image/png": "[encoded data removed]",
      "text/plain": [
       "<Figure size 864x504 with 2 Axes>"
      ]
     },
     "metadata": {
      "needs_background": "light"
     },
     "output_type": "display_data"
    }
   ],
   "source": [
    "histogram_boxplot(avg_delivery_resto_weekday.dropna(), 'diff')"
   ]
  },
  {
   "cell_type": "markdown",
   "metadata": {},
   "source": [
    "- On average, delivery time takes longer on weekends for most restaurants"
   ]
  },
  {
   "cell_type": "markdown",
   "metadata": {},
   "source": [
    "##### Delivery time vs cuisine type"
   ]
  },
  {
   "cell_type": "code",
   "execution_count": 63,
   "metadata": {},
   "outputs": [
    {
     "data": {
      "image/png": "[encoded data removed]",
      "text/plain": [
       "<Figure size 864x504 with 1 Axes>"
      ]
     },
     "metadata": {
      "needs_background": "light"
     },
     "output_type": "display_data"
    }
   ],
   "source": [
    "numVsCatPlot(df, 'delivery_time', 'cuisine_type')"
   ]
  },
  {
   "cell_type": "markdown",
   "metadata": {},
   "source": [
    "- Delivery time can be grouped, on average, into three groups of cuisne type\n",
    "- The slower delivery times are for Vietnamese and French cuisines\n",
    "- The fastest delivery time is for Korean\n",
    "- Delivery time for the remaining times is more or less the same"
   ]
  },
  {
   "cell_type": "markdown",
   "metadata": {},
   "source": [
    "##### Delivery time vs day of the week"
   ]
  },
  {
   "cell_type": "code",
   "execution_count": 64,
   "metadata": {},
   "outputs": [
    {
     "data": {
      "image/png": "[encoded data removed]",
      "text/plain": [
       "<Figure size 864x504 with 1 Axes>"
      ]
     },
     "metadata": {
      "needs_background": "light"
     },
     "output_type": "display_data"
    }
   ],
   "source": [
    "numVsCatPlot(df, 'delivery_time', 'day_of_the_week')"
   ]
  },
  {
   "cell_type": "markdown",
   "metadata": {},
   "source": [
    "- Delivery time is significantly higher during the weekday"
   ]
  },
  {
   "cell_type": "markdown",
   "metadata": {},
   "source": [
    "##### Delivery time vs Rating"
   ]
  },
  {
   "cell_type": "code",
   "execution_count": 65,
   "metadata": {},
   "outputs": [
    {
     "data": {
      "image/png": "[encoded data removed]",
      "text/plain": [
       "<Figure size 864x504 with 1 Axes>"
      ]
     },
     "metadata": {
      "needs_background": "light"
     },
     "output_type": "display_data"
    }
   ],
   "source": [
    "numVsCatPlot(df, 'delivery_time', 'rating')"
   ]
  },
  {
   "cell_type": "markdown",
   "metadata": {},
   "source": [
    "- The lowest rating has the highest average time but the effect doesn't look significant. Furthermore, ratings of 5 are for delivery time higher than ratings of 4"
   ]
  },
  {
   "cell_type": "markdown",
   "metadata": {},
   "source": [
    "#### Categorical vs Categorical"
   ]
  },
  {
   "cell_type": "markdown",
   "metadata": {},
   "source": [
    "##### Rating vs Restaurant"
   ]
  },
  {
   "cell_type": "markdown",
   "metadata": {},
   "source": [
    "Restaurant that have that are least rated"
   ]
  },
  {
   "cell_type": "code",
   "execution_count": 74,
   "metadata": {},
   "outputs": [],
   "source": [
    "rating_by_restaurant = df.groupby(['restaurant_name', 'rating'])['rating'].count().unstack().fillna(0)\n",
    "# Calculate the number of orders for each resturant\n",
    "num_orders_by_restaurant = rating_by_restaurant.sum(axis = 1)\n",
    "# Calculate the proportion of the different ratings for each restaurant\n",
    "rating_by_restaurant = rating_by_restaurant.apply(lambda x: x /num_orders_by_restaurant , axis = 0)\n",
    "# Order by the propotion of non rated orders\n",
    "rating_by_restaurant.sort_values(by = 'Not given', ascending = False, inplace = True)"
   ]
  },
  {
   "cell_type": "code",
   "execution_count": 75,
   "metadata": {},
   "outputs": [
    {
     "data": {
      "text/html": [
       "<div>\n",
       "<style scoped>\n",
       "    .dataframe tbody tr th:only-of-type {\n",
       "        vertical-align: middle;\n",
       "    }\n",
       "\n",
       "    .dataframe tbody tr th {\n",
       "        vertical-align: top;\n",
       "    }\n",
       "\n",
       "    .dataframe thead th {\n",
       "        text-align: right;\n",
       "    }\n",
       "</style>\n",
       "<table border=\"1\" class=\"dataframe\">\n",
       "  <thead>\n",
       "    <tr style=\"text-align: right;\">\n",
       "      <th>rating</th>\n",
       "      <th>3</th>\n",
       "      <th>4</th>\n",
       "      <th>5</th>\n",
       "      <th>Not given</th>\n",
       "    </tr>\n",
       "    <tr>\n",
       "      <th>restaurant_name</th>\n",
       "      <th></th>\n",
       "      <th></th>\n",
       "      <th></th>\n",
       "      <th></th>\n",
       "    </tr>\n",
       "  </thead>\n",
       "  <tbody>\n",
       "    <tr>\n",
       "      <th>Lamarca Pasta</th>\n",
       "      <td>0.0</td>\n",
       "      <td>0.0</td>\n",
       "      <td>0.0</td>\n",
       "      <td>1.0</td>\n",
       "    </tr>\n",
       "    <tr>\n",
       "      <th>Big Wong Restaurant _¤¾Ñ¼</th>\n",
       "      <td>0.0</td>\n",
       "      <td>0.0</td>\n",
       "      <td>0.0</td>\n",
       "      <td>1.0</td>\n",
       "    </tr>\n",
       "    <tr>\n",
       "      <th>Friend of a Farmer</th>\n",
       "      <td>0.0</td>\n",
       "      <td>0.0</td>\n",
       "      <td>0.0</td>\n",
       "      <td>1.0</td>\n",
       "    </tr>\n",
       "    <tr>\n",
       "      <th>Gaia Italian Cafe</th>\n",
       "      <td>0.0</td>\n",
       "      <td>0.0</td>\n",
       "      <td>0.0</td>\n",
       "      <td>1.0</td>\n",
       "    </tr>\n",
       "    <tr>\n",
       "      <th>Hangawi</th>\n",
       "      <td>0.0</td>\n",
       "      <td>0.0</td>\n",
       "      <td>0.0</td>\n",
       "      <td>1.0</td>\n",
       "    </tr>\n",
       "    <tr>\n",
       "      <th>...</th>\n",
       "      <td>...</td>\n",
       "      <td>...</td>\n",
       "      <td>...</td>\n",
       "      <td>...</td>\n",
       "    </tr>\n",
       "    <tr>\n",
       "      <th>Hibino</th>\n",
       "      <td>0.0</td>\n",
       "      <td>1.0</td>\n",
       "      <td>0.0</td>\n",
       "      <td>0.0</td>\n",
       "    </tr>\n",
       "    <tr>\n",
       "      <th>Socarrat Paella Bar</th>\n",
       "      <td>0.0</td>\n",
       "      <td>0.0</td>\n",
       "      <td>1.0</td>\n",
       "      <td>0.0</td>\n",
       "    </tr>\n",
       "    <tr>\n",
       "      <th>Song Thai Restaurant &amp; Bar</th>\n",
       "      <td>0.0</td>\n",
       "      <td>0.0</td>\n",
       "      <td>1.0</td>\n",
       "      <td>0.0</td>\n",
       "    </tr>\n",
       "    <tr>\n",
       "      <th>Haveli Indian Restaurant</th>\n",
       "      <td>1.0</td>\n",
       "      <td>0.0</td>\n",
       "      <td>0.0</td>\n",
       "      <td>0.0</td>\n",
       "    </tr>\n",
       "    <tr>\n",
       "      <th>'wichcraft</th>\n",
       "      <td>0.0</td>\n",
       "      <td>0.0</td>\n",
       "      <td>1.0</td>\n",
       "      <td>0.0</td>\n",
       "    </tr>\n",
       "  </tbody>\n",
       "</table>\n",
       "<p>178 rows × 4 columns</p>\n",
       "</div>"
      ],
      "text/plain": [
       "rating                        3    4    5  Not given\n",
       "restaurant_name                                     \n",
       "Lamarca Pasta               0.0  0.0  0.0        1.0\n",
       "Big Wong Restaurant _¤¾Ñ¼  0.0  0.0  0.0        1.0\n",
       "Friend of a Farmer          0.0  0.0  0.0        1.0\n",
       "Gaia Italian Cafe           0.0  0.0  0.0        1.0\n",
       "Hangawi                     0.0  0.0  0.0        1.0\n",
       "...                         ...  ...  ...        ...\n",
       "Hibino                      0.0  1.0  0.0        0.0\n",
       "Socarrat Paella Bar         0.0  0.0  1.0        0.0\n",
       "Song Thai Restaurant & Bar  0.0  0.0  1.0        0.0\n",
       "Haveli Indian Restaurant    1.0  0.0  0.0        0.0\n",
       "'wichcraft                  0.0  0.0  1.0        0.0\n",
       "\n",
       "[178 rows x 4 columns]"
      ]
     },
     "execution_count": 75,
     "metadata": {},
     "output_type": "execute_result"
    }
   ],
   "source": [
    "rating_by_restaurant"
   ]
  },
  {
   "cell_type": "code",
   "execution_count": 76,
   "metadata": {},
   "outputs": [
    {
     "data": {
      "text/html": [
       "<div>\n",
       "<style scoped>\n",
       "    .dataframe tbody tr th:only-of-type {\n",
       "        vertical-align: middle;\n",
       "    }\n",
       "\n",
       "    .dataframe tbody tr th {\n",
       "        vertical-align: top;\n",
       "    }\n",
       "\n",
       "    .dataframe thead th {\n",
       "        text-align: right;\n",
       "    }\n",
       "</style>\n",
       "<table border=\"1\" class=\"dataframe\">\n",
       "  <thead>\n",
       "    <tr style=\"text-align: right;\">\n",
       "      <th>rating</th>\n",
       "      <th>3</th>\n",
       "      <th>4</th>\n",
       "      <th>5</th>\n",
       "      <th>Not given</th>\n",
       "    </tr>\n",
       "    <tr>\n",
       "      <th>restaurant_name</th>\n",
       "      <th></th>\n",
       "      <th></th>\n",
       "      <th></th>\n",
       "      <th></th>\n",
       "    </tr>\n",
       "  </thead>\n",
       "  <tbody>\n",
       "    <tr>\n",
       "      <th>Donburi-ya</th>\n",
       "      <td>0.000000</td>\n",
       "      <td>0.000000</td>\n",
       "      <td>0.428571</td>\n",
       "      <td>0.571429</td>\n",
       "    </tr>\n",
       "    <tr>\n",
       "      <th>Sarabeth's East</th>\n",
       "      <td>0.142857</td>\n",
       "      <td>0.285714</td>\n",
       "      <td>0.000000</td>\n",
       "      <td>0.571429</td>\n",
       "    </tr>\n",
       "    <tr>\n",
       "      <th>Sarabeth's Restaurant</th>\n",
       "      <td>0.000000</td>\n",
       "      <td>0.142857</td>\n",
       "      <td>0.285714</td>\n",
       "      <td>0.571429</td>\n",
       "    </tr>\n",
       "    <tr>\n",
       "      <th>Osteria Morini</th>\n",
       "      <td>0.142857</td>\n",
       "      <td>0.142857</td>\n",
       "      <td>0.142857</td>\n",
       "      <td>0.571429</td>\n",
       "    </tr>\n",
       "    <tr>\n",
       "      <th>Sushi of Gari</th>\n",
       "      <td>0.000000</td>\n",
       "      <td>0.125000</td>\n",
       "      <td>0.312500</td>\n",
       "      <td>0.562500</td>\n",
       "    </tr>\n",
       "    <tr>\n",
       "      <th>Boqueria</th>\n",
       "      <td>0.000000</td>\n",
       "      <td>0.111111</td>\n",
       "      <td>0.333333</td>\n",
       "      <td>0.555556</td>\n",
       "    </tr>\n",
       "    <tr>\n",
       "      <th>Cafeteria</th>\n",
       "      <td>0.333333</td>\n",
       "      <td>0.111111</td>\n",
       "      <td>0.000000</td>\n",
       "      <td>0.555556</td>\n",
       "    </tr>\n",
       "    <tr>\n",
       "      <th>Yama Japanese Restaurant</th>\n",
       "      <td>0.055556</td>\n",
       "      <td>0.111111</td>\n",
       "      <td>0.277778</td>\n",
       "      <td>0.555556</td>\n",
       "    </tr>\n",
       "    <tr>\n",
       "      <th>Sushi of Gari 46</th>\n",
       "      <td>0.081081</td>\n",
       "      <td>0.189189</td>\n",
       "      <td>0.189189</td>\n",
       "      <td>0.540541</td>\n",
       "    </tr>\n",
       "    <tr>\n",
       "      <th>Vanessa's Dumplings</th>\n",
       "      <td>0.000000</td>\n",
       "      <td>0.153846</td>\n",
       "      <td>0.307692</td>\n",
       "      <td>0.538462</td>\n",
       "    </tr>\n",
       "  </tbody>\n",
       "</table>\n",
       "</div>"
      ],
      "text/plain": [
       "rating                           3         4         5  Not given\n",
       "restaurant_name                                                  \n",
       "Donburi-ya                0.000000  0.000000  0.428571   0.571429\n",
       "Sarabeth's East           0.142857  0.285714  0.000000   0.571429\n",
       "Sarabeth's Restaurant     0.000000  0.142857  0.285714   0.571429\n",
       "Osteria Morini            0.142857  0.142857  0.142857   0.571429\n",
       "Sushi of Gari             0.000000  0.125000  0.312500   0.562500\n",
       "Boqueria                  0.000000  0.111111  0.333333   0.555556\n",
       "Cafeteria                 0.333333  0.111111  0.000000   0.555556\n",
       "Yama Japanese Restaurant  0.055556  0.111111  0.277778   0.555556\n",
       "Sushi of Gari 46          0.081081  0.189189  0.189189   0.540541\n",
       "Vanessa's Dumplings       0.000000  0.153846  0.307692   0.538462"
      ]
     },
     "execution_count": 76,
     "metadata": {},
     "output_type": "execute_result"
    }
   ],
   "source": [
    "rating_by_restaurant.loc[num_orders_by_restaurant > 5].head(10)"
   ]
  },
  {
   "cell_type": "code",
   "execution_count": 73,
   "metadata": {},
   "outputs": [
    {
     "data": {
      "text/html": [
       "<div>\n",
       "<style scoped>\n",
       "    .dataframe tbody tr th:only-of-type {\n",
       "        vertical-align: middle;\n",
       "    }\n",
       "\n",
       "    .dataframe tbody tr th {\n",
       "        vertical-align: top;\n",
       "    }\n",
       "\n",
       "    .dataframe thead th {\n",
       "        text-align: right;\n",
       "    }\n",
       "</style>\n",
       "<table border=\"1\" class=\"dataframe\">\n",
       "  <thead>\n",
       "    <tr style=\"text-align: right;\">\n",
       "      <th>rating</th>\n",
       "      <th>3</th>\n",
       "      <th>4</th>\n",
       "      <th>5</th>\n",
       "      <th>Not given</th>\n",
       "    </tr>\n",
       "    <tr>\n",
       "      <th>restaurant_name</th>\n",
       "      <th></th>\n",
       "      <th></th>\n",
       "      <th></th>\n",
       "      <th></th>\n",
       "    </tr>\n",
       "  </thead>\n",
       "  <tbody>\n",
       "    <tr>\n",
       "      <th>Sushi Samba</th>\n",
       "      <td>0.000000</td>\n",
       "      <td>0.090909</td>\n",
       "      <td>0.636364</td>\n",
       "      <td>0.272727</td>\n",
       "    </tr>\n",
       "    <tr>\n",
       "      <th>Momoya</th>\n",
       "      <td>0.100000</td>\n",
       "      <td>0.333333</td>\n",
       "      <td>0.300000</td>\n",
       "      <td>0.266667</td>\n",
       "    </tr>\n",
       "    <tr>\n",
       "      <th>Tamarind TriBeCa</th>\n",
       "      <td>0.111111</td>\n",
       "      <td>0.222222</td>\n",
       "      <td>0.407407</td>\n",
       "      <td>0.259259</td>\n",
       "    </tr>\n",
       "    <tr>\n",
       "      <th>Jack's Wife Freda</th>\n",
       "      <td>0.200000</td>\n",
       "      <td>0.120000</td>\n",
       "      <td>0.440000</td>\n",
       "      <td>0.240000</td>\n",
       "    </tr>\n",
       "    <tr>\n",
       "      <th>Xi'an Famous Foods</th>\n",
       "      <td>0.111111</td>\n",
       "      <td>0.333333</td>\n",
       "      <td>0.333333</td>\n",
       "      <td>0.222222</td>\n",
       "    </tr>\n",
       "    <tr>\n",
       "      <th>Hill Country Fried Chicken</th>\n",
       "      <td>0.071429</td>\n",
       "      <td>0.357143</td>\n",
       "      <td>0.357143</td>\n",
       "      <td>0.214286</td>\n",
       "    </tr>\n",
       "    <tr>\n",
       "      <th>J. G. Melon</th>\n",
       "      <td>0.133333</td>\n",
       "      <td>0.200000</td>\n",
       "      <td>0.466667</td>\n",
       "      <td>0.200000</td>\n",
       "    </tr>\n",
       "    <tr>\n",
       "      <th>Melt Shop</th>\n",
       "      <td>0.090909</td>\n",
       "      <td>0.363636</td>\n",
       "      <td>0.363636</td>\n",
       "      <td>0.181818</td>\n",
       "    </tr>\n",
       "    <tr>\n",
       "      <th>Cho Dang Gol</th>\n",
       "      <td>0.000000</td>\n",
       "      <td>0.333333</td>\n",
       "      <td>0.500000</td>\n",
       "      <td>0.166667</td>\n",
       "    </tr>\n",
       "    <tr>\n",
       "      <th>Hatsuhana</th>\n",
       "      <td>0.166667</td>\n",
       "      <td>0.500000</td>\n",
       "      <td>0.166667</td>\n",
       "      <td>0.166667</td>\n",
       "    </tr>\n",
       "  </tbody>\n",
       "</table>\n",
       "</div>"
      ],
      "text/plain": [
       "rating                             3         4         5  Not given\n",
       "restaurant_name                                                    \n",
       "Sushi Samba                 0.000000  0.090909  0.636364   0.272727\n",
       "Momoya                      0.100000  0.333333  0.300000   0.266667\n",
       "Tamarind TriBeCa            0.111111  0.222222  0.407407   0.259259\n",
       "Jack's Wife Freda           0.200000  0.120000  0.440000   0.240000\n",
       "Xi'an Famous Foods          0.111111  0.333333  0.333333   0.222222\n",
       "Hill Country Fried Chicken  0.071429  0.357143  0.357143   0.214286\n",
       "J. G. Melon                 0.133333  0.200000  0.466667   0.200000\n",
       "Melt Shop                   0.090909  0.363636  0.363636   0.181818\n",
       "Cho Dang Gol                0.000000  0.333333  0.500000   0.166667\n",
       "Hatsuhana                   0.166667  0.500000  0.166667   0.166667"
      ]
     },
     "execution_count": 73,
     "metadata": {},
     "output_type": "execute_result"
    }
   ],
   "source": [
    "rating_by_restaurant.loc[num_orders_by_restaurant > 5].tail(10)"
   ]
  },
  {
   "cell_type": "markdown",
   "metadata": {},
   "source": [
    "##### Rating vs Cuisine Type"
   ]
  },
  {
   "cell_type": "code",
   "execution_count": 78,
   "metadata": {},
   "outputs": [
    {
     "data": {
      "image/png": "[encoded data removed]",
      "text/plain": [
       "<Figure size 792x360 with 1 Axes>"
      ]
     },
     "metadata": {
      "needs_background": "light"
     },
     "output_type": "display_data"
    }
   ],
   "source": [
    "labeled_barplot(df, 'cuisine_type', hue = 'rating', n = 10)"
   ]
  },
  {
   "cell_type": "code",
   "execution_count": 81,
   "metadata": {},
   "outputs": [
    {
     "data": {
      "image/png": "[encoded data removed]",
      "text/plain": [
       "<Figure size 864x504 with 1 Axes>"
      ]
     },
     "metadata": {
      "needs_background": "light"
     },
     "output_type": "display_data"
    }
   ],
   "source": [
    "numVsCatPlot(df_rated, 'rating', 'cuisine_type')"
   ]
  },
  {
   "cell_type": "markdown",
   "metadata": {},
   "source": [
    "- Thai, Indian and Mexican are the highest rated cuisne types on average but the effect is not significant.\n",
    "- Japanese Italian and American are the most consistently rated types of cuisine\n",
    "- Mediteranian ans vietnamese are the most spread in terms of ratings"
   ]
  },
  {
   "cell_type": "markdown",
   "metadata": {},
   "source": [
    "##### Rating vs Day of the week"
   ]
  },
  {
   "cell_type": "code",
   "execution_count": 83,
   "metadata": {},
   "outputs": [
    {
     "data": {
      "image/png": "[encoded data removed]",
      "text/plain": [
       "<Figure size 792x360 with 1 Axes>"
      ]
     },
     "metadata": {
      "needs_background": "light"
     },
     "output_type": "display_data"
    }
   ],
   "source": [
    "labeled_barplot(df, 'day_of_the_week', hue = 'rating', n = 10)"
   ]
  },
  {
   "cell_type": "code",
   "execution_count": 82,
   "metadata": {},
   "outputs": [
    {
     "data": {
      "image/png": "[encoded data removed]",
      "text/plain": [
       "<Figure size 864x504 with 1 Axes>"
      ]
     },
     "metadata": {
      "needs_background": "light"
     },
     "output_type": "display_data"
    }
   ],
   "source": [
    "numVsCatPlot(df_rated, 'rating', 'day_of_the_week')"
   ]
  },
  {
   "cell_type": "markdown",
   "metadata": {},
   "source": [
    "- Rating does not seem affected by the day of the week"
   ]
  },
  {
   "cell_type": "markdown",
   "metadata": {},
   "source": [
    "##### restaurant vs cuisine Type"
   ]
  },
  {
   "cell_type": "code",
   "execution_count": 84,
   "metadata": {},
   "outputs": [],
   "source": [
    "restaurant_vs_type = df.drop_duplicates(subset= ['restaurant_name', 'cuisine_type'])[['restaurant_name', 'cuisine_type']]"
   ]
  },
  {
   "cell_type": "markdown",
   "metadata": {},
   "source": [
    "The meatball shop seems to have two types of cuisines"
   ]
  },
  {
   "cell_type": "code",
   "execution_count": 85,
   "metadata": {},
   "outputs": [
    {
     "data": {
      "text/plain": [
       "The Meatball Shop             2\n",
       "Hangawi                       1\n",
       "Olea                          1\n",
       "UVA Wine Bar & Restaurant     1\n",
       "Serafina Fabulous Pizza       1\n",
       "                             ..\n",
       "Song Thai Restaurant & Bar    1\n",
       "Five Leaves                   1\n",
       "Pinto Nouveau Thai Bistro     1\n",
       "Amy Ruth's                    1\n",
       "'wichcraft                    1\n",
       "Name: restaurant_name, Length: 178, dtype: int64"
      ]
     },
     "execution_count": 85,
     "metadata": {},
     "output_type": "execute_result"
    }
   ],
   "source": [
    "restaurant_vs_type.restaurant_name.value_counts()"
   ]
  },
  {
   "cell_type": "markdown",
   "metadata": {},
   "source": [
    "Let's check the type of the top 5 restaurants"
   ]
  },
  {
   "cell_type": "code",
   "execution_count": 89,
   "metadata": {},
   "outputs": [
    {
     "data": {
      "text/html": [
       "<div>\n",
       "<style scoped>\n",
       "    .dataframe tbody tr th:only-of-type {\n",
       "        vertical-align: middle;\n",
       "    }\n",
       "\n",
       "    .dataframe tbody tr th {\n",
       "        vertical-align: top;\n",
       "    }\n",
       "\n",
       "    .dataframe thead th {\n",
       "        text-align: right;\n",
       "    }\n",
       "</style>\n",
       "<table border=\"1\" class=\"dataframe\">\n",
       "  <thead>\n",
       "    <tr style=\"text-align: right;\">\n",
       "      <th></th>\n",
       "      <th>cuisine_type</th>\n",
       "    </tr>\n",
       "    <tr>\n",
       "      <th>restaurant_name</th>\n",
       "      <th></th>\n",
       "    </tr>\n",
       "  </thead>\n",
       "  <tbody>\n",
       "    <tr>\n",
       "      <th>Shake Shack</th>\n",
       "      <td>American</td>\n",
       "    </tr>\n",
       "    <tr>\n",
       "      <th>The Meatball Shop</th>\n",
       "      <td>Italian</td>\n",
       "    </tr>\n",
       "    <tr>\n",
       "      <th>The Meatball Shop</th>\n",
       "      <td>American</td>\n",
       "    </tr>\n",
       "    <tr>\n",
       "      <th>Blue Ribbon Sushi</th>\n",
       "      <td>Japanese</td>\n",
       "    </tr>\n",
       "    <tr>\n",
       "      <th>Blue Ribbon Fried Chicken</th>\n",
       "      <td>American</td>\n",
       "    </tr>\n",
       "    <tr>\n",
       "      <th>Parm</th>\n",
       "      <td>Italian</td>\n",
       "    </tr>\n",
       "  </tbody>\n",
       "</table>\n",
       "</div>"
      ],
      "text/plain": [
       "                          cuisine_type\n",
       "restaurant_name                       \n",
       "Shake Shack                   American\n",
       "The Meatball Shop              Italian\n",
       "The Meatball Shop             American\n",
       "Blue Ribbon Sushi             Japanese\n",
       "Blue Ribbon Fried Chicken     American\n",
       "Parm                           Italian"
      ]
     },
     "execution_count": 89,
     "metadata": {},
     "output_type": "execute_result"
    }
   ],
   "source": [
    "restaurant_vs_type.set_index('restaurant_name').loc[top5restaurants.index]"
   ]
  },
  {
   "cell_type": "markdown",
   "metadata": {
    "id": "YLkMf09YJY_V"
   },
   "source": [
    "### **Question 13:** The company wants to provide a promotional offer in the advertisement of the restaurants. The condition to get the offer is that the restaurants must have a rating count of more than 50 and the average rating should be greater than 4. Find the restaurants fulfilling the criteria to get the promotional offer. [3 marks]"
   ]
  },
  {
   "cell_type": "code",
   "execution_count": 48,
   "metadata": {
    "id": "0M_QDvbYJY_V"
   },
   "outputs": [],
   "source": [
    "# Write the code here\n",
    "count_average_ratio = df_rated.groupby('restaurant_name')['rating'].agg(['count', 'mean']).dropna()"
   ]
  },
  {
   "cell_type": "code",
   "execution_count": 49,
   "metadata": {},
   "outputs": [
    {
     "data": {
      "text/html": [
       "<div>\n",
       "<style scoped>\n",
       "    .dataframe tbody tr th:only-of-type {\n",
       "        vertical-align: middle;\n",
       "    }\n",
       "\n",
       "    .dataframe tbody tr th {\n",
       "        vertical-align: top;\n",
       "    }\n",
       "\n",
       "    .dataframe thead th {\n",
       "        text-align: right;\n",
       "    }\n",
       "</style>\n",
       "<table border=\"1\" class=\"dataframe\">\n",
       "  <thead>\n",
       "    <tr style=\"text-align: right;\">\n",
       "      <th></th>\n",
       "      <th>count</th>\n",
       "      <th>mean</th>\n",
       "    </tr>\n",
       "    <tr>\n",
       "      <th>restaurant_name</th>\n",
       "      <th></th>\n",
       "      <th></th>\n",
       "    </tr>\n",
       "  </thead>\n",
       "  <tbody>\n",
       "    <tr>\n",
       "      <th>'wichcraft</th>\n",
       "      <td>1</td>\n",
       "      <td>5.000000</td>\n",
       "    </tr>\n",
       "    <tr>\n",
       "      <th>12 Chairs</th>\n",
       "      <td>2</td>\n",
       "      <td>4.500000</td>\n",
       "    </tr>\n",
       "    <tr>\n",
       "      <th>5 Napkin Burger</th>\n",
       "      <td>2</td>\n",
       "      <td>4.000000</td>\n",
       "    </tr>\n",
       "    <tr>\n",
       "      <th>67 Burger</th>\n",
       "      <td>1</td>\n",
       "      <td>5.000000</td>\n",
       "    </tr>\n",
       "    <tr>\n",
       "      <th>Amma</th>\n",
       "      <td>2</td>\n",
       "      <td>4.500000</td>\n",
       "    </tr>\n",
       "    <tr>\n",
       "      <th>...</th>\n",
       "      <td>...</td>\n",
       "      <td>...</td>\n",
       "    </tr>\n",
       "    <tr>\n",
       "      <th>Zero Otto Nove</th>\n",
       "      <td>1</td>\n",
       "      <td>4.000000</td>\n",
       "    </tr>\n",
       "    <tr>\n",
       "      <th>brgr</th>\n",
       "      <td>1</td>\n",
       "      <td>3.000000</td>\n",
       "    </tr>\n",
       "    <tr>\n",
       "      <th>da Umberto</th>\n",
       "      <td>1</td>\n",
       "      <td>5.000000</td>\n",
       "    </tr>\n",
       "    <tr>\n",
       "      <th>ilili Restaurant</th>\n",
       "      <td>13</td>\n",
       "      <td>4.153846</td>\n",
       "    </tr>\n",
       "    <tr>\n",
       "      <th>indikitch</th>\n",
       "      <td>2</td>\n",
       "      <td>4.500000</td>\n",
       "    </tr>\n",
       "  </tbody>\n",
       "</table>\n",
       "<p>156 rows × 2 columns</p>\n",
       "</div>"
      ],
      "text/plain": [
       "                  count      mean\n",
       "restaurant_name                  \n",
       "'wichcraft            1  5.000000\n",
       "12 Chairs             2  4.500000\n",
       "5 Napkin Burger       2  4.000000\n",
       "67 Burger             1  5.000000\n",
       "Amma                  2  4.500000\n",
       "...                 ...       ...\n",
       "Zero Otto Nove        1  4.000000\n",
       "brgr                  1  3.000000\n",
       "da Umberto            1  5.000000\n",
       "ilili Restaurant     13  4.153846\n",
       "indikitch             2  4.500000\n",
       "\n",
       "[156 rows x 2 columns]"
      ]
     },
     "execution_count": 49,
     "metadata": {},
     "output_type": "execute_result"
    }
   ],
   "source": [
    "count_average_ratio"
   ]
  },
  {
   "cell_type": "code",
   "execution_count": 91,
   "metadata": {},
   "outputs": [
    {
     "data": {
      "text/html": [
       "<div>\n",
       "<style scoped>\n",
       "    .dataframe tbody tr th:only-of-type {\n",
       "        vertical-align: middle;\n",
       "    }\n",
       "\n",
       "    .dataframe tbody tr th {\n",
       "        vertical-align: top;\n",
       "    }\n",
       "\n",
       "    .dataframe thead th {\n",
       "        text-align: right;\n",
       "    }\n",
       "</style>\n",
       "<table border=\"1\" class=\"dataframe\">\n",
       "  <thead>\n",
       "    <tr style=\"text-align: right;\">\n",
       "      <th></th>\n",
       "      <th>count</th>\n",
       "      <th>mean</th>\n",
       "    </tr>\n",
       "    <tr>\n",
       "      <th>restaurant_name</th>\n",
       "      <th></th>\n",
       "      <th></th>\n",
       "    </tr>\n",
       "  </thead>\n",
       "  <tbody>\n",
       "    <tr>\n",
       "      <th>Blue Ribbon Fried Chicken</th>\n",
       "      <td>64</td>\n",
       "      <td>4.328125</td>\n",
       "    </tr>\n",
       "    <tr>\n",
       "      <th>Blue Ribbon Sushi</th>\n",
       "      <td>73</td>\n",
       "      <td>4.219178</td>\n",
       "    </tr>\n",
       "    <tr>\n",
       "      <th>Shake Shack</th>\n",
       "      <td>133</td>\n",
       "      <td>4.278195</td>\n",
       "    </tr>\n",
       "    <tr>\n",
       "      <th>The Meatball Shop</th>\n",
       "      <td>84</td>\n",
       "      <td>4.511905</td>\n",
       "    </tr>\n",
       "  </tbody>\n",
       "</table>\n",
       "</div>"
      ],
      "text/plain": [
       "                           count      mean\n",
       "restaurant_name                           \n",
       "Blue Ribbon Fried Chicken     64  4.328125\n",
       "Blue Ribbon Sushi             73  4.219178\n",
       "Shake Shack                  133  4.278195\n",
       "The Meatball Shop             84  4.511905"
      ]
     },
     "execution_count": 91,
     "metadata": {},
     "output_type": "execute_result"
    }
   ],
   "source": [
    "count_average_ratio.loc[(count_average_ratio['count'] > 50)\n",
    "                        & (count_average_ratio['mean'] > 4)]"
   ]
  },
  {
   "cell_type": "markdown",
   "metadata": {
    "id": "10uryUMhJY_V"
   },
   "source": [
    "#### Observations:\n"
   ]
  },
  {
   "cell_type": "markdown",
   "metadata": {},
   "source": [
    "- The restaurants fulfilling the criteria to get the promotional offer are: **'Blue Ribbon Fried Chicken', 'Blue Ribbon Sushi', 'Shake Shack' and 'The Meatball Shop'**."
   ]
  },
  {
   "cell_type": "markdown",
   "metadata": {
    "id": "1gvWBkRUJY_V"
   },
   "source": [
    "### **Question 14:** The company charges the restaurant 25% on the orders having cost greater than 20 dollars and 15% on the orders having cost greater than 5 dollars. Find the net revenue generated by the company across all orders. [3 marks]"
   ]
  },
  {
   "cell_type": "code",
   "execution_count": null,
   "metadata": {
    "id": "rEjbnTNEJY_W"
   },
   "outputs": [],
   "source": [
    "# Write the code here"
   ]
  },
  {
   "cell_type": "code",
   "execution_count": 92,
   "metadata": {},
   "outputs": [
    {
     "data": {
      "text/plain": [
       "6166.303"
      ]
     },
     "execution_count": 92,
     "metadata": {},
     "output_type": "execute_result"
    }
   ],
   "source": [
    "def charges(x):\n",
    "    if x > 20:\n",
    "        return x*0.25\n",
    "    elif x > 5:\n",
    "        return x*0.15\n",
    "    else:\n",
    "        return x*0\n",
    "\n",
    "df['revenue'] = df['cost_of_the_order'].apply(charges)\n",
    "df.revenue.sum()"
   ]
  },
  {
   "cell_type": "markdown",
   "metadata": {},
   "source": [
    "**ADD-ON**: revenues due to the top 5 restaurants"
   ]
  },
  {
   "cell_type": "code",
   "execution_count": 93,
   "metadata": {},
   "outputs": [
    {
     "data": {
      "text/plain": [
       "2042.6565"
      ]
     },
     "execution_count": 93,
     "metadata": {},
     "output_type": "execute_result"
    }
   ],
   "source": [
    "df.loc[df.restaurant_name.isin(top5restaurants.index), 'revenue'].sum()"
   ]
  },
  {
   "cell_type": "markdown",
   "metadata": {
    "id": "XHCEJgH0JY_W"
   },
   "source": [
    "#### Observations:\n"
   ]
  },
  {
   "cell_type": "markdown",
   "metadata": {},
   "source": [
    "The revenue of the company is about 6166 dollars. About one third of this comes from the top 5 restaurants in terms of the number of orders"
   ]
  },
  {
   "cell_type": "markdown",
   "metadata": {
    "id": "pRlVW-oeJY_W"
   },
   "source": [
    "### **Question 15:** The company wants to analyze the total time required to deliver the food. What percentage of orders take more than 60 minutes to get delivered from the time the order is placed? (The food has to be prepared and then delivered.) [2 marks]"
   ]
  },
  {
   "cell_type": "code",
   "execution_count": 68,
   "metadata": {
    "id": "zxoTrxfLJY_W"
   },
   "outputs": [
    {
     "name": "stdout",
     "output_type": "stream",
     "text": [
      "CPU times: user 1.98 ms, sys: 300 µs, total: 2.28 ms\n",
      "Wall time: 2.38 ms\n"
     ]
    },
    {
     "data": {
      "text/plain": [
       "10.537407797681771"
      ]
     },
     "execution_count": 68,
     "metadata": {},
     "output_type": "execute_result"
    }
   ],
   "source": [
    "%%time\n",
    "(df.total_time > 60).mean()*100"
   ]
  },
  {
   "cell_type": "code",
   "execution_count": 69,
   "metadata": {},
   "outputs": [
    {
     "name": "stdout",
     "output_type": "stream",
     "text": [
      "CPU times: user 2.34 ms, sys: 453 µs, total: 2.8 ms\n",
      "Wall time: 3.07 ms\n"
     ]
    },
    {
     "data": {
      "text/plain": [
       "0.1053740779768177"
      ]
     },
     "execution_count": 69,
     "metadata": {},
     "output_type": "execute_result"
    }
   ],
   "source": [
    "%%time\n",
    "df[df['total_time']> 60].shape[0]/df.shape[0]"
   ]
  },
  {
   "cell_type": "code",
   "execution_count": 70,
   "metadata": {},
   "outputs": [
    {
     "name": "stdout",
     "output_type": "stream",
     "text": [
      "The percentage of orders that take more than 60 minutes is: 10.537407797681771 %\n",
      "CPU times: user 4.14 ms, sys: 3.16 ms, total: 7.31 ms\n",
      "Wall time: 7.17 ms\n"
     ]
    }
   ],
   "source": [
    "%%time\n",
    "\n",
    "tdt_gt_60 = 0\n",
    "# getting rows with more than 60 minutes\n",
    "for i in df.total_time:\n",
    "    if i > 60:\n",
    "        tdt_gt_60 = tdt_gt_60 + 1\n",
    "\n",
    "# getting the total rows with more than 60 minutes\n",
    "\n",
    "total_gt_60=len(df.total_time)\n",
    "\n",
    "# calculating the percentage\n",
    "perc_gt_60 = (tdt_gt_60/total_gt_60) * 100\n",
    "\n",
    "print ('The percentage of orders that take more than 60 minutes is:',perc_gt_60, '%')"
   ]
  },
  {
   "cell_type": "markdown",
   "metadata": {
    "id": "iqzBXn2yJY_W"
   },
   "source": [
    "#### Observations:\n"
   ]
  },
  {
   "cell_type": "markdown",
   "metadata": {},
   "source": [
    "- There are about 10% of orders taking more than one hour to be delivered from the order time"
   ]
  },
  {
   "cell_type": "markdown",
   "metadata": {
    "id": "bUd6cYpPJY_W"
   },
   "source": [
    "### **Question 16:** The company wants to analyze the delivery time of the orders on weekdays and weekends. How does the mean delivery time vary during weekdays and weekends? [2 marks]"
   ]
  },
  {
   "cell_type": "code",
   "execution_count": null,
   "metadata": {
    "id": "pIU5xZZ6JY_W"
   },
   "outputs": [],
   "source": [
    "# Write the code here"
   ]
  },
  {
   "cell_type": "code",
   "execution_count": 96,
   "metadata": {},
   "outputs": [
    {
     "data": {
      "text/plain": [
       "day_of_the_week\n",
       "Weekday    28.340037\n",
       "Weekend    22.470022\n",
       "Name: delivery_time, dtype: float64"
      ]
     },
     "execution_count": 96,
     "metadata": {},
     "output_type": "execute_result"
    }
   ],
   "source": [
    "df.groupby('day_of_the_week')['delivery_time'].mean()"
   ]
  },
  {
   "cell_type": "markdown",
   "metadata": {
    "id": "8H-ODxbVJY_W"
   },
   "source": [
    "#### Observations:\n"
   ]
  },
  {
   "cell_type": "markdown",
   "metadata": {},
   "source": [
    "Delivery time on the weekdays is about 28 min whereas it is 22 min on weekend"
   ]
  },
  {
   "cell_type": "markdown",
   "metadata": {
    "id": "17roJywaJY_W"
   },
   "source": [
    "### Conclusion and Recommendations"
   ]
  },
  {
   "cell_type": "markdown",
   "metadata": {
    "id": "ZdX2Wz4FJY_W"
   },
   "source": [
    "### **Question 17:** What are your conclusions from the analysis? What recommendations would you like to share to help improve the business? (You can use cuisine type and feedback ratings to drive your business recommendations.) [6 marks]"
   ]
  },
  {
   "cell_type": "markdown",
   "metadata": {},
   "source": [
    "#### Conclusions"
   ]
  },
  {
   "cell_type": "markdown",
   "metadata": {},
   "source": [
    "**Ratings**\n",
    "- 40% of the orders are not rated. Rating tend to be positive (50% of rated orders have a rating of 5)\n",
    "\n",
    "**Cuisine type**\n",
    "- America,Japanese, Italian and Chinese cuisines represent each more than 10% of the orders and 80% overall. It is not clear whether these are over-present on the platform or if this reflects a true popularity with the customers\n",
    "- Spanish, Thai and Indian cuisines have the highest ratings on average while Vietnamese, Korean and Mediterranean have the lowest ratings\n",
    "\n",
    "**Restaurants**\n",
    "- 3% of the restaurants monopolize 33% of the orders and the revenues\n",
    "\n",
    "**Cost of the food**\n",
    "- The cost of orders can be separated into 3 categories: high, medium, low\n",
    "- French, Southern, Thai, Spanish and Middle Eastern cuisine have higher prices on average. while Korean and Vietnamese have lower prices on average\n",
    "- Higher costs are weakly positively correlated with ratings\n",
    "\n",
    "**Food preparation time**\n",
    "- Food preparation is more or less uniform between 20 and 35 minutes with the shortest times on average for Korean and Vietnamese cuisines\n",
    "- Food preparation time has no significant effect on the rating\n",
    "\n",
    "**Delivery time**\n",
    "- Delivery time is significantly increased during weekdays\n",
    "- The lowest rating has the highest average delivery time\n",
    "\n",
    "\n",
    "**Day of the week**\n",
    "- More than two thirds of the orders are on the weekends\n",
    "- On average, there is no difference in price between weekdays and weekends \n",
    "- Day of the week doesn’t not have a significant effect on ratings"
   ]
  },
  {
   "cell_type": "markdown",
   "metadata": {},
   "source": [
    "#### Recommandations"
   ]
  },
  {
   "cell_type": "markdown",
   "metadata": {},
   "source": [
    "- FoodHub could increase offering for Spanish, Thai, Indian and Mexican cuisines since these have the highest ratings\n",
    "- FoodHub could promote more restaurants with the highest rating to make them more popular\n",
    "- More delivery persons should be employed during the weekdays to decrease the delivery time and improve the lowest ratings\n",
    "- Foodhub should investigate the reason behind the high ratio of non rated orders and encourage its customers to give ratings\n",
    "- Foodhub could offer promotions on weekdays in order to increase the number of orders"
   ]
  },
  {
   "cell_type": "markdown",
   "metadata": {
    "id": "VTugVsL4Ddz-"
   },
   "source": []
  }
 ],
 "metadata": {
  "colab": {
   "collapsed_sections": [],
   "name": "Foodhub_project(Full_Code).ipynb",
   "provenance": []
  },
  "kernelspec": {
   "display_name": "Python 3 (ipykernel)",
   "language": "python",
   "name": "python3"
  },
  "language_info": {
   "codemirror_mode": {
    "name": "ipython",
    "version": 3
   },
   "file_extension": ".py",
   "mimetype": "text/x-python",
   "name": "python",
   "nbconvert_exporter": "python",
   "pygments_lexer": "ipython3",
   "version": "3.9.12"
  },
  "toc": {
   "base_numbering": 1,
   "nav_menu": {},
   "number_sections": true,
   "sideBar": true,
   "skip_h1_title": true,
   "title_cell": "Table of Contents",
   "title_sidebar": "Contents",
   "toc_cell": true,
   "toc_position": {
    "height": "calc(100% - 180px)",
    "left": "10px",
    "top": "150px",
    "width": "349px"
   },
   "toc_section_display": true,
   "toc_window_display": true
  }
 },
 "nbformat": 4,
 "nbformat_minor": 1
}
