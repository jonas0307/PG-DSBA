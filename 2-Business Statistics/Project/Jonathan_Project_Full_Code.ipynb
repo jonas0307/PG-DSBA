{
 "cells": [
  {
   "cell_type": "markdown",
   "metadata": {
    "id": "Gc8x8QimJY_H"
   },
   "source": [
    "# Project Python Foundations: FoodHub Data Analysis\n",
    "\n",
    "**Marks: 60**"
   ]
  },
  {
   "cell_type": "markdown",
   "metadata": {
    "id": "NqikjkWwJY_L"
   },
   "source": [
    "### Context\n",
    "\n",
    "The number of restaurants in New York is increasing day by day. Lots of students and busy professionals rely on those restaurants due to their hectic lifestyles. Online food delivery service is a great option for them. It provides them with good food from their favorite restaurants. A food aggregator company FoodHub offers access to multiple restaurants through a single smartphone app.\n",
    "\n",
    "The app allows the restaurants to receive a direct online order from a customer. The app assigns a delivery person from the company to pick up the order after it is confirmed by the restaurant. The delivery person then uses the map to reach the restaurant and waits for the food package. Once the food package is handed over to the delivery person, he/she confirms the pick-up in the app and travels to the customer's location to deliver the food. The delivery person confirms the drop-off in the app after delivering the food package to the customer. The customer can rate the order in the app. The food aggregator earns money by collecting a fixed margin of the delivery order from the restaurants.\n",
    "\n",
    "### Objective\n",
    "\n",
    "The food aggregator company has stored the data of the different orders made by the registered customers in their online portal. They want to analyze the data to get a fair idea about the demand of different restaurants which will help them in enhancing their customer experience. Suppose you are hired as a Data Scientist in this company and the Data Science team has shared some of the key questions that need to be answered. Perform the data analysis to find answers to these questions that will help the company to improve the business. \n",
    "\n",
    "### Data Description\n",
    "\n",
    "The data contains the different data related to a food order. The detailed data dictionary is given below.\n",
    "\n",
    "### Data Dictionary\n",
    "\n",
    "* order_id: Unique ID of the order\n",
    "* customer_id: ID of the customer who ordered the food\n",
    "* restaurant_name: Name of the restaurant\n",
    "* cuisine_type: Cuisine ordered by the customer\n",
    "* cost: Cost of the order\n",
    "* day_of_the_week: Indicates whether the order is placed on a weekday or weekend (The weekday is from Monday to Friday and the weekend is Saturday and Sunday)\n",
    "* rating: Rating given by the customer out of 5\n",
    "* food_preparation_time: Time (in minutes) taken by the restaurant to prepare the food. This is calculated by taking the difference between the timestamps of the restaurant's order confirmation and the delivery person's pick-up confirmation.\n",
    "* delivery_time: Time (in minutes) taken by the delivery person to deliver the food package. This is calculated by taking the difference between the timestamps of the delivery person's pick-up confirmation and drop-off information"
   ]
  },
  {
   "cell_type": "markdown",
   "metadata": {
    "id": "cEtNUxNAJY_M"
   },
   "source": [
    "### Let us start by importing the required libraries"
   ]
  },
  {
   "cell_type": "code",
   "execution_count": 100,
   "metadata": {
    "executionInfo": {
     "elapsed": 689,
     "status": "ok",
     "timestamp": 1655199657262,
     "user": {
      "displayName": "Jonathan Florez",
      "userId": "16350417649454911083"
     },
     "user_tz": 300
    },
    "id": "u6PlpJAPJY_N"
   },
   "outputs": [],
   "source": [
    "# import libraries for data manipulation\n",
    "import numpy as np\n",
    "import pandas as pd\n",
    "\n",
    "# import libraries for data visualization\n",
    "import matplotlib.pyplot as plt\n",
    "import seaborn as sns"
   ]
  },
  {
   "cell_type": "code",
   "execution_count": 85,
   "metadata": {},
   "outputs": [],
   "source": [
    "# to restrict the float value to 3 decimal places\n",
    "pd.set_option('display.float_format', lambda x: '%.3f' % x)"
   ]
  },
  {
   "cell_type": "markdown",
   "metadata": {
    "id": "AdracY0HJY_O"
   },
   "source": [
    "### Understanding the structure of the data"
   ]
  },
  {
   "cell_type": "code",
   "execution_count": 57,
   "metadata": {
    "id": "WBh2ZGB9kFhU"
   },
   "outputs": [],
   "source": [
    "# uncomment and run the following lines for Google Colab\n",
    "# from google.colab import drive\n",
    "# drive.mount('/content/drive')"
   ]
  },
  {
   "cell_type": "code",
   "execution_count": 101,
   "metadata": {
    "id": "GF01IZDbJY_O",
    "scrolled": true
   },
   "outputs": [
    {
     "data": {
      "text/html": [
       "<div>\n",
       "<style scoped>\n",
       "    .dataframe tbody tr th:only-of-type {\n",
       "        vertical-align: middle;\n",
       "    }\n",
       "\n",
       "    .dataframe tbody tr th {\n",
       "        vertical-align: top;\n",
       "    }\n",
       "\n",
       "    .dataframe thead th {\n",
       "        text-align: right;\n",
       "    }\n",
       "</style>\n",
       "<table border=\"1\" class=\"dataframe\">\n",
       "  <thead>\n",
       "    <tr style=\"text-align: right;\">\n",
       "      <th></th>\n",
       "      <th>order_id</th>\n",
       "      <th>customer_id</th>\n",
       "      <th>restaurant_name</th>\n",
       "      <th>cuisine_type</th>\n",
       "      <th>cost_of_the_order</th>\n",
       "      <th>day_of_the_week</th>\n",
       "      <th>rating</th>\n",
       "      <th>food_preparation_time</th>\n",
       "      <th>delivery_time</th>\n",
       "    </tr>\n",
       "  </thead>\n",
       "  <tbody>\n",
       "    <tr>\n",
       "      <th>0</th>\n",
       "      <td>1477147</td>\n",
       "      <td>337525</td>\n",
       "      <td>Hangawi</td>\n",
       "      <td>Korean</td>\n",
       "      <td>30.750</td>\n",
       "      <td>Weekend</td>\n",
       "      <td>Not given</td>\n",
       "      <td>25</td>\n",
       "      <td>20</td>\n",
       "    </tr>\n",
       "    <tr>\n",
       "      <th>1</th>\n",
       "      <td>1477685</td>\n",
       "      <td>358141</td>\n",
       "      <td>Blue Ribbon Sushi Izakaya</td>\n",
       "      <td>Japanese</td>\n",
       "      <td>12.080</td>\n",
       "      <td>Weekend</td>\n",
       "      <td>Not given</td>\n",
       "      <td>25</td>\n",
       "      <td>23</td>\n",
       "    </tr>\n",
       "    <tr>\n",
       "      <th>2</th>\n",
       "      <td>1477070</td>\n",
       "      <td>66393</td>\n",
       "      <td>Cafe Habana</td>\n",
       "      <td>Mexican</td>\n",
       "      <td>12.230</td>\n",
       "      <td>Weekday</td>\n",
       "      <td>5</td>\n",
       "      <td>23</td>\n",
       "      <td>28</td>\n",
       "    </tr>\n",
       "    <tr>\n",
       "      <th>3</th>\n",
       "      <td>1477334</td>\n",
       "      <td>106968</td>\n",
       "      <td>Blue Ribbon Fried Chicken</td>\n",
       "      <td>American</td>\n",
       "      <td>29.200</td>\n",
       "      <td>Weekend</td>\n",
       "      <td>3</td>\n",
       "      <td>25</td>\n",
       "      <td>15</td>\n",
       "    </tr>\n",
       "    <tr>\n",
       "      <th>4</th>\n",
       "      <td>1478249</td>\n",
       "      <td>76942</td>\n",
       "      <td>Dirty Bird to Go</td>\n",
       "      <td>American</td>\n",
       "      <td>11.590</td>\n",
       "      <td>Weekday</td>\n",
       "      <td>4</td>\n",
       "      <td>25</td>\n",
       "      <td>24</td>\n",
       "    </tr>\n",
       "  </tbody>\n",
       "</table>\n",
       "</div>"
      ],
      "text/plain": [
       "   order_id  customer_id            restaurant_name cuisine_type  \\\n",
       "0   1477147       337525                    Hangawi       Korean   \n",
       "1   1477685       358141  Blue Ribbon Sushi Izakaya     Japanese   \n",
       "2   1477070        66393                Cafe Habana      Mexican   \n",
       "3   1477334       106968  Blue Ribbon Fried Chicken     American   \n",
       "4   1478249        76942           Dirty Bird to Go     American   \n",
       "\n",
       "   cost_of_the_order day_of_the_week     rating  food_preparation_time  \\\n",
       "0             30.750         Weekend  Not given                     25   \n",
       "1             12.080         Weekend  Not given                     25   \n",
       "2             12.230         Weekday          5                     23   \n",
       "3             29.200         Weekend          3                     25   \n",
       "4             11.590         Weekday          4                     25   \n",
       "\n",
       "   delivery_time  \n",
       "0             20  \n",
       "1             23  \n",
       "2             28  \n",
       "3             15  \n",
       "4             24  "
      ]
     },
     "execution_count": 101,
     "metadata": {},
     "output_type": "execute_result"
    }
   ],
   "source": [
    "# read the data\n",
    "df = pd.read_csv('foodhub_order.csv')\n",
    "# returns the first 5 rows\n",
    "df.head()"
   ]
  },
  {
   "cell_type": "markdown",
   "metadata": {
    "id": "J_Y9aJDJJY_P"
   },
   "source": [
    "#### Observations:\n",
    "\n",
    "The DataFrame has 9 columns as mentioned in the Data Dictionary. Data in each row corresponds to the order placed by a customer."
   ]
  },
  {
   "cell_type": "code",
   "execution_count": 102,
   "metadata": {},
   "outputs": [],
   "source": [
    "# I'm doing a copy of dataset original in order to avoid changes to original data\n",
    "data=df.copy()"
   ]
  },
  {
   "cell_type": "markdown",
   "metadata": {
    "id": "c3kenV4vJY_Q"
   },
   "source": [
    "### **Question 1:** How many rows and columns are present in the data? [0.5 mark]"
   ]
  },
  {
   "cell_type": "code",
   "execution_count": 103,
   "metadata": {
    "id": "Yvz5i-PhJY_Q"
   },
   "outputs": [
    {
     "name": "stdout",
     "output_type": "stream",
     "text": [
      "There are 1898 rows and 9 columns.\n"
     ]
    }
   ],
   "source": [
    "# Write your code here\n",
    "\n",
    "print(\"There are\", data.shape[0], 'rows and', data.shape[1], \"columns.\")"
   ]
  },
  {
   "cell_type": "markdown",
   "metadata": {
    "id": "UsTNy3unJY_R"
   },
   "source": [
    "#### Observations:\n",
    "There are 1898 rows and 9 columns on dataset"
   ]
  },
  {
   "cell_type": "markdown",
   "metadata": {
    "id": "jRXakVrUJY_R"
   },
   "source": [
    "### **Question 2:** What are the datatypes of the different columns in the dataset? (The info() function can be used) [0.5 mark]"
   ]
  },
  {
   "cell_type": "code",
   "execution_count": 104,
   "metadata": {
    "id": "Kp70Z0BNJY_R"
   },
   "outputs": [
    {
     "name": "stdout",
     "output_type": "stream",
     "text": [
      "<class 'pandas.core.frame.DataFrame'>\n",
      "RangeIndex: 1898 entries, 0 to 1897\n",
      "Data columns (total 9 columns):\n",
      " #   Column                 Non-Null Count  Dtype  \n",
      "---  ------                 --------------  -----  \n",
      " 0   order_id               1898 non-null   int64  \n",
      " 1   customer_id            1898 non-null   int64  \n",
      " 2   restaurant_name        1898 non-null   object \n",
      " 3   cuisine_type           1898 non-null   object \n",
      " 4   cost_of_the_order      1898 non-null   float64\n",
      " 5   day_of_the_week        1898 non-null   object \n",
      " 6   rating                 1898 non-null   object \n",
      " 7   food_preparation_time  1898 non-null   int64  \n",
      " 8   delivery_time          1898 non-null   int64  \n",
      "dtypes: float64(1), int64(4), object(4)\n",
      "memory usage: 133.6+ KB\n"
     ]
    }
   ],
   "source": [
    "# Use info() to print a concise summary of the DataFrame\n",
    "data.info()"
   ]
  },
  {
   "cell_type": "markdown",
   "metadata": {
    "id": "WJes5GP2JY_S"
   },
   "source": [
    "#### Observations:\n",
    "On the dataset we have 3 different types int64, object and float\n"
   ]
  },
  {
   "cell_type": "markdown",
   "metadata": {
    "id": "pF_92MN6JY_S"
   },
   "source": [
    "### **Question 3:** Are there any missing values in the data? If yes, treat them using an appropriate method. [1 mark]"
   ]
  },
  {
   "cell_type": "code",
   "execution_count": 105,
   "metadata": {
    "id": "Zth-RR1PJY_S"
   },
   "outputs": [
    {
     "data": {
      "text/plain": [
       "order_id                 0\n",
       "customer_id              0\n",
       "restaurant_name          0\n",
       "cuisine_type             0\n",
       "cost_of_the_order        0\n",
       "day_of_the_week          0\n",
       "rating                   0\n",
       "food_preparation_time    0\n",
       "delivery_time            0\n",
       "dtype: int64"
      ]
     },
     "execution_count": 105,
     "metadata": {},
     "output_type": "execute_result"
    }
   ],
   "source": [
    "# Write your code here\n",
    "data.isnull().sum()"
   ]
  },
  {
   "cell_type": "markdown",
   "metadata": {},
   "source": [
    "#### Observations:\n",
    "According with the summarized output for null values on data set there is NOT missing values, so we don't need to do missing value threatment"
   ]
  },
  {
   "cell_type": "markdown",
   "metadata": {
    "id": "MnJo7MWrJY_S"
   },
   "source": [
    "### **Question 4:** Check the statistical summary of the data. What is the minimum, average, and maximum time it takes for food to be prepared once an order is placed? [2 marks]"
   ]
  },
  {
   "cell_type": "code",
   "execution_count": 130,
   "metadata": {
    "id": "WprQBgOSJY_T"
   },
   "outputs": [
    {
     "data": {
      "text/html": [
       "<div>\n",
       "<style scoped>\n",
       "    .dataframe tbody tr th:only-of-type {\n",
       "        vertical-align: middle;\n",
       "    }\n",
       "\n",
       "    .dataframe tbody tr th {\n",
       "        vertical-align: top;\n",
       "    }\n",
       "\n",
       "    .dataframe thead th {\n",
       "        text-align: right;\n",
       "    }\n",
       "</style>\n",
       "<table border=\"1\" class=\"dataframe\">\n",
       "  <thead>\n",
       "    <tr style=\"text-align: right;\">\n",
       "      <th></th>\n",
       "      <th>count</th>\n",
       "      <th>unique</th>\n",
       "      <th>top</th>\n",
       "      <th>freq</th>\n",
       "      <th>mean</th>\n",
       "      <th>std</th>\n",
       "      <th>min</th>\n",
       "      <th>25%</th>\n",
       "      <th>50%</th>\n",
       "      <th>75%</th>\n",
       "      <th>max</th>\n",
       "    </tr>\n",
       "  </thead>\n",
       "  <tbody>\n",
       "    <tr>\n",
       "      <th>order_id</th>\n",
       "      <td>1898.000</td>\n",
       "      <td>NaN</td>\n",
       "      <td>NaN</td>\n",
       "      <td>NaN</td>\n",
       "      <td>1477495.500</td>\n",
       "      <td>548.050</td>\n",
       "      <td>1476547.000</td>\n",
       "      <td>1477021.250</td>\n",
       "      <td>1477495.500</td>\n",
       "      <td>1477969.750</td>\n",
       "      <td>1478444.000</td>\n",
       "    </tr>\n",
       "    <tr>\n",
       "      <th>customer_id</th>\n",
       "      <td>1898.000</td>\n",
       "      <td>NaN</td>\n",
       "      <td>NaN</td>\n",
       "      <td>NaN</td>\n",
       "      <td>171168.478</td>\n",
       "      <td>113698.140</td>\n",
       "      <td>1311.000</td>\n",
       "      <td>77787.750</td>\n",
       "      <td>128600.000</td>\n",
       "      <td>270525.000</td>\n",
       "      <td>405334.000</td>\n",
       "    </tr>\n",
       "    <tr>\n",
       "      <th>restaurant_name</th>\n",
       "      <td>1898</td>\n",
       "      <td>178</td>\n",
       "      <td>Shake Shack</td>\n",
       "      <td>219</td>\n",
       "      <td>NaN</td>\n",
       "      <td>NaN</td>\n",
       "      <td>NaN</td>\n",
       "      <td>NaN</td>\n",
       "      <td>NaN</td>\n",
       "      <td>NaN</td>\n",
       "      <td>NaN</td>\n",
       "    </tr>\n",
       "    <tr>\n",
       "      <th>cuisine_type</th>\n",
       "      <td>1898</td>\n",
       "      <td>14</td>\n",
       "      <td>American</td>\n",
       "      <td>584</td>\n",
       "      <td>NaN</td>\n",
       "      <td>NaN</td>\n",
       "      <td>NaN</td>\n",
       "      <td>NaN</td>\n",
       "      <td>NaN</td>\n",
       "      <td>NaN</td>\n",
       "      <td>NaN</td>\n",
       "    </tr>\n",
       "    <tr>\n",
       "      <th>cost_of_the_order</th>\n",
       "      <td>1898.000</td>\n",
       "      <td>NaN</td>\n",
       "      <td>NaN</td>\n",
       "      <td>NaN</td>\n",
       "      <td>16.499</td>\n",
       "      <td>7.484</td>\n",
       "      <td>4.470</td>\n",
       "      <td>12.080</td>\n",
       "      <td>14.140</td>\n",
       "      <td>22.297</td>\n",
       "      <td>35.410</td>\n",
       "    </tr>\n",
       "    <tr>\n",
       "      <th>day_of_the_week</th>\n",
       "      <td>1898</td>\n",
       "      <td>2</td>\n",
       "      <td>Weekend</td>\n",
       "      <td>1351</td>\n",
       "      <td>NaN</td>\n",
       "      <td>NaN</td>\n",
       "      <td>NaN</td>\n",
       "      <td>NaN</td>\n",
       "      <td>NaN</td>\n",
       "      <td>NaN</td>\n",
       "      <td>NaN</td>\n",
       "    </tr>\n",
       "    <tr>\n",
       "      <th>rating</th>\n",
       "      <td>1898</td>\n",
       "      <td>4</td>\n",
       "      <td>Not given</td>\n",
       "      <td>736</td>\n",
       "      <td>NaN</td>\n",
       "      <td>NaN</td>\n",
       "      <td>NaN</td>\n",
       "      <td>NaN</td>\n",
       "      <td>NaN</td>\n",
       "      <td>NaN</td>\n",
       "      <td>NaN</td>\n",
       "    </tr>\n",
       "    <tr>\n",
       "      <th>food_preparation_time</th>\n",
       "      <td>1898.000</td>\n",
       "      <td>NaN</td>\n",
       "      <td>NaN</td>\n",
       "      <td>NaN</td>\n",
       "      <td>27.372</td>\n",
       "      <td>4.632</td>\n",
       "      <td>20.000</td>\n",
       "      <td>23.000</td>\n",
       "      <td>27.000</td>\n",
       "      <td>31.000</td>\n",
       "      <td>35.000</td>\n",
       "    </tr>\n",
       "    <tr>\n",
       "      <th>delivery_time</th>\n",
       "      <td>1898.000</td>\n",
       "      <td>NaN</td>\n",
       "      <td>NaN</td>\n",
       "      <td>NaN</td>\n",
       "      <td>24.162</td>\n",
       "      <td>4.973</td>\n",
       "      <td>15.000</td>\n",
       "      <td>20.000</td>\n",
       "      <td>25.000</td>\n",
       "      <td>28.000</td>\n",
       "      <td>33.000</td>\n",
       "    </tr>\n",
       "  </tbody>\n",
       "</table>\n",
       "</div>"
      ],
      "text/plain": [
       "                         count unique          top  freq        mean  \\\n",
       "order_id              1898.000    NaN          NaN   NaN 1477495.500   \n",
       "customer_id           1898.000    NaN          NaN   NaN  171168.478   \n",
       "restaurant_name           1898    178  Shake Shack   219         NaN   \n",
       "cuisine_type              1898     14     American   584         NaN   \n",
       "cost_of_the_order     1898.000    NaN          NaN   NaN      16.499   \n",
       "day_of_the_week           1898      2      Weekend  1351         NaN   \n",
       "rating                    1898      4    Not given   736         NaN   \n",
       "food_preparation_time 1898.000    NaN          NaN   NaN      27.372   \n",
       "delivery_time         1898.000    NaN          NaN   NaN      24.162   \n",
       "\n",
       "                             std         min         25%         50%  \\\n",
       "order_id                 548.050 1476547.000 1477021.250 1477495.500   \n",
       "customer_id           113698.140    1311.000   77787.750  128600.000   \n",
       "restaurant_name              NaN         NaN         NaN         NaN   \n",
       "cuisine_type                 NaN         NaN         NaN         NaN   \n",
       "cost_of_the_order          7.484       4.470      12.080      14.140   \n",
       "day_of_the_week              NaN         NaN         NaN         NaN   \n",
       "rating                       NaN         NaN         NaN         NaN   \n",
       "food_preparation_time      4.632      20.000      23.000      27.000   \n",
       "delivery_time              4.973      15.000      20.000      25.000   \n",
       "\n",
       "                              75%         max  \n",
       "order_id              1477969.750 1478444.000  \n",
       "customer_id            270525.000  405334.000  \n",
       "restaurant_name               NaN         NaN  \n",
       "cuisine_type                  NaN         NaN  \n",
       "cost_of_the_order          22.297      35.410  \n",
       "day_of_the_week               NaN         NaN  \n",
       "rating                        NaN         NaN  \n",
       "food_preparation_time      31.000      35.000  \n",
       "delivery_time              28.000      33.000  "
      ]
     },
     "execution_count": 130,
     "metadata": {},
     "output_type": "execute_result"
    }
   ],
   "source": [
    "# Write your code here\n",
    "data.describe(include='all').T"
   ]
  },
  {
   "cell_type": "markdown",
   "metadata": {
    "id": "9YbSOR5wJY_T"
   },
   "source": [
    "#### Observations:\n",
    "\n",
    "The minimum time is 20 mins\n",
    "The average time is 27.352 mins\n",
    "The maximum time is 35 mins\n"
   ]
  },
  {
   "cell_type": "markdown",
   "metadata": {
    "id": "cw3l58z_JY_T"
   },
   "source": [
    "### **Question 5:** How many orders are not rated? [1 mark]"
   ]
  },
  {
   "cell_type": "code",
   "execution_count": 118,
   "metadata": {
    "id": "hEzDUL9wgksi"
   },
   "outputs": [
    {
     "data": {
      "text/plain": [
       "Not given    736\n",
       "5            588\n",
       "4            386\n",
       "3            188\n",
       "Name: rating, dtype: int64"
      ]
     },
     "execution_count": 118,
     "metadata": {},
     "output_type": "execute_result"
    }
   ],
   "source": [
    "# Write the code here\n",
    "data['rating'].value_counts()"
   ]
  },
  {
   "cell_type": "markdown",
   "metadata": {
    "id": "5E0O_oviJY_T"
   },
   "source": [
    "#### Observations:\n",
    "\n",
    "There are 736 orders not rated\n"
   ]
  },
  {
   "cell_type": "markdown",
   "metadata": {
    "id": "7msIfXE-JY_T"
   },
   "source": [
    "### Exploratory Data Analysis (EDA)"
   ]
  },
  {
   "cell_type": "markdown",
   "metadata": {
    "id": "-2xfI28YJY_T"
   },
   "source": [
    "### Univariate Analysis"
   ]
  },
  {
   "cell_type": "markdown",
   "metadata": {
    "id": "0RHZnugBJY_U"
   },
   "source": [
    "### **Question 6:** Explore all the variables and provide observations on their distributions. (Generally, histograms, boxplots, countplots, etc. are used for univariate exploration.) [9 marks]"
   ]
  },
  {
   "cell_type": "code",
   "execution_count": 146,
   "metadata": {
    "id": "rU5ZqISjJY_U"
   },
   "outputs": [
    {
     "data": {
      "image/png": "[encoded data removed]",
      "text/plain": [
       "<Figure size 432x288 with 1 Axes>"
      ]
     },
     "metadata": {
      "needs_background": "light"
     },
     "output_type": "display_data"
    }
   ],
   "source": [
    "# Write the code here\n",
    "sns.histplot(data=data,x='cost_of_the_order',kde=True)\n",
    "plt.show()"
   ]
  },
  {
   "cell_type": "markdown",
   "metadata": {},
   "source": [
    "In the histogram we can see a distribution in terms of the cost of the order with a slightly skewed to the right"
   ]
  },
  {
   "cell_type": "code",
   "execution_count": 147,
   "metadata": {},
   "outputs": [
    {
     "data": {
      "image/png": "[encoded data removed]",
      "text/plain": [
       "<Figure size 432x288 with 1 Axes>"
      ]
     },
     "metadata": {
      "needs_background": "light"
     },
     "output_type": "display_data"
    }
   ],
   "source": [
    "sns.boxplot(data=data,x='food_preparation_time')\n",
    "plt.show()"
   ]
  },
  {
   "cell_type": "markdown",
   "metadata": {},
   "source": [
    "Accordingly with there are not outliers present on food preparation time"
   ]
  },
  {
   "cell_type": "code",
   "execution_count": 148,
   "metadata": {},
   "outputs": [
    {
     "data": {
      "image/png": "[encoded data removed]",
      "text/plain": [
       "<Figure size 432x288 with 1 Axes>"
      ]
     },
     "metadata": {
      "needs_background": "light"
     },
     "output_type": "display_data"
    }
   ],
   "source": [
    "sns.countplot(data=data,x='delivery_time')\n",
    "plt.show()"
   ]
  },
  {
   "cell_type": "markdown",
   "metadata": {
    "id": "K9CqA5H_JY_U"
   },
   "source": [
    "### **Question 7**: Which are the top 5 restaurants in terms of the number of orders received? [1 mark]"
   ]
  },
  {
   "cell_type": "code",
   "execution_count": 140,
   "metadata": {},
   "outputs": [
    {
     "data": {
      "text/plain": [
       "Shake Shack                  219\n",
       "The Meatball Shop            132\n",
       "Blue Ribbon Sushi            119\n",
       "Blue Ribbon Fried Chicken     96\n",
       "Parm                          68\n",
       "                            ... \n",
       "Sushi Choshi                   1\n",
       "Dos Caminos Soho               1\n",
       "La Follia                      1\n",
       "Philippe Chow                  1\n",
       "'wichcraft                     1\n",
       "Name: restaurant_name, Length: 178, dtype: int64"
      ]
     },
     "execution_count": 140,
     "metadata": {},
     "output_type": "execute_result"
    }
   ],
   "source": [
    "#exploring the data on variable restaurant name \n",
    "data.restaurant_name.value_counts()"
   ]
  },
  {
   "cell_type": "code",
   "execution_count": 144,
   "metadata": {},
   "outputs": [
    {
     "data": {
      "text/plain": [
       "Shake Shack                  219\n",
       "The Meatball Shop            132\n",
       "Blue Ribbon Sushi            119\n",
       "Blue Ribbon Fried Chicken     96\n",
       "Parm                          68\n",
       "Name: restaurant_name, dtype: int64"
      ]
     },
     "execution_count": 144,
     "metadata": {},
     "output_type": "execute_result"
    }
   ],
   "source": [
    "#taking the first 5 elements of the dataset using the iloc to get the first 5 elements that means the top 5\n",
    "data.restaurant_name.value_counts().iloc[:5]"
   ]
  },
  {
   "cell_type": "code",
   "execution_count": 149,
   "metadata": {
    "id": "PaJZ3wlOJY_U"
   },
   "outputs": [
    {
     "data": {
      "image/png": "[encoded data removed]",
      "text/plain": [
       "<Figure size 432x288 with 1 Axes>"
      ]
     },
     "metadata": {
      "needs_background": "light"
     },
     "output_type": "display_data"
    }
   ],
   "source": [
    "# Write the code here\n",
    "#Putting all together to show on a countplot adding the attribute index in order have the name on the variable\n",
    "sns.countplot(data=data,x='restaurant_name',order=data.restaurant_name.value_counts().iloc[:5].index)\n",
    "plt.xticks(rotation=90)\n",
    "plt.show()"
   ]
  },
  {
   "cell_type": "markdown",
   "metadata": {
    "id": "tnjhWgUfJY_U"
   },
   "source": [
    "#### Observations:\n",
    "The top five of restaurants is shown below:\n",
    "\n",
    "Shake Shack                  219\n",
    "The Meatball Shop            132\n",
    "Blue Ribbon Sushi            119\n",
    "Blue Ribbon Fried Chicken     96\n",
    "Parm                          68"
   ]
  },
  {
   "cell_type": "markdown",
   "metadata": {
    "id": "gWPMqGq0JY_U"
   },
   "source": [
    "### **Question 8**: Which is the most popular cuisine on weekends? [1 mark]"
   ]
  },
  {
   "cell_type": "code",
   "execution_count": 165,
   "metadata": {
    "id": "c-Xnus3VJY_U"
   },
   "outputs": [
    {
     "data": {
      "image/png": "[encoded data removed]",
      "text/plain": [
       "<Figure size 432x288 with 1 Axes>"
      ]
     },
     "metadata": {
      "needs_background": "light"
     },
     "output_type": "display_data"
    }
   ],
   "source": [
    "# Write the code here\n",
    "# Exploring data:\n",
    "sns.countplot(data=data,x='cuisine_type',hue='day_of_the_week')\n",
    "plt.xticks(rotation=90)\n",
    "plt.show()"
   ]
  },
  {
   "cell_type": "code",
   "execution_count": 185,
   "metadata": {},
   "outputs": [
    {
     "data": {
      "text/plain": [
       "American          415\n",
       "Japanese          335\n",
       "Italian           207\n",
       "Chinese           163\n",
       "Mexican            53\n",
       "Indian             49\n",
       "Mediterranean      32\n",
       "Middle Eastern     32\n",
       "Thai               15\n",
       "French             13\n",
       "Korean             11\n",
       "Southern           11\n",
       "Spanish            11\n",
       "Vietnamese          4\n",
       "Name: cuisine_type, dtype: int64"
      ]
     },
     "execution_count": 185,
     "metadata": {},
     "output_type": "execute_result"
    }
   ],
   "source": [
    "data.loc[data['day_of_the_week'] == 'Weekend','cuisine_type'].value_counts()"
   ]
  },
  {
   "cell_type": "markdown",
   "metadata": {
    "id": "bpQ270TUJY_U"
   },
   "source": [
    "#### Observations:\n",
    "\n",
    "The most popular cuisine type on weekend is American with 415 orders placed \n"
   ]
  },
  {
   "cell_type": "markdown",
   "metadata": {
    "id": "88xgTqkxJY_U"
   },
   "source": [
    "### **Question 9**: What percentage of the orders cost more than 20 dollars? [2 marks]"
   ]
  },
  {
   "cell_type": "code",
   "execution_count": 195,
   "metadata": {
    "id": "OTpHyTdzJY_U"
   },
   "outputs": [
    {
     "data": {
      "text/plain": [
       "order_id  customer_id  restaurant_name                        cuisine_type    cost_of_the_order  day_of_the_week  rating     food_preparation_time  delivery_time\n",
       "1476560   149508       Shake Shack                            American        22.260             Weekend          4          32                     17               1\n",
       "1477852   74412        da Umberto                             Italian         32.980             Weekend          Not given  30                     28               1\n",
       "1477846   52574        Blue Ribbon Sushi                      Japanese        24.250             Weekday          5          30                     26               1\n",
       "1477847   106478       Blue Ribbon Sushi                      Japanese        24.250             Weekday          4          22                     29               1\n",
       "1477848   276192       12 Chairs                              Middle Eastern  29.050             Weekday          5          28                     32               1\n",
       "                                                                                                                                                                    ..\n",
       "1477181   302790       Carmine's                              Italian         29.050             Weekday          Not given  33                     32               1\n",
       "1477180   154339       Chipotle Mexican Grill $1.99 Delivery  Mexican         29.150             Weekday          Not given  21                     24               1\n",
       "1477179   52832        L'Express                              French          24.200             Weekday          Not given  28                     24               1\n",
       "1477178   47440        Bareburger                             American        24.200             Weekend          4          23                     23               1\n",
       "1478444   355090       Shake Shack                            American        31.430             Weekend          3          22                     24               1\n",
       "Length: 555, dtype: int64"
      ]
     },
     "execution_count": 195,
     "metadata": {},
     "output_type": "execute_result"
    }
   ],
   "source": [
    "# Write the code here\n",
    "# Exploring data\n",
    "data.loc[data['cost_of_the_order']>20].value_counts()"
   ]
  },
  {
   "cell_type": "code",
   "execution_count": 223,
   "metadata": {},
   "outputs": [],
   "source": [
    "#Filtering and getting all those rows where the cost is greather than 20\n",
    "cost_gt_20=data.loc[data['cost_of_the_order']>20]"
   ]
  },
  {
   "cell_type": "code",
   "execution_count": 226,
   "metadata": {},
   "outputs": [],
   "source": [
    "# Assigning the lenght of the dataframe create on the last step in order to have the total in a variable\n",
    "total_gt_20=len(cost_gt_20)"
   ]
  },
  {
   "cell_type": "code",
   "execution_count": 227,
   "metadata": {},
   "outputs": [],
   "source": [
    "#Getting the total number of rows from original dataframe\n",
    "grand_total=len(data)"
   ]
  },
  {
   "cell_type": "code",
   "execution_count": 230,
   "metadata": {},
   "outputs": [
    {
     "data": {
      "text/plain": [
       "29.24130663856691"
      ]
     },
     "execution_count": 230,
     "metadata": {},
     "output_type": "execute_result"
    }
   ],
   "source": [
    "# Calculating the percentage\n",
    "perc_cost_gt_20=(total_gt_20/grand_total)*100\n"
   ]
  },
  {
   "cell_type": "code",
   "execution_count": 231,
   "metadata": {},
   "outputs": [
    {
     "name": "stdout",
     "output_type": "stream",
     "text": [
      "The percentage of the orders cost more than 20 dollars is : 29.24130663856691 %\n"
     ]
    }
   ],
   "source": [
    "print ('The percentage of the orders cost more than 20 dollars is :', perc_cost_gt_20, '%')"
   ]
  },
  {
   "cell_type": "markdown",
   "metadata": {
    "id": "77KNAC5zJY_U"
   },
   "source": [
    "#### Observations:\n",
    "\n",
    "The percentage of the orders cost more than 20 dollars is 29.24 %\n"
   ]
  },
  {
   "cell_type": "markdown",
   "metadata": {
    "id": "HFyHn7hsJY_V"
   },
   "source": [
    "### **Question 10**: What is the mean order delivery time? [1 mark]"
   ]
  },
  {
   "cell_type": "code",
   "execution_count": 232,
   "metadata": {
    "id": "cyFL13hNJY_V"
   },
   "outputs": [
    {
     "data": {
      "text/plain": [
       "24.161749209694417"
      ]
     },
     "execution_count": 232,
     "metadata": {},
     "output_type": "execute_result"
    }
   ],
   "source": [
    "# Write the code here\n",
    "data.delivery_time.mean()"
   ]
  },
  {
   "cell_type": "markdown",
   "metadata": {
    "id": "F35SRV-HJY_V"
   },
   "source": [
    "#### Observations:\n",
    "\n",
    "The mean order delivery time is 24.161 minutes\n"
   ]
  },
  {
   "cell_type": "markdown",
   "metadata": {
    "id": "48IjaOuDJY_V"
   },
   "source": [
    "### **Question 11:** The company has decided to give 20% discount vouchers to the top 3 most frequent customers. Find the IDs of these customers and the number of orders they placed. [1 mark]"
   ]
  },
  {
   "cell_type": "code",
   "execution_count": 234,
   "metadata": {
    "id": "Hz8-DE4Zge0j"
   },
   "outputs": [
    {
     "data": {
      "text/plain": [
       "52832     13\n",
       "47440     10\n",
       "83287      9\n",
       "250494     8\n",
       "259341     7\n",
       "          ..\n",
       "385426     1\n",
       "254913     1\n",
       "289597     1\n",
       "74412      1\n",
       "397537     1\n",
       "Name: customer_id, Length: 1200, dtype: int64"
      ]
     },
     "execution_count": 234,
     "metadata": {},
     "output_type": "execute_result"
    }
   ],
   "source": [
    "# Write the code here\n",
    "data.customer_id.value_counts().iloc[:]"
   ]
  },
  {
   "cell_type": "markdown",
   "metadata": {
    "id": "9tWVwfX6JY_V"
   },
   "source": [
    "#### Observations:\n"
   ]
  },
  {
   "cell_type": "markdown",
   "metadata": {
    "id": "AfIc2jPaJY_V"
   },
   "source": [
    "### Multivariate Analysis"
   ]
  },
  {
   "cell_type": "markdown",
   "metadata": {
    "id": "iqiS0RT_JY_V"
   },
   "source": [
    "### **Question 12**: Perform a multivariate analysis to explore relationships between the important variables in the dataset. (It is a good idea to explore relations between numerical variables as well as relations between numerical and categorical variables) [10 marks]\n"
   ]
  },
  {
   "cell_type": "code",
   "execution_count": null,
   "metadata": {
    "id": "3qt4MCNTJY_V"
   },
   "outputs": [],
   "source": [
    "# Write the code here"
   ]
  },
  {
   "cell_type": "markdown",
   "metadata": {
    "id": "YLkMf09YJY_V"
   },
   "source": [
    "### **Question 13:** The company wants to provide a promotional offer in the advertisement of the restaurants. The condition to get the offer is that the restaurants must have a rating count of more than 50 and the average rating should be greater than 4. Find the restaurants fulfilling the criteria to get the promotional offer. [3 marks]"
   ]
  },
  {
   "cell_type": "code",
   "execution_count": null,
   "metadata": {
    "id": "0M_QDvbYJY_V"
   },
   "outputs": [],
   "source": [
    "# Write the code here"
   ]
  },
  {
   "cell_type": "markdown",
   "metadata": {
    "id": "10uryUMhJY_V"
   },
   "source": [
    "#### Observations:\n"
   ]
  },
  {
   "cell_type": "markdown",
   "metadata": {
    "id": "1gvWBkRUJY_V"
   },
   "source": [
    "### **Question 14:** The company charges the restaurant 25% on the orders having cost greater than 20 dollars and 15% on the orders having cost greater than 5 dollars. Find the net revenue generated by the company across all orders. [3 marks]"
   ]
  },
  {
   "cell_type": "code",
   "execution_count": null,
   "metadata": {
    "id": "rEjbnTNEJY_W"
   },
   "outputs": [],
   "source": [
    "# Write the code here"
   ]
  },
  {
   "cell_type": "markdown",
   "metadata": {
    "id": "XHCEJgH0JY_W"
   },
   "source": [
    "#### Observations:\n"
   ]
  },
  {
   "cell_type": "markdown",
   "metadata": {
    "id": "pRlVW-oeJY_W"
   },
   "source": [
    "### **Question 15:** The company wants to analyze the total time required to deliver the food. What percentage of orders take more than 60 minutes to get delivered from the time the order is placed? (The food has to be prepared and then delivered.) [2 marks]"
   ]
  },
  {
   "cell_type": "code",
   "execution_count": null,
   "metadata": {
    "id": "zxoTrxfLJY_W"
   },
   "outputs": [],
   "source": [
    "# Write the code here"
   ]
  },
  {
   "cell_type": "markdown",
   "metadata": {
    "id": "iqzBXn2yJY_W"
   },
   "source": [
    "#### Observations:\n"
   ]
  },
  {
   "cell_type": "markdown",
   "metadata": {
    "id": "bUd6cYpPJY_W"
   },
   "source": [
    "### **Question 16:** The company wants to analyze the delivery time of the orders on weekdays and weekends. How does the mean delivery time vary during weekdays and weekends? [2 marks]"
   ]
  },
  {
   "cell_type": "code",
   "execution_count": null,
   "metadata": {
    "id": "pIU5xZZ6JY_W"
   },
   "outputs": [],
   "source": [
    "# Write the code here"
   ]
  },
  {
   "cell_type": "markdown",
   "metadata": {
    "id": "8H-ODxbVJY_W"
   },
   "source": [
    "#### Observations:\n"
   ]
  },
  {
   "cell_type": "markdown",
   "metadata": {
    "id": "17roJywaJY_W"
   },
   "source": [
    "### Conclusion and Recommendations"
   ]
  },
  {
   "cell_type": "markdown",
   "metadata": {
    "id": "ZdX2Wz4FJY_W"
   },
   "source": [
    "### **Question 17:** What are your conclusions from the analysis? What recommendations would you like to share to help improve the business? (You can use cuisine type and feedback ratings to drive your business recommendations.) [6 marks]"
   ]
  },
  {
   "cell_type": "markdown",
   "metadata": {
    "id": "VTugVsL4Ddz-"
   },
   "source": [
    "### Conclusions:\n",
    "*  "
   ]
  },
  {
   "cell_type": "markdown",
   "metadata": {
    "id": "PWnsI0i_guWJ"
   },
   "source": [
    "### Recommendations:\n",
    "\n",
    "*  "
   ]
  },
  {
   "cell_type": "markdown",
   "metadata": {
    "id": "tSoucKKbg9Hc"
   },
   "source": [
    "---"
   ]
  }
 ],
 "metadata": {
  "colab": {
   "collapsed_sections": [],
   "name": "PYF_Project_LearnerNotebook_FullCode.ipynb",
   "provenance": []
  },
  "kernelspec": {
   "display_name": "Python 3.9.12 ('base')",
   "language": "python",
   "name": "python3"
  },
  "language_info": {
   "codemirror_mode": {
    "name": "ipython",
    "version": 3
   },
   "file_extension": ".py",
   "mimetype": "text/x-python",
   "name": "python",
   "nbconvert_exporter": "python",
   "pygments_lexer": "ipython3",
   "version": "3.9.12"
  },
  "vscode": {
   "interpreter": {
    "hash": "98249ac15dc7dc562f16e38d3cab7a0f0a6db9a731e8f86714a1a8495660791f"
   }
  }
 },
 "nbformat": 4,
 "nbformat_minor": 1
}
