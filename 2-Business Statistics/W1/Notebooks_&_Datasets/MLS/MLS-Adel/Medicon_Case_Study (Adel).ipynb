{
 "cells": [
  {
   "cell_type": "markdown",
   "metadata": {
    "toc": true
   },
   "source": [
    "<h1>Table of Contents<span class=\"tocSkip\"></span></h1>\n",
    "<div class=\"toc\"><ul class=\"toc-item\"><li><span><a href=\"#Medicon-Case-Study\" data-toc-modified-id=\"Medicon-Case-Study-1\"><span class=\"toc-item-num\">1&nbsp;&nbsp;</span><center><b>Medicon Case Study</b></center></a></span></li><li><span><a href=\"#Problem-statement:\" data-toc-modified-id=\"Problem-statement:-2\"><span class=\"toc-item-num\">2&nbsp;&nbsp;</span><strong>Problem statement</strong>:</a></span></li><li><span><a href=\"#Import-the-libraries\" data-toc-modified-id=\"Import-the-libraries-3\"><span class=\"toc-item-num\">3&nbsp;&nbsp;</span>Import the libraries</a></span></li><li><span><a href=\"#Preliminaries\" data-toc-modified-id=\"Preliminaries-4\"><span class=\"toc-item-num\">4&nbsp;&nbsp;</span>Preliminaries</a></span></li><li><span><a href=\"#Task-1\" data-toc-modified-id=\"Task-1-5\"><span class=\"toc-item-num\">5&nbsp;&nbsp;</span>Task 1</a></span><ul class=\"toc-item\"><li><span><a href=\"#Add-on:-Plot-of-the-probability-distribution-of-the-number-of-unsatisfactory-doses\" data-toc-modified-id=\"Add-on:-Plot-of-the-probability-distribution-of-the-number-of-unsatisfactory-doses-5.1\"><span class=\"toc-item-num\">5.1&nbsp;&nbsp;</span>Add-on: Plot of the probability distribution of the number of unsatisfactory doses</a></span></li><li><span><a href=\"#Probability-that-exactly-3-doses-will-not-do-the-satisfactory-job\" data-toc-modified-id=\"Probability-that-exactly-3-doses-will-not-do-the-satisfactory-job-5.2\"><span class=\"toc-item-num\">5.2&nbsp;&nbsp;</span>Probability that exactly 3 doses will not do the satisfactory job</a></span></li><li><span><a href=\"#Probability-that-at-most-3-doses-will-not-do-the-satisfactory-job\" data-toc-modified-id=\"Probability-that-at-most-3-doses-will-not-do-the-satisfactory-job-5.3\"><span class=\"toc-item-num\">5.3&nbsp;&nbsp;</span>Probability that at most 3 doses will not do the satisfactory job</a></span><ul class=\"toc-item\"><li><span><a href=\"#Using-the-stats.binom.cdf-function\" data-toc-modified-id=\"Using-the-stats.binom.cdf-function-5.3.1\"><span class=\"toc-item-num\">5.3.1&nbsp;&nbsp;</span>Using the stats.binom.cdf function</a></span></li><li><span><a href=\"#Summing-the-probabilities-of-ouctomes-0-to-3\" data-toc-modified-id=\"Summing-the-probabilities-of-ouctomes-0-to-3-5.3.2\"><span class=\"toc-item-num\">5.3.2&nbsp;&nbsp;</span>Summing the probabilities of ouctomes 0 to 3</a></span></li></ul></li></ul></li><li><span><a href=\"#Task-2\" data-toc-modified-id=\"Task-2-6\"><span class=\"toc-item-num\">6&nbsp;&nbsp;</span>Task 2</a></span><ul class=\"toc-item\"><li><span><a href=\"#Addendum:-plotting-the-distribution-of-the-number-of-unsatisfactory-doses\" data-toc-modified-id=\"Addendum:-plotting-the-distribution-of-the-number-of-unsatisfactory-doses-6.1\"><span class=\"toc-item-num\">6.1&nbsp;&nbsp;</span>Addendum: plotting the distribution of the number of unsatisfactory doses</a></span></li></ul></li><li><span><a href=\"#Task-3\" data-toc-modified-id=\"Task-3-7\"><span class=\"toc-item-num\">7&nbsp;&nbsp;</span>Task 3</a></span><ul class=\"toc-item\"><li><span><a href=\"#Data-Dictionary\" data-toc-modified-id=\"Data-Dictionary-7.1\"><span class=\"toc-item-num\">7.1&nbsp;&nbsp;</span>Data Dictionary</a></span></li><li><span><a href=\"#Reading-the-Sample-Data-into-the-DataFrame\" data-toc-modified-id=\"Reading-the-Sample-Data-into-the-DataFrame-7.2\"><span class=\"toc-item-num\">7.2&nbsp;&nbsp;</span>Reading the Sample Data into the DataFrame</a></span></li><li><span><a href=\"#Overview-of-the-dataset\" data-toc-modified-id=\"Overview-of-the-dataset-7.3\"><span class=\"toc-item-num\">7.3&nbsp;&nbsp;</span>Overview of the dataset</a></span></li><li><span><a href=\"#Distribution-of-the-time-of-effect\" data-toc-modified-id=\"Distribution-of-the-time-of-effect-7.4\"><span class=\"toc-item-num\">7.4&nbsp;&nbsp;</span>Distribution of the time of effect</a></span></li></ul></li><li><span><a href=\"#a)-Calculate-the-probability-that-a-dose-will-take--less-than-11.5-hours\" data-toc-modified-id=\"a)-Calculate-the-probability-that-a-dose-will-take--less-than-11.5-hours-8\"><span class=\"toc-item-num\">8&nbsp;&nbsp;</span>a) Calculate the probability that a dose will take  less than 11.5 hours</a></span></li><li><span><a href=\"#b)-What-is-the-90th-percentile-of-the-time-of-effect-for-doses?\" data-toc-modified-id=\"b)-What-is-the-90th-percentile-of-the-time-of-effect-for-doses?-9\"><span class=\"toc-item-num\">9&nbsp;&nbsp;</span>b) What is the 90th percentile of the time of effect for doses?</a></span></li></ul></div>"
   ]
  },
  {
   "cell_type": "markdown",
   "metadata": {},
   "source": [
    "<center><p float=\"center\">\n",
    "  <img src=\"https://upload.wikimedia.org/wikipedia/commons/e/e9/4_RGB_McCombs_School_Brand_Branded.png\" width=\"300\" height=\"100\"/>\n",
    "  <img src=\"https://mma.prnewswire.com/media/1458111/Great_Learning_Logo.jpg?p=facebook\" width=\"200\" height=\"100\"/>\n",
    "</p></center>\n",
    "\n",
    "<h1><center><font size=10>Business Statistics</center></font></h1>\n",
    "<h1><center>Inferential Statistics Foundations - Week 1</center></h1>"
   ]
  },
  {
   "cell_type": "markdown",
   "metadata": {},
   "source": [
    "<center><img src=\"https://cdn.pixabay.com/photo/2021/04/14/15/45/test-6178726_960_720.jpg\" width=\"1000\" height=\"600\"></center>\n",
    "\n",
    "<b><h2><center>Medicon Case Study</center></h2></b>"
   ]
  },
  {
   "cell_type": "markdown",
   "metadata": {
    "id": "7uTqu6UnZIuP"
   },
   "source": [
    "# **Context:** \n",
    "\n",
    "Pharmaceutical company Medicon has manufactured the sixth batch (40,000 units) of COVID-19 vaccine doses. This vaccine was clinically tested last quarter and around 2,00,000 doses of this vaccine have already been given to the people, in five batches. Now, this sixth batch of doses needs to be tested for their time of effect (which is measured as the time taken for the dose to completely cure COVID), as well as for quality assurance (which tells you whether the dose will be able to do a satisfactory job or not). [Please note that this is not a clinical trial, the vaccine has already cleared clinical trials. This batch test is to ensure the quality and effectiveness of the sixth batch] The company wants to plan for the next batch of doses. Let's understand the quality of this(sixth) batch. You are working with the quality assurance team of Medicon and want to understand the quality of the sixth batch.\n",
    "\n",
    "**Note:** Here, satisfactory job means that the dose is able to completely cure covid and it does not have any side effects.\n"
   ]
  },
  {
   "cell_type": "markdown",
   "metadata": {
    "id": "n5dtiaJdi1Y_"
   },
   "source": [
    "## **Problem statement**: \n",
    "\n",
    "\n",
    "From the previous analysis, it is found that a dose is 2 times more likely to produce a satisfactory result than not.\n",
    "\n",
    "**Task 1**: The Quality Assurance team has randomly selected 10 volunteers who were ready for the trial of the new batch and has given one dose to each volunteer. They want to understand the chances of doses being unsatisfactory by plotting the probability distribution of the number of unsatisfactory doses. They also want to find the probability that\n",
    "\n",
    "a) exactly 3 doses out of 10 will not do a satisfactory job\n",
    "\n",
    "b) at most 3 doses out of 10 will not do a satisfactory job\n",
    "\n",
    "**Task 2**: The New York City administration wants to buy 20 doses for healthcare workers who tested positive for COVID. They have contacted the company and requested 20 doses. The Quality Assurance team wants to find the probability that at least 11 doses will not do a satisfactory job out of the 20 doses\n",
    "\n",
    "**Task 3**: The Quality Assurance team wants to analyze the time of effect for doses. So, they have randomly selected 50 volunteers with the help of the city administration and given one dose to each volunteer. The times of effect of these 50 doses are stored in the 'doses.csv' file. Based on the sample data, they want to\n",
    "\n",
    "a) find the probability that the time of effect of a dose is less than 11.5 hours\n",
    "\n",
    "b) calculate the 90th percentile of time of effect for the doses, which will give the value below which lies the time of effect of 90% of the doses\n"
   ]
  },
  {
   "cell_type": "markdown",
   "metadata": {
    "id": "8FbHCKa_NBGQ"
   },
   "source": [
    "## Import the libraries "
   ]
  },
  {
   "cell_type": "code",
   "execution_count": 2,
   "metadata": {
    "id": "cNXGq81liYXe"
   },
   "outputs": [],
   "source": [
    "#import the important packages\n",
    "import pandas as pd #library used for data manipulation and analysis\n",
    "import numpy as np # library used for working with arrays.\n",
    "import matplotlib.pyplot as plt # library for plots and visualisations\n",
    "import seaborn as sns # library for visualisations\n",
    "\n",
    "import scipy.stats as stats # this library contains a large number of probability distributions as well as a growing library of statistical functions."
   ]
  },
  {
   "cell_type": "markdown",
   "metadata": {},
   "source": [
    "## Preliminaries"
   ]
  },
  {
   "cell_type": "markdown",
   "metadata": {},
   "source": [
    "We will be interested in the distribution of unsatisfactory doses (questions 1 and 2) as well as the time it takes for a dose to have an effect (question 3). \n",
    "\n",
    "A dose can be satsfactory or not. So testing a single dose is a trial for a Bernouilli distribution. More precisely, we have the following two outcomes:\n",
    "- Success or 1: the dose is unsatisfactory with a probability $p$\n",
    "- Failure or 0: the dose is satisfactory with a probability $1- p$"
   ]
  },
  {
   "cell_type": "markdown",
   "metadata": {},
   "source": [
    "Before answering the first two questions, we need to estimate the probability $p$. It is said that a dose is 2 times more likely to produce a satisfactory result than not, hence we have\n",
    "\n",
    "$$(1-p) = 2\\times p$$\n",
    "\n",
    "This yields $3p = 1$ or $p=1/3$."
   ]
  },
  {
   "cell_type": "code",
   "execution_count": 3,
   "metadata": {},
   "outputs": [],
   "source": [
    "# Probability of a sucess: a dose is unsatifactory\n",
    "p = 1/3"
   ]
  },
  {
   "cell_type": "markdown",
   "metadata": {},
   "source": [
    "In the follwing, we will test multiple doses for success or failure. It might be possible to use the Binomial distribution which consists of the independent repetition of a fixed number of Bernouilli trials. Are the assumptions of the Binomial distribution fullfilled ? Let's check them:\n",
    "\n",
    "- The number of trials is fixed (10 in question 1 and 20 in question 2) \n",
    "- Since a trial consists of providing a single dose to a single person, it is reasonable to assume that the outcome of the trials are independent of each others\n",
    "- The probability of a success is constant for all trials\n",
    "    \n",
    "The assumptions of the Binomial distribution hold and we can use it in questions 1 and 2. In the following, we define thus the following random variable:\n",
    "\n",
    "$X:$ the number of unsatisfactory doses out of $n$ doses"
   ]
  },
  {
   "cell_type": "markdown",
   "metadata": {},
   "source": [
    "In the following, remember how to use the fuctions pmf, pdf and cdf in scipy stats distributions\n",
    "- pmf (discrete) or pdf (continuous) is for the calculation of this probability $P(X = x)$ \n",
    "- cdf is for the calculation of this probability (Cumulative density) $P(X <= x)$ "
   ]
  },
  {
   "cell_type": "markdown",
   "metadata": {},
   "source": [
    "## Task 1"
   ]
  },
  {
   "cell_type": "markdown",
   "metadata": {},
   "source": [
    "Here we have 10 trials so n = 10"
   ]
  },
  {
   "cell_type": "code",
   "execution_count": 19,
   "metadata": {},
   "outputs": [],
   "source": [
    "# Number of trials for Question 1\n",
    "n = 10"
   ]
  },
  {
   "cell_type": "markdown",
   "metadata": {},
   "source": [
    "### Add-on: Plot of the probability distribution of the number of unsatisfactory doses"
   ]
  },
  {
   "cell_type": "markdown",
   "metadata": {},
   "source": [
    "We want to plot the distribution function $P(X = x)$ for all possible outcomes."
   ]
  },
  {
   "cell_type": "markdown",
   "metadata": {},
   "source": [
    "The number of unsatisfactory doses out of 10 doses takes the values from 0 and 10. Let's generate all possible outcomes"
   ]
  },
  {
   "cell_type": "code",
   "execution_count": 20,
   "metadata": {},
   "outputs": [
    {
     "data": {
      "text/plain": [
       "array([ 0,  1,  2,  3,  4,  5,  6,  7,  8,  9, 10])"
      ]
     },
     "execution_count": 20,
     "metadata": {},
     "output_type": "execute_result"
    }
   ],
   "source": [
    "## All possible outcomes of a Binomial experiment with n = 10\n",
    "k = np.arange(0, n + 1)\n",
    "k"
   ]
  },
  {
   "cell_type": "markdown",
   "metadata": {},
   "source": [
    "Let's now calculate the probability of each outcome using the stats.binom class of scipy"
   ]
  },
  {
   "cell_type": "code",
   "execution_count": 21,
   "metadata": {},
   "outputs": [],
   "source": [
    "binomial = stats.binom.pmf(k = k, n = n, p = p)"
   ]
  },
  {
   "cell_type": "code",
   "execution_count": 7,
   "metadata": {},
   "outputs": [
    {
     "data": {
      "text/plain": [
       "array([1.73415299e+00, 8.67076496e+00, 1.95092212e+01, 2.60122949e+01,\n",
       "       2.27607580e+01, 1.36564548e+01, 5.69018950e+00, 1.62576843e+00,\n",
       "       3.04831581e-01, 3.38701756e-02, 1.69350878e-03])"
      ]
     },
     "execution_count": 7,
     "metadata": {},
     "output_type": "execute_result"
    }
   ],
   "source": [
    "# Have the probabilities as percentages\n",
    "binomial*100"
   ]
  },
  {
   "cell_type": "markdown",
   "metadata": {
    "id": "LEtZ2aqQI6dZ"
   },
   "source": [
    "As you can see **binomial** is the array of probabilities for the different number of doses that will not do a satisfactory job. Let us visualize the same in the following plot."
   ]
  },
  {
   "cell_type": "code",
   "execution_count": 8,
   "metadata": {
    "colab": {
     "base_uri": "https://localhost:8080/",
     "height": 297
    },
    "id": "AsMrxVECI2zT",
    "outputId": "e9a6d85f-2c5d-4cbc-c156-651e2f1e6bd3"
   },
   "outputs": [
    {
     "data": {
      "image/png": "[encoded data removed]",
      "text/plain": [
       "<Figure size 432x288 with 1 Axes>"
      ]
     },
     "metadata": {
      "needs_background": "light"
     },
     "output_type": "display_data"
    }
   ],
   "source": [
    "# plot the distribution\n",
    "plt.bar(k,binomial)\n",
    "plt.title('Binomial: n=%i , p=%.2f' % (n,p), fontsize=15)\n",
    "plt.xlabel('Number of Doses')\n",
    "plt.ylabel('Probability that doses will not do a satisfactory job')\n",
    "# Adel add-on : plotting the mean, median and mode\n",
    "plt.axvline((binomial*k).sum(), color = 'b', label = 'mean')\n",
    "plt.axvline(np.argmax(binomial), color = 'r', label = 'mode')\n",
    "plt.axvline(np.where(binomial.cumsum()>= 0.5)[0][0], color = 'g', linestyle = ':', label = 'median')\n",
    "plt.legend()\n",
    "plt.show()"
   ]
  },
  {
   "cell_type": "markdown",
   "metadata": {},
   "source": [
    "**ADEL'S ADD-ON**: notice the following \n",
    "- The mean is equal to np ~ 3.33\n",
    "- The median is equal to $\\lfloor np\\rfloor = 3$ and $\\lceil np\\rceil = 3$\n",
    "- The mode is equal to $\\lfloor (n+1)p \\rfloor = 3$ and $\\lceil (n+1)p\\rceil - 1 = 3$ "
   ]
  },
  {
   "cell_type": "markdown",
   "metadata": {},
   "source": [
    "### Probability that exactly 3 doses will not do the satisfactory job"
   ]
  },
  {
   "cell_type": "markdown",
   "metadata": {},
   "source": [
    "We are interested in caluclating $P(X = 3)$"
   ]
  },
  {
   "cell_type": "markdown",
   "metadata": {},
   "source": [
    "This quantity has already been caluclated in the previous section. We had the following probability"
   ]
  },
  {
   "cell_type": "code",
   "execution_count": 22,
   "metadata": {},
   "outputs": [
    {
     "data": {
      "text/plain": [
       "0.2601229487374894"
      ]
     },
     "execution_count": 22,
     "metadata": {},
     "output_type": "execute_result"
    }
   ],
   "source": [
    "binomial[3]"
   ]
  },
  {
   "cell_type": "markdown",
   "metadata": {},
   "source": [
    "We could re-calculate it using the pmf function directly"
   ]
  },
  {
   "cell_type": "code",
   "execution_count": 24,
   "metadata": {},
   "outputs": [
    {
     "data": {
      "text/plain": [
       "0.2601229487374894"
      ]
     },
     "execution_count": 24,
     "metadata": {},
     "output_type": "execute_result"
    }
   ],
   "source": [
    "stats.binom.pmf(k = 3, n = n, p = p)"
   ]
  },
  {
   "cell_type": "markdown",
   "metadata": {},
   "source": [
    "So we have about 26.01% of having exactly 3 unsatisfactory doses out of 10. We could visualize this probability in the following graph"
   ]
  },
  {
   "cell_type": "code",
   "execution_count": 25,
   "metadata": {},
   "outputs": [
    {
     "data": {
      "image/png": "[encoded data removed]",
      "text/plain": [
       "<Figure size 432x288 with 1 Axes>"
      ]
     },
     "metadata": {
      "needs_background": "light"
     },
     "output_type": "display_data"
    }
   ],
   "source": [
    "# plot the probability distribution to better visualize the calculations\n",
    "barl=plt.bar(k,binomial)\n",
    "plt.title('Binomial: n=%i , p=%.2f' % (n,p), fontsize=15)\n",
    "plt.xlabel('Number of unsatisfactory doses')\n",
    "plt.ylabel('Probability')\n",
    "barl[3].set_color('r')\n",
    "plt.show()"
   ]
  },
  {
   "cell_type": "markdown",
   "metadata": {},
   "source": [
    "### Probability that at most 3 doses will not do the satisfactory job"
   ]
  },
  {
   "cell_type": "markdown",
   "metadata": {},
   "source": [
    "We are asked to calculate $P(X \\leq 3)$. We can do it in two ways."
   ]
  },
  {
   "cell_type": "markdown",
   "metadata": {},
   "source": [
    "#### Using the stats.binom.cdf function"
   ]
  },
  {
   "cell_type": "code",
   "execution_count": 9,
   "metadata": {},
   "outputs": [
    {
     "data": {
      "text/plain": [
       "0.5592643397856021"
      ]
     },
     "execution_count": 9,
     "metadata": {},
     "output_type": "execute_result"
    }
   ],
   "source": [
    "stats.binom.cdf(k = 3, n = n, p = p)"
   ]
  },
  {
   "cell_type": "markdown",
   "metadata": {
    "id": "bttPuQE-PvsY"
   },
   "source": [
    "*  55.93% is the probability that at most 3 doses will not do a satisfactory job."
   ]
  },
  {
   "cell_type": "markdown",
   "metadata": {},
   "source": [
    "#### Summing the probabilities of ouctomes 0 to 3"
   ]
  },
  {
   "cell_type": "code",
   "execution_count": 10,
   "metadata": {},
   "outputs": [
    {
     "data": {
      "text/plain": [
       "0.5592643397856022"
      ]
     },
     "execution_count": 10,
     "metadata": {},
     "output_type": "execute_result"
    }
   ],
   "source": [
    "binomial[0:4].sum()"
   ]
  },
  {
   "cell_type": "markdown",
   "metadata": {},
   "source": [
    "As can be seen, this yields the same results up to 14 leading digits"
   ]
  },
  {
   "cell_type": "code",
   "execution_count": 11,
   "metadata": {
    "colab": {
     "base_uri": "https://localhost:8080/",
     "height": 297
    },
    "id": "hzrA4Oz3J__y",
    "outputId": "0c6e5e34-857b-49cb-ef52-16ee84338aca"
   },
   "outputs": [
    {
     "data": {
      "image/png": "[encoded data removed]",
      "text/plain": [
       "<Figure size 432x288 with 1 Axes>"
      ]
     },
     "metadata": {
      "needs_background": "light"
     },
     "output_type": "display_data"
    }
   ],
   "source": [
    "# plot the probability distribution\n",
    "# We are plotting the distributions here to better visualize the calculations. \n",
    "# Of course you do not 'need' to create the following visualization to answer the question above. \n",
    "# You can directly use the cdf function for probability calculations.\n",
    "barl=plt.bar(k,binomial)\n",
    "plt.title('Binomial: n=%i , p=%.2f' % (n,p), fontsize=15)\n",
    "plt.xlabel('Number of Doses')\n",
    "plt.ylabel('Probability that doses will not do a satisfactory job')\n",
    "for i in range(0,4):\n",
    "   barl[i].set_color('r')\n",
    "plt.show()"
   ]
  },
  {
   "cell_type": "markdown",
   "metadata": {},
   "source": [
    "## Task 2"
   ]
  },
  {
   "cell_type": "markdown",
   "metadata": {},
   "source": [
    "Here the number of trials changes to n = 20"
   ]
  },
  {
   "cell_type": "code",
   "execution_count": 4,
   "metadata": {},
   "outputs": [],
   "source": [
    "# Setting the fixed number of trials for NYC doses\n",
    "n = 20"
   ]
  },
  {
   "cell_type": "markdown",
   "metadata": {},
   "source": [
    "The probability that at least 11 doses will not do a satisfactory job out of 20 is $P(X \\geq 11) = 1 - P(X \\leq 10)$. Hence, the answer to the question is"
   ]
  },
  {
   "cell_type": "code",
   "execution_count": 5,
   "metadata": {},
   "outputs": [
    {
     "data": {
      "text/plain": [
       "0.03763657109466334"
      ]
     },
     "execution_count": 5,
     "metadata": {},
     "output_type": "execute_result"
    }
   ],
   "source": [
    "1 - stats.binom.cdf(k = 10, n = n, p = p)"
   ]
  },
  {
   "cell_type": "code",
   "execution_count": 6,
   "metadata": {},
   "outputs": [
    {
     "data": {
      "text/plain": [
       "0.037636571094663465"
      ]
     },
     "execution_count": 6,
     "metadata": {},
     "output_type": "execute_result"
    }
   ],
   "source": [
    "stats.binom.sf(k = 10, n = n, p = p)"
   ]
  },
  {
   "cell_type": "markdown",
   "metadata": {
    "id": "E_2gaKjaLMGT"
   },
   "source": [
    "* There is 3.76 % chance that at least 11 doses will not do a satisfactory job out of 20 doses"
   ]
  },
  {
   "cell_type": "markdown",
   "metadata": {},
   "source": [
    "### Addendum: plotting the distribution of the number of unsatisfactory doses"
   ]
  },
  {
   "cell_type": "code",
   "execution_count": 14,
   "metadata": {
    "colab": {
     "base_uri": "https://localhost:8080/"
    },
    "id": "o8qJEipgQ3iI",
    "outputId": "e114f4fd-7c9d-4503-df35-a4b52da86823"
   },
   "outputs": [
    {
     "data": {
      "text/plain": [
       "array([ 0,  1,  2,  3,  4,  5,  6,  7,  8,  9, 10, 11, 12, 13, 14, 15, 16,\n",
       "       17, 18, 19, 20])"
      ]
     },
     "execution_count": 14,
     "metadata": {},
     "output_type": "execute_result"
    }
   ],
   "source": [
    "## All possible utcomes of a Binomial experiment with n = 20\n",
    "k=np.arange(0, n + 1)\n",
    "k"
   ]
  },
  {
   "cell_type": "code",
   "execution_count": 15,
   "metadata": {
    "id": "Y4pcrmVTRhde"
   },
   "outputs": [],
   "source": [
    "binomial = stats.binom.pmf(k = k,n = n, p = p)"
   ]
  },
  {
   "cell_type": "code",
   "execution_count": 16,
   "metadata": {},
   "outputs": [
    {
     "data": {
      "text/plain": [
       "0.037636571094663375"
      ]
     },
     "execution_count": 16,
     "metadata": {},
     "output_type": "execute_result"
    }
   ],
   "source": [
    "binomial[11:].sum()"
   ]
  },
  {
   "cell_type": "code",
   "execution_count": 17,
   "metadata": {
    "colab": {
     "base_uri": "https://localhost:8080/",
     "height": 297
    },
    "id": "Aj4naC37PjBx",
    "outputId": "88569be5-3085-4c36-b37a-980f3e2d86f6"
   },
   "outputs": [
    {
     "data": {
      "image/png": "[encoded data removed]",
      "text/plain": [
       "<Figure size 432x288 with 1 Axes>"
      ]
     },
     "metadata": {
      "needs_background": "light"
     },
     "output_type": "display_data"
    }
   ],
   "source": [
    "# plot the probability distribution\n",
    "# We are plotting the distributions here to better visualize the calculations. \n",
    "# Of course you do not 'need' to create the following visualization to answer the question above. \n",
    "# You can directly use the cdf function for probability calculations.\n",
    "barl=plt.bar(k,binomial)\n",
    "plt.title('Binomial: n=%i , p=%.2f' % (n,p), fontsize=15)\n",
    "plt.xlabel('Number of Doses')\n",
    "plt.ylabel('Probability that doses will not do a satisfactory job')\n",
    "for i in range(11,21):\n",
    "   barl[i].set_color('r')\n",
    "# Adel add-on : plotting the mean, median and mode\n",
    "plt.axvline((binomial*k).sum(), color = 'b', label = 'mean')\n",
    "plt.axvline(np.argmax(binomial), color = 'r', label = 'mode')\n",
    "plt.axvline(np.where(binomial.cumsum()>= 0.5)[0][0], color = 'g', linestyle = ':', label = 'median')\n",
    "plt.legend()\n",
    "plt.show()"
   ]
  },
  {
   "cell_type": "markdown",
   "metadata": {
    "id": "TEas5m-tQqcb"
   },
   "source": [
    "In the above graph, the red region represents P(X>=11)."
   ]
  },
  {
   "cell_type": "markdown",
   "metadata": {},
   "source": [
    "**ADEL'S ADD-ON**: notice the following \n",
    "- The mean is equal to np ~ 6,66\n",
    "- We have a median at $\\lceil np\\rceil = 7 = round(np)$\n",
    "- We have two modes $\\lfloor (n+1)p \\rfloor = 7$ and $\\lceil (n+1)p\\rceil - 1 = 6$ "
   ]
  },
  {
   "cell_type": "markdown",
   "metadata": {},
   "source": [
    "## Task 3"
   ]
  },
  {
   "cell_type": "markdown",
   "metadata": {
    "id": "xzjVtrmk9xaU"
   },
   "source": [
    "### Data Dictionary\n",
    "\n",
    "We are using the dataset which is randomly generated and having two features \n",
    "\n",
    "**drung_serial_number**: It represents the serial number of each dose and discrete in nature\n",
    "\n",
    "**time_of_effect**: It represents the time taken by dose to cure the COVID. It is in hours and continuous in nature."
   ]
  },
  {
   "cell_type": "markdown",
   "metadata": {
    "id": "PH9A8NlF8Bl_"
   },
   "source": [
    "### Reading the Sample Data into the DataFrame"
   ]
  },
  {
   "cell_type": "code",
   "execution_count": 8,
   "metadata": {
    "colab": {
     "base_uri": "https://localhost:8080/",
     "height": 195
    },
    "id": "E6b88UwqAfLM",
    "outputId": "b46ac624-71c4-4a75-9726-00cf5bf8b13e"
   },
   "outputs": [
    {
     "data": {
      "text/html": [
       "<div>\n",
       "<style scoped>\n",
       "    .dataframe tbody tr th:only-of-type {\n",
       "        vertical-align: middle;\n",
       "    }\n",
       "\n",
       "    .dataframe tbody tr th {\n",
       "        vertical-align: top;\n",
       "    }\n",
       "\n",
       "    .dataframe thead th {\n",
       "        text-align: right;\n",
       "    }\n",
       "</style>\n",
       "<table border=\"1\" class=\"dataframe\">\n",
       "  <thead>\n",
       "    <tr style=\"text-align: right;\">\n",
       "      <th></th>\n",
       "      <th>drug_serial_number</th>\n",
       "      <th>time_of_effect</th>\n",
       "    </tr>\n",
       "  </thead>\n",
       "  <tbody>\n",
       "    <tr>\n",
       "      <th>0</th>\n",
       "      <td>672</td>\n",
       "      <td>5.8</td>\n",
       "    </tr>\n",
       "    <tr>\n",
       "      <th>1</th>\n",
       "      <td>895</td>\n",
       "      <td>17.3</td>\n",
       "    </tr>\n",
       "    <tr>\n",
       "      <th>2</th>\n",
       "      <td>518</td>\n",
       "      <td>16.7</td>\n",
       "    </tr>\n",
       "    <tr>\n",
       "      <th>3</th>\n",
       "      <td>448</td>\n",
       "      <td>13.1</td>\n",
       "    </tr>\n",
       "    <tr>\n",
       "      <th>4</th>\n",
       "      <td>402</td>\n",
       "      <td>13.6</td>\n",
       "    </tr>\n",
       "  </tbody>\n",
       "</table>\n",
       "</div>"
      ],
      "text/plain": [
       "   drug_serial_number  time_of_effect\n",
       "0                 672             5.8\n",
       "1                 895            17.3\n",
       "2                 518            16.7\n",
       "3                 448            13.1\n",
       "4                 402            13.6"
      ]
     },
     "execution_count": 8,
     "metadata": {},
     "output_type": "execute_result"
    }
   ],
   "source": [
    "drug = pd.read_csv('doses.csv')\n",
    "drug.head()"
   ]
  },
  {
   "cell_type": "markdown",
   "metadata": {
    "id": "OiNQWmnx-bOQ"
   },
   "source": [
    "### Overview of the dataset"
   ]
  },
  {
   "cell_type": "code",
   "execution_count": 9,
   "metadata": {
    "colab": {
     "base_uri": "https://localhost:8080/"
    },
    "id": "08ZOa6zpAu-h",
    "outputId": "7a4d83f6-ed62-4182-84b6-d80a907c75db"
   },
   "outputs": [
    {
     "name": "stdout",
     "output_type": "stream",
     "text": [
      "<class 'pandas.core.frame.DataFrame'>\n",
      "RangeIndex: 50 entries, 0 to 49\n",
      "Data columns (total 2 columns):\n",
      "drug_serial_number    50 non-null int64\n",
      "time_of_effect        50 non-null float64\n",
      "dtypes: float64(1), int64(1)\n",
      "memory usage: 880.0 bytes\n"
     ]
    }
   ],
   "source": [
    "drug.info()"
   ]
  },
  {
   "cell_type": "markdown",
   "metadata": {
    "id": "X8Nu1fcmA4En"
   },
   "source": [
    "* As you can see from the result of the info function there no null values present in any of the columns"
   ]
  },
  {
   "cell_type": "markdown",
   "metadata": {},
   "source": [
    "### Distribution of the time of effect"
   ]
  },
  {
   "cell_type": "markdown",
   "metadata": {
    "id": "eKmM-Hv9KySo"
   },
   "source": [
    "Let's calculate some summary statistics of the time of effect variable. We will in particular calculate the mean, the median, the mode, the standard deviation and the kurtosis (how flat are the tails compared to the tails of a normal distribution)"
   ]
  },
  {
   "cell_type": "code",
   "execution_count": 10,
   "metadata": {
    "colab": {
     "base_uri": "https://localhost:8080/"
    },
    "id": "9JmSPFqkRodY",
    "outputId": "04056a79-0195-46c1-b1ad-5ca0c8427cae"
   },
   "outputs": [
    {
     "name": "stdout",
     "output_type": "stream",
     "text": [
      "The estimated mean is 13.44\n",
      "The estimated median is 13.2\n",
      "The estimated mode(s) is [15.5]\n",
      "The estimated standard deviation is 4.75\n",
      "The estimated kurtosis is -0.24\n"
     ]
    }
   ],
   "source": [
    "mu = drug['time_of_effect'].mean() \n",
    "median = drug['time_of_effect'].median() \n",
    "mode = drug['time_of_effect'].mode() \n",
    "sigma = drug['time_of_effect'].std()\n",
    "kurtosis = drug['time_of_effect'].kurt()\n",
    "print('The estimated mean is', round(mu,2))\n",
    "print('The estimated median is', round(median,2))\n",
    "print('The estimated mode(s) is', mode.values)\n",
    "print('The estimated standard deviation is', round(sigma,2))\n",
    "print('The estimated kurtosis is', round(kurtosis,2))"
   ]
  },
  {
   "cell_type": "markdown",
   "metadata": {},
   "source": [
    "It seems that the distribution of the time fo effect is slightly skewed and has thinner tails (negative kurtosis or Platykurtic) than a normal distribution"
   ]
  },
  {
   "cell_type": "markdown",
   "metadata": {
    "id": "COpe00rKM66m"
   },
   "source": [
    "It will help us analyze the shape of the distribution of time of effect for doses and compare it with a normal distribution. We will calculate the normal distribution probabilities for a range of values for the time of effect"
   ]
  },
  {
   "cell_type": "code",
   "execution_count": 11,
   "metadata": {},
   "outputs": [],
   "source": [
    "## Creating datapoints for a normal distribution with the same mean and standard deviation as our variable\n",
    "x = np.linspace(-5, 1.5*drug.time_of_effect.max(), 100)\n",
    "normal_dist = stats.norm.pdf(x, loc = mu, scale = sigma )"
   ]
  },
  {
   "cell_type": "code",
   "execution_count": 26,
   "metadata": {
    "colab": {
     "base_uri": "https://localhost:8080/",
     "height": 386
    },
    "id": "8X0snKzrC0pO",
    "outputId": "a75b4d5a-c665-4615-f955-f91d9f4fed9b"
   },
   "outputs": [
    {
     "data": {
      "text/plain": [
       "<matplotlib.legend.Legend at 0x7faedca81198>"
      ]
     },
     "execution_count": 26,
     "metadata": {},
     "output_type": "execute_result"
    },
    {
     "data": {
      "image/png": "[encoded data removed]",
      "text/plain": [
       "<Figure size 432x288 with 1 Axes>"
      ]
     },
     "metadata": {
      "needs_background": "light"
     },
     "output_type": "display_data"
    }
   ],
   "source": [
    "sns.distplot(drug['time_of_effect'], label = 'Emprirical KDE')\n",
    "sns.lineplot(x = x, y = normal_dist, color = 'red', label = 'Normal distribution')\n",
    "plt.legend()"
   ]
  },
  {
   "cell_type": "markdown",
   "metadata": {
    "id": "RuxwnAxMNZ2n"
   },
   "source": [
    "* As you can see in the above plot, the shape of the distribution is not perfectly normal (possibly because we just have 50 observations in the sample). But, we can assume this data distribution to be normal and perform our calculations based on the normality assumption.\n",
    "\n"
   ]
  },
  {
   "cell_type": "markdown",
   "metadata": {
    "id": "GjG-LOUgDtln"
   },
   "source": [
    "## a) Calculate the probability that a dose will take  less than 11.5 hours"
   ]
  },
  {
   "cell_type": "markdown",
   "metadata": {},
   "source": [
    "We are interested in $P(X < 11.5)$. For continous distribution, $P(X \\leq k) = P(X < k)$. Hence, $P(X < 11.5)=(X \\leq 11.5)$ and we can use the cdf() function to calulate the probability."
   ]
  },
  {
   "cell_type": "code",
   "execution_count": 27,
   "metadata": {
    "colab": {
     "base_uri": "https://localhost:8080/"
    },
    "id": "Rs6QKIKOLX4n",
    "outputId": "8003c6cd-362b-4052-f67b-e1f9bf151fde"
   },
   "outputs": [
    {
     "name": "stdout",
     "output_type": "stream",
     "text": [
      "The probability that a dose will take less than 11.5 is 0.3412\n"
     ]
    }
   ],
   "source": [
    "# find the cumulative probability\n",
    "# norm.cdf() calculates the cumulative probability\n",
    "prob = stats.norm.cdf(11.5, mu, sigma)\n",
    "print('The probability that a dose will take less than 11.5 is', round(prob, 4))"
   ]
  },
  {
   "cell_type": "markdown",
   "metadata": {},
   "source": [
    "**ADD-ON**"
   ]
  },
  {
   "cell_type": "markdown",
   "metadata": {},
   "source": [
    "If we estimate this probability from the data (without assumptions about the true distribution), we would get a similar value"
   ]
  },
  {
   "cell_type": "code",
   "execution_count": 27,
   "metadata": {},
   "outputs": [
    {
     "data": {
      "text/plain": [
       "0.34"
      ]
     },
     "execution_count": 27,
     "metadata": {},
     "output_type": "execute_result"
    }
   ],
   "source": [
    "(drug.time_of_effect <= 11.5).mean()"
   ]
  },
  {
   "cell_type": "markdown",
   "metadata": {},
   "source": [
    "This is the case because we have enough data around 11.5 to have a good estimate. However, for example, for a value 24, there are no observations in our sample and estimating $P(X <= 24)$ will yield exactly 0"
   ]
  },
  {
   "cell_type": "code",
   "execution_count": 28,
   "metadata": {},
   "outputs": [
    {
     "data": {
      "text/plain": [
       "0.0"
      ]
     },
     "execution_count": 28,
     "metadata": {},
     "output_type": "execute_result"
    }
   ],
   "source": [
    "(drug.time_of_effect >= 24).mean()"
   ]
  },
  {
   "cell_type": "markdown",
   "metadata": {},
   "source": [
    "Estimating from the assumed distribution yields a small but finite value for the probability"
   ]
  },
  {
   "cell_type": "code",
   "execution_count": 29,
   "metadata": {},
   "outputs": [
    {
     "data": {
      "text/plain": [
       "0.01304627843554873"
      ]
     },
     "execution_count": 29,
     "metadata": {},
     "output_type": "execute_result"
    }
   ],
   "source": [
    "1 - stats.norm.cdf(24, mu, sigma)"
   ]
  },
  {
   "cell_type": "markdown",
   "metadata": {},
   "source": [
    "Our sample is not big enough to account for events with such a small probability. We can expect to be able to account for events with a probability about 1/50=2%"
   ]
  },
  {
   "cell_type": "markdown",
   "metadata": {
    "id": "askOv-hMFB9X"
   },
   "source": [
    "## b) What is the 90th percentile of the time of effect for doses?"
   ]
  },
  {
   "cell_type": "markdown",
   "metadata": {},
   "source": [
    "We are interested in the value $k$ such that $P(X<=k) = 0.90$. We will use the `ppf()` function for this. `ppf()` stands for Percent Point Function and is the inverse form of the `cdf` function"
   ]
  },
  {
   "cell_type": "code",
   "execution_count": 30,
   "metadata": {
    "id": "7OLQd57CD2pg"
   },
   "outputs": [],
   "source": [
    "perc_90th = stats.norm.ppf(0.90, mu, sigma)"
   ]
  },
  {
   "cell_type": "code",
   "execution_count": 29,
   "metadata": {
    "colab": {
     "base_uri": "https://localhost:8080/"
    },
    "id": "g1cGPQHNEjHR",
    "outputId": "dabca7b9-82a7-4957-baa6-6c8df06c1bb6"
   },
   "outputs": [
    {
     "name": "stdout",
     "output_type": "stream",
     "text": [
      "The 90th percentile of the time of effect for doses is 19.52\n"
     ]
    }
   ],
   "source": [
    "print('The 90th percentile of the time of effect for doses is', round(perc_90th, 2))"
   ]
  },
  {
   "cell_type": "markdown",
   "metadata": {},
   "source": [
    "We could also estinate the eprcentile directly from the data without making an assumption about the underlying distribution"
   ]
  },
  {
   "cell_type": "code",
   "execution_count": 31,
   "metadata": {},
   "outputs": [
    {
     "data": {
      "text/plain": [
       "19.580000000000002"
      ]
     },
     "execution_count": 31,
     "metadata": {},
     "output_type": "execute_result"
    }
   ],
   "source": [
    "drug.time_of_effect.quantile(q=0.90)"
   ]
  },
  {
   "cell_type": "markdown",
   "metadata": {},
   "source": [
    "The result is very similar !"
   ]
  },
  {
   "cell_type": "markdown",
   "metadata": {},
   "source": [
    "**ADD-ON**"
   ]
  },
  {
   "cell_type": "markdown",
   "metadata": {},
   "source": [
    "Now suppose we want to estimate the quantile for a rarer event, say the 99.99% percentile. Since our sample has only 50 points, we cannot **reliably** estimate that percentile from the data. "
   ]
  },
  {
   "cell_type": "markdown",
   "metadata": {},
   "source": [
    "When estimating from the data, we find"
   ]
  },
  {
   "cell_type": "code",
   "execution_count": 32,
   "metadata": {},
   "outputs": [
    {
     "data": {
      "text/plain": [
       "23.79706"
      ]
     },
     "execution_count": 32,
     "metadata": {},
     "output_type": "execute_result"
    }
   ],
   "source": [
    "drug.time_of_effect.quantile(q=0.9999)"
   ]
  },
  {
   "cell_type": "markdown",
   "metadata": {},
   "source": [
    "Estimating from the assumed normal distribution yields"
   ]
  },
  {
   "cell_type": "code",
   "execution_count": 34,
   "metadata": {},
   "outputs": [
    {
     "data": {
      "text/plain": [
       "31.090697152553766"
      ]
     },
     "execution_count": 34,
     "metadata": {},
     "output_type": "execute_result"
    }
   ],
   "source": [
    "stats.norm.ppf(0.9999, mu, sigma)"
   ]
  },
  {
   "cell_type": "code",
   "execution_count": null,
   "metadata": {},
   "outputs": [],
   "source": []
  }
 ],
 "metadata": {
  "colab": {
   "collapsed_sections": [],
   "name": "Medicon_dose_testing.ipynb",
   "provenance": []
  },
  "kernelspec": {
   "display_name": "Python 3 (ipykernel)",
   "language": "python",
   "name": "python3"
  },
  "language_info": {
   "codemirror_mode": {
    "name": "ipython",
    "version": 3
   },
   "file_extension": ".py",
   "mimetype": "text/x-python",
   "name": "python",
   "nbconvert_exporter": "python",
   "pygments_lexer": "ipython3",
   "version": "3.9.12"
  },
  "toc": {
   "base_numbering": 1,
   "nav_menu": {},
   "number_sections": true,
   "sideBar": true,
   "skip_h1_title": true,
   "title_cell": "Table of Contents",
   "title_sidebar": "Contents",
   "toc_cell": true,
   "toc_position": {},
   "toc_section_display": true,
   "toc_window_display": true
  }
 },
 "nbformat": 4,
 "nbformat_minor": 1
}
